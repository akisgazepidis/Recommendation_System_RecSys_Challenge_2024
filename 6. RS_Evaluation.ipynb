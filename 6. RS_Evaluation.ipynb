{
 "cells": [
  {
   "cell_type": "code",
   "execution_count": 62,
   "metadata": {},
   "outputs": [],
   "source": [
    "import pandas as pd\n",
    "import numpy as np\n",
    "import pickle\n",
    "from tqdm import tqdm\n",
    "from sklearn.metrics import ndcg_score, roc_auc_score, roc_curve, auc\n",
    "tqdm.pandas()\n",
    "import matplotlib.pyplot as plt"
   ]
  },
  {
   "cell_type": "code",
   "execution_count": 63,
   "metadata": {},
   "outputs": [
    {
     "name": "stdout",
     "output_type": "stream",
     "text": [
      "Predictions df shape:                       (100, 7)\n"
     ]
    }
   ],
   "source": [
    "size = 'demo'\n",
    "type_ = 'validation'\n",
    "amount = 100\n",
    "predictions_df_path = f'./files/pickle/predictions_df_{size}_{type_}_{str(amount)}.pkl'\n",
    "predictions_df = pd.read_pickle(predictions_df_path)\n",
    "print('Predictions df shape:                      ',predictions_df.shape)"
   ]
  },
  {
   "cell_type": "code",
   "execution_count": 64,
   "metadata": {},
   "outputs": [
    {
     "data": {
      "text/plain": [
       "user_id\n",
       "1622906    4\n",
       "1594652    2\n",
       "1092441    2\n",
       "1412107    2\n",
       "110458     2\n",
       "Name: count, dtype: int64"
      ]
     },
     "execution_count": 64,
     "metadata": {},
     "output_type": "execute_result"
    }
   ],
   "source": [
    "predictions_df['user_id'].value_counts().head()"
   ]
  },
  {
   "cell_type": "code",
   "execution_count": 65,
   "metadata": {},
   "outputs": [
    {
     "data": {
      "text/plain": [
       "Index(['user_id', 'article_ids_inview', 'article_ids_clicked',\n",
       "       'Predicted_read_times', 'Predicted_tuples_sorted',\n",
       "       'Predicted_article_ids', 'Relevance'],\n",
       "      dtype='object')"
      ]
     },
     "execution_count": 65,
     "metadata": {},
     "output_type": "execute_result"
    }
   ],
   "source": [
    "predictions_df.columns"
   ]
  },
  {
   "cell_type": "code",
   "execution_count": 66,
   "metadata": {},
   "outputs": [
    {
     "data": {
      "text/html": [
       "<div>\n",
       "<style scoped>\n",
       "    .dataframe tbody tr th:only-of-type {\n",
       "        vertical-align: middle;\n",
       "    }\n",
       "\n",
       "    .dataframe tbody tr th {\n",
       "        vertical-align: top;\n",
       "    }\n",
       "\n",
       "    .dataframe thead th {\n",
       "        text-align: right;\n",
       "    }\n",
       "</style>\n",
       "<table border=\"1\" class=\"dataframe\">\n",
       "  <thead>\n",
       "    <tr style=\"text-align: right;\">\n",
       "      <th></th>\n",
       "      <th>user_id</th>\n",
       "      <th>article_ids_inview</th>\n",
       "      <th>article_ids_clicked</th>\n",
       "      <th>Predicted_read_times</th>\n",
       "      <th>Predicted_tuples_sorted</th>\n",
       "      <th>Predicted_article_ids</th>\n",
       "      <th>Relevance</th>\n",
       "    </tr>\n",
       "  </thead>\n",
       "  <tbody>\n",
       "    <tr>\n",
       "      <th>0</th>\n",
       "      <td>1579040</td>\n",
       "      <td>[9777910, 9779285, 9142564, 9754241, 9782319, ...</td>\n",
       "      <td>[9782361]</td>\n",
       "      <td>[28.534416, 28.534416, 28.534416, 28.534416, 2...</td>\n",
       "      <td>[(9777910, 28.534416), (9779285, 28.534416), (...</td>\n",
       "      <td>[9777910, 9779285, 9142564, 9754241, 9782319, ...</td>\n",
       "      <td>[0, 0, 0, 0, 0, 0, 0, 1, 0]</td>\n",
       "    </tr>\n",
       "    <tr>\n",
       "      <th>1</th>\n",
       "      <td>715376</td>\n",
       "      <td>[9788497, 9788188, 9788661, 8392487, 9787499, ...</td>\n",
       "      <td>[9788661]</td>\n",
       "      <td>[28.534416, 28.534416, 28.534416, 28.534416, 2...</td>\n",
       "      <td>[(9788497, 28.534416), (9788188, 28.534416), (...</td>\n",
       "      <td>[9788497, 9788188, 9788661, 8392487, 9787499, ...</td>\n",
       "      <td>[0, 0, 1, 0, 0, 0]</td>\n",
       "    </tr>\n",
       "    <tr>\n",
       "      <th>2</th>\n",
       "      <td>1918494</td>\n",
       "      <td>[9784696, 9783865, 9784591, 9784710, 9784702]</td>\n",
       "      <td>[9784696]</td>\n",
       "      <td>[28.534416, 28.534416, 28.534416, 28.534416, 2...</td>\n",
       "      <td>[(9784696, 28.534416), (9783865, 28.534416), (...</td>\n",
       "      <td>[9784696, 9783865, 9784591, 9784710, 9784702]</td>\n",
       "      <td>[1, 0, 0, 0, 0]</td>\n",
       "    </tr>\n",
       "    <tr>\n",
       "      <th>3</th>\n",
       "      <td>1532446</td>\n",
       "      <td>[9789702, 9789810, 9789747, 9789694, 9789711, ...</td>\n",
       "      <td>[9789702]</td>\n",
       "      <td>[28.534416, 28.534416, 28.534416, 28.534416, 2...</td>\n",
       "      <td>[(9789702, 28.534416), (9789810, 28.534416), (...</td>\n",
       "      <td>[9789702, 9789810, 9789747, 9789694, 9789711, ...</td>\n",
       "      <td>[1, 0, 0, 0, 0, 0, 0]</td>\n",
       "    </tr>\n",
       "    <tr>\n",
       "      <th>4</th>\n",
       "      <td>374121</td>\n",
       "      <td>[9789479, 9789427, 9789537, 9789481, 9780702, ...</td>\n",
       "      <td>[9789141]</td>\n",
       "      <td>[28.534416, 28.534416, 28.534416, 28.534416, 2...</td>\n",
       "      <td>[(9789479, 28.534416), (9789427, 28.534416), (...</td>\n",
       "      <td>[9789479, 9789427, 9789537, 9789481, 9780702, ...</td>\n",
       "      <td>[0, 0, 0, 0, 0, 0, 0, 0, 0]</td>\n",
       "    </tr>\n",
       "  </tbody>\n",
       "</table>\n",
       "</div>"
      ],
      "text/plain": [
       "   user_id                                 article_ids_inview  \\\n",
       "0  1579040  [9777910, 9779285, 9142564, 9754241, 9782319, ...   \n",
       "1   715376  [9788497, 9788188, 9788661, 8392487, 9787499, ...   \n",
       "2  1918494      [9784696, 9783865, 9784591, 9784710, 9784702]   \n",
       "3  1532446  [9789702, 9789810, 9789747, 9789694, 9789711, ...   \n",
       "4   374121  [9789479, 9789427, 9789537, 9789481, 9780702, ...   \n",
       "\n",
       "  article_ids_clicked                               Predicted_read_times  \\\n",
       "0           [9782361]  [28.534416, 28.534416, 28.534416, 28.534416, 2...   \n",
       "1           [9788661]  [28.534416, 28.534416, 28.534416, 28.534416, 2...   \n",
       "2           [9784696]  [28.534416, 28.534416, 28.534416, 28.534416, 2...   \n",
       "3           [9789702]  [28.534416, 28.534416, 28.534416, 28.534416, 2...   \n",
       "4           [9789141]  [28.534416, 28.534416, 28.534416, 28.534416, 2...   \n",
       "\n",
       "                             Predicted_tuples_sorted  \\\n",
       "0  [(9777910, 28.534416), (9779285, 28.534416), (...   \n",
       "1  [(9788497, 28.534416), (9788188, 28.534416), (...   \n",
       "2  [(9784696, 28.534416), (9783865, 28.534416), (...   \n",
       "3  [(9789702, 28.534416), (9789810, 28.534416), (...   \n",
       "4  [(9789479, 28.534416), (9789427, 28.534416), (...   \n",
       "\n",
       "                               Predicted_article_ids  \\\n",
       "0  [9777910, 9779285, 9142564, 9754241, 9782319, ...   \n",
       "1  [9788497, 9788188, 9788661, 8392487, 9787499, ...   \n",
       "2      [9784696, 9783865, 9784591, 9784710, 9784702]   \n",
       "3  [9789702, 9789810, 9789747, 9789694, 9789711, ...   \n",
       "4  [9789479, 9789427, 9789537, 9789481, 9780702, ...   \n",
       "\n",
       "                     Relevance  \n",
       "0  [0, 0, 0, 0, 0, 0, 0, 1, 0]  \n",
       "1           [0, 0, 1, 0, 0, 0]  \n",
       "2              [1, 0, 0, 0, 0]  \n",
       "3        [1, 0, 0, 0, 0, 0, 0]  \n",
       "4  [0, 0, 0, 0, 0, 0, 0, 0, 0]  "
      ]
     },
     "execution_count": 66,
     "metadata": {},
     "output_type": "execute_result"
    }
   ],
   "source": [
    "predictions_df.head()"
   ]
  },
  {
   "cell_type": "code",
   "execution_count": 67,
   "metadata": {},
   "outputs": [],
   "source": [
    "# Evaluation metrics\n",
    "\n",
    "def get_reciprocal_rank(row):\n",
    "    predicted_item_list = row['Predicted_article_ids']\n",
    "    clicked_article = row['article_ids_clicked'][0]\n",
    "    try:\n",
    "        index = predicted_item_list.index(clicked_article)\n",
    "        # Return the reciprocal rank\n",
    "        return 1 / (index + 1)\n",
    "    except ValueError:\n",
    "        # If the clicked article is not in the predicted list, return 0\n",
    "        return 0\n",
    "    \n",
    "def calculate_precision(target, predictions):\n",
    "    tp = predictions.count(target)  # Count true positives\n",
    "    fp = len(predictions) - tp  # Calculate false positives\n",
    "    precision = tp / (tp + fp) if (tp + fp) > 0 else 0  # Compute precision\n",
    "    return precision\n",
    "\n",
    "def calculate_recall(target, predictions):\n",
    "    tp = predictions.count(target)  # True Positives: target in predictions\n",
    "    fn = 1 if tp == 0 else 0  # False Negatives: target not in predictions\n",
    "    recall = tp / (tp + fn) if (tp + fn) > 0 else 0  # Compute recall\n",
    "    return recall\n",
    "\n",
    "# Function to calculate DCG\n",
    "def dcg(relevances, k):\n",
    "    relevances = np.asfarray(relevances)[:k]\n",
    "    if relevances.size:\n",
    "        return np.sum(relevances / np.log2(np.arange(2, relevances.size + 2)))\n",
    "    return 0.\n",
    "\n",
    "# Function to calculate IDCG\n",
    "def idcg(relevances, k):\n",
    "    relevances = sorted(relevances, reverse=True)\n",
    "    return dcg(relevances, k)\n",
    "\n",
    "# Function to calculate NDCG\n",
    "def ndcg(relevances, k):\n",
    "    dcg_score = dcg(relevances, k)\n",
    "    idcg_score = idcg(relevances, k)\n",
    "    if idcg_score == 0:\n",
    "        return 0.\n",
    "    return dcg_score / idcg_score\n",
    "\n",
    "def calculate_ndcg(row, k=10):\n",
    "    relevances = row['Relevance']\n",
    "    return ndcg(relevances, k)"
   ]
  },
  {
   "cell_type": "code",
   "execution_count": 68,
   "metadata": {},
   "outputs": [
    {
     "name": "stderr",
     "output_type": "stream",
     "text": [
      "100%|██████████| 100/100 [00:00<00:00, 11108.09it/s]\n",
      "100%|██████████| 100/100 [00:00<00:00, 33364.92it/s]\n",
      "100%|██████████| 100/100 [00:00<00:00, 33364.92it/s]\n"
     ]
    },
    {
     "data": {
      "text/html": [
       "<div>\n",
       "<style scoped>\n",
       "    .dataframe tbody tr th:only-of-type {\n",
       "        vertical-align: middle;\n",
       "    }\n",
       "\n",
       "    .dataframe tbody tr th {\n",
       "        vertical-align: top;\n",
       "    }\n",
       "\n",
       "    .dataframe thead th {\n",
       "        text-align: right;\n",
       "    }\n",
       "</style>\n",
       "<table border=\"1\" class=\"dataframe\">\n",
       "  <thead>\n",
       "    <tr style=\"text-align: right;\">\n",
       "      <th></th>\n",
       "      <th>user_id</th>\n",
       "      <th>article_ids_inview</th>\n",
       "      <th>article_ids_clicked</th>\n",
       "      <th>Predicted_read_times</th>\n",
       "      <th>Predicted_tuples_sorted</th>\n",
       "      <th>Predicted_article_ids</th>\n",
       "      <th>Relevance</th>\n",
       "      <th>MMR_rank</th>\n",
       "      <th>Precision@10</th>\n",
       "      <th>Recall@10</th>\n",
       "      <th>NDCG@10</th>\n",
       "    </tr>\n",
       "  </thead>\n",
       "  <tbody>\n",
       "    <tr>\n",
       "      <th>0</th>\n",
       "      <td>1579040</td>\n",
       "      <td>[9777910, 9779285, 9142564, 9754241, 9782319, ...</td>\n",
       "      <td>[9782361]</td>\n",
       "      <td>[28.534416, 28.534416, 28.534416, 28.534416, 2...</td>\n",
       "      <td>[(9777910, 28.534416), (9779285, 28.534416), (...</td>\n",
       "      <td>[9777910, 9779285, 9142564, 9754241, 9782319, ...</td>\n",
       "      <td>[0, 0, 0, 0, 0, 0, 0, 1, 0]</td>\n",
       "      <td>0.125000</td>\n",
       "      <td>0.111111</td>\n",
       "      <td>1.0</td>\n",
       "      <td>0.315465</td>\n",
       "    </tr>\n",
       "    <tr>\n",
       "      <th>1</th>\n",
       "      <td>715376</td>\n",
       "      <td>[9788497, 9788188, 9788661, 8392487, 9787499, ...</td>\n",
       "      <td>[9788661]</td>\n",
       "      <td>[28.534416, 28.534416, 28.534416, 28.534416, 2...</td>\n",
       "      <td>[(9788497, 28.534416), (9788188, 28.534416), (...</td>\n",
       "      <td>[9788497, 9788188, 9788661, 8392487, 9787499, ...</td>\n",
       "      <td>[0, 0, 1, 0, 0, 0]</td>\n",
       "      <td>0.333333</td>\n",
       "      <td>0.166667</td>\n",
       "      <td>1.0</td>\n",
       "      <td>0.500000</td>\n",
       "    </tr>\n",
       "  </tbody>\n",
       "</table>\n",
       "</div>"
      ],
      "text/plain": [
       "   user_id                                 article_ids_inview  \\\n",
       "0  1579040  [9777910, 9779285, 9142564, 9754241, 9782319, ...   \n",
       "1   715376  [9788497, 9788188, 9788661, 8392487, 9787499, ...   \n",
       "\n",
       "  article_ids_clicked                               Predicted_read_times  \\\n",
       "0           [9782361]  [28.534416, 28.534416, 28.534416, 28.534416, 2...   \n",
       "1           [9788661]  [28.534416, 28.534416, 28.534416, 28.534416, 2...   \n",
       "\n",
       "                             Predicted_tuples_sorted  \\\n",
       "0  [(9777910, 28.534416), (9779285, 28.534416), (...   \n",
       "1  [(9788497, 28.534416), (9788188, 28.534416), (...   \n",
       "\n",
       "                               Predicted_article_ids  \\\n",
       "0  [9777910, 9779285, 9142564, 9754241, 9782319, ...   \n",
       "1  [9788497, 9788188, 9788661, 8392487, 9787499, ...   \n",
       "\n",
       "                     Relevance  MMR_rank  Precision@10  Recall@10   NDCG@10  \n",
       "0  [0, 0, 0, 0, 0, 0, 0, 1, 0]  0.125000      0.111111        1.0  0.315465  \n",
       "1           [0, 0, 1, 0, 0, 0]  0.333333      0.166667        1.0  0.500000  "
      ]
     },
     "execution_count": 68,
     "metadata": {},
     "output_type": "execute_result"
    }
   ],
   "source": [
    "predictions_df['MMR_rank'] = predictions_df.progress_apply(get_reciprocal_rank,axis=1)\n",
    "predictions_df['Precision@10']= predictions_df.progress_apply(lambda row: calculate_precision(row['article_ids_clicked'][0],row['Predicted_article_ids']),axis=1)\n",
    "predictions_df['Recall@10']= predictions_df.progress_apply(lambda row: calculate_recall(row['article_ids_clicked'][0],row['Predicted_article_ids']),axis=1)\n",
    "# Apply the calculate_ndcg function to each row and create a new column 'NDCG@10'\n",
    "predictions_df['NDCG@10'] = predictions_df.apply(calculate_ndcg, axis=1)\n",
    "predictions_df.head(2)\n"
   ]
  },
  {
   "cell_type": "code",
   "execution_count": 69,
   "metadata": {},
   "outputs": [],
   "source": [
    "predictions_df_per_user = predictions_df.groupby('user_id')[['MMR_rank', 'Precision@10', 'Recall@10','NDCG@10']].mean()"
   ]
  },
  {
   "cell_type": "code",
   "execution_count": 70,
   "metadata": {},
   "outputs": [
    {
     "data": {
      "text/html": [
       "<div>\n",
       "<style scoped>\n",
       "    .dataframe tbody tr th:only-of-type {\n",
       "        vertical-align: middle;\n",
       "    }\n",
       "\n",
       "    .dataframe tbody tr th {\n",
       "        vertical-align: top;\n",
       "    }\n",
       "\n",
       "    .dataframe thead th {\n",
       "        text-align: right;\n",
       "    }\n",
       "</style>\n",
       "<table border=\"1\" class=\"dataframe\">\n",
       "  <thead>\n",
       "    <tr style=\"text-align: right;\">\n",
       "      <th></th>\n",
       "      <th>MMR_rank</th>\n",
       "      <th>Precision@10</th>\n",
       "      <th>Recall@10</th>\n",
       "      <th>NDCG@10</th>\n",
       "    </tr>\n",
       "    <tr>\n",
       "      <th>user_id</th>\n",
       "      <th></th>\n",
       "      <th></th>\n",
       "      <th></th>\n",
       "      <th></th>\n",
       "    </tr>\n",
       "  </thead>\n",
       "  <tbody>\n",
       "    <tr>\n",
       "      <th>25809</th>\n",
       "      <td>1.000000</td>\n",
       "      <td>0.200000</td>\n",
       "      <td>1.0</td>\n",
       "      <td>1.000000</td>\n",
       "    </tr>\n",
       "    <tr>\n",
       "      <th>81492</th>\n",
       "      <td>0.142857</td>\n",
       "      <td>0.142857</td>\n",
       "      <td>1.0</td>\n",
       "      <td>0.333333</td>\n",
       "    </tr>\n",
       "  </tbody>\n",
       "</table>\n",
       "</div>"
      ],
      "text/plain": [
       "         MMR_rank  Precision@10  Recall@10   NDCG@10\n",
       "user_id                                             \n",
       "25809    1.000000      0.200000        1.0  1.000000\n",
       "81492    0.142857      0.142857        1.0  0.333333"
      ]
     },
     "execution_count": 70,
     "metadata": {},
     "output_type": "execute_result"
    }
   ],
   "source": [
    "predictions_df_per_user.head(2)"
   ]
  },
  {
   "cell_type": "code",
   "execution_count": 71,
   "metadata": {},
   "outputs": [
    {
     "data": {
      "image/png": "[encoded data removed]",
      "text/plain": [
       "<Figure size 640x480 with 1 Axes>"
      ]
     },
     "metadata": {},
     "output_type": "display_data"
    }
   ],
   "source": [
    "# Function to prepare data for AUC calculation\n",
    "def prepare_auc_data(df):\n",
    "    auc_data = []\n",
    "    for idx, row in df.iterrows():\n",
    "        clicked_article = row['article_ids_clicked'][0]\n",
    "        predictions = row['Predicted_article_ids']\n",
    "        for rank, article in enumerate(predictions, start=1):\n",
    "            score = 1 / rank  # Higher rank (lower index) gets higher score\n",
    "            label = 1 if article == clicked_article else 0\n",
    "            auc_data.append([row['user_id'], article, score, label])\n",
    "    return pd.DataFrame(auc_data, columns=['user_id', 'article', 'score', 'label'])\n",
    "\n",
    "# Prepare the data for AUC calculation\n",
    "auc_df = prepare_auc_data(predictions_df)\n",
    "\n",
    "# Aggregate data for overall ROC curve\n",
    "all_labels = auc_df['label']\n",
    "all_scores = auc_df['score']\n",
    "\n",
    "# Compute ROC curve and AUC\n",
    "fpr, tpr, _ = roc_curve(all_labels, all_scores)\n",
    "roc_auc = auc(fpr, tpr)\n",
    "\n",
    "# Plot ROC curve\n",
    "plt.figure()\n",
    "lw = 2\n",
    "plt.plot(fpr, tpr, color='darkorange', lw=lw, label=f'Overall ROC curve (AUC = {roc_auc:.2f})')\n",
    "plt.plot([0, 1], [0, 1], color='navy', lw=lw, linestyle='--')\n",
    "plt.xlim([0.0, 1.0])\n",
    "plt.ylim([0.0, 1.05])\n",
    "plt.xlabel('False Positive Rate')\n",
    "plt.ylabel('True Positive Rate')\n",
    "plt.title('Overall ROC Curve')\n",
    "plt.legend(loc=\"lower right\")\n",
    "plt.show()"
   ]
  },
  {
   "cell_type": "code",
   "execution_count": 72,
   "metadata": {},
   "outputs": [
    {
     "name": "stdout",
     "output_type": "stream",
     "text": [
      "Mean AUC: 0.49\n"
     ]
    },
    {
     "data": {
      "image/png": "[encoded data removed]",
      "text/plain": [
       "<Figure size 640x480 with 1 Axes>"
      ]
     },
     "metadata": {},
     "output_type": "display_data"
    }
   ],
   "source": [
    "# Function to prepare data for AUC calculation\n",
    "def prepare_auc_data(df):\n",
    "    auc_data = []\n",
    "    for idx, row in df.iterrows():\n",
    "        clicked_article = row['article_ids_clicked'][0]\n",
    "        predictions = row['Predicted_article_ids']\n",
    "        for rank, article in enumerate(predictions, start=1):\n",
    "            score = 1 / rank  # Higher rank (lower index) gets higher score\n",
    "            label = 1 if article == clicked_article else 0\n",
    "            auc_data.append([row['user_id'], article, score, label])\n",
    "    return pd.DataFrame(auc_data, columns=['user_id', 'article', 'score', 'label'])\n",
    "\n",
    "# Prepare the data for AUC calculation\n",
    "auc_df = prepare_auc_data(predictions_df)\n",
    "\n",
    "# Lists to store AUC, FPR, TPR for each user\n",
    "auc_scores = []\n",
    "mean_fpr = np.linspace(0, 1, 100)\n",
    "tprs = []\n",
    "\n",
    "# Compute ROC curve for each user\n",
    "for user_id, group in auc_df.groupby('user_id'):\n",
    "    labels = group['label'].values  # Ensure labels are in array format\n",
    "    scores = group['score'].values  # Ensure scores are in array format\n",
    "    \n",
    "    # Check for positive samples\n",
    "    if np.sum(labels) > 0:\n",
    "        fpr, tpr, _ = roc_curve(labels, scores)\n",
    "        roc_auc = auc(fpr, tpr)\n",
    "        auc_scores.append(roc_auc)\n",
    "        tprs.append(np.interp(mean_fpr, fpr, tpr))  # Interpolate TPR values\n",
    "\n",
    "# Check if auc_scores is not empty before computing mean_auc\n",
    "if auc_scores:\n",
    "    mean_tpr = np.mean(tprs, axis=0)\n",
    "    mean_auc = np.mean(auc_scores)\n",
    "    print(f'Mean AUC: {mean_auc:.2f}')\n",
    "\n",
    "    # Plot mean ROC curve\n",
    "    plt.figure()\n",
    "    lw = 2\n",
    "    plt.plot(mean_fpr, mean_tpr, color='darkorange', lw=lw, label=f'Mean ROC curve (AUC = {mean_auc:.2f})')\n",
    "    plt.plot([0, 1], [0, 1], color='navy', lw=lw, linestyle='--')\n",
    "    plt.xlim([0.0, 1.0])\n",
    "    plt.ylim([0.0, 1.05])\n",
    "    plt.xlabel('False Positive Rate')\n",
    "    plt.ylabel('True Positive Rate')\n",
    "    plt.title('Mean ROC Curve')\n",
    "    plt.legend(loc=\"lower right\")\n",
    "    plt.show()\n",
    "else:\n",
    "    print('No valid AUC scores found.')"
   ]
  },
  {
   "cell_type": "code",
   "execution_count": 73,
   "metadata": {},
   "outputs": [
    {
     "name": "stdout",
     "output_type": "stream",
     "text": [
      "MRR@10:  0.30379330943847066\n",
      "Precision@10:  0.1111153780508619\n",
      "Recall@10:  0.8145161290322581\n",
      "F1_Score@10:  0.19555355865347995\n",
      "NDCG_10@10:  0.4226402406991972\n",
      "roc_auc : 0.49053151817126983\n"
     ]
    }
   ],
   "source": [
    "mrr_10 = predictions_df_per_user['MMR_rank'].mean()\n",
    "precision_10 = predictions_df_per_user['Precision@10'].mean()\n",
    "recall_10 = predictions_df_per_user['Recall@10'].mean()\n",
    "NDCG_10 = predictions_df_per_user['NDCG@10'].mean()\n",
    "\n",
    "f1_score_10 = (2*precision_10*recall_10)/ (precision_10 + recall_10)\n",
    "\n",
    "print(\"MRR@10: \", mrr_10)\n",
    "print(\"Precision@10: \", precision_10)\n",
    "print(\"Recall@10: \", recall_10)\n",
    "print(\"F1_Score@10: \", f1_score_10)\n",
    "print(\"NDCG_10@10: \", NDCG_10)\n",
    "print(\"roc_auc :\", mean_auc)"
   ]
  },
  {
   "cell_type": "markdown",
   "metadata": {},
   "source": [
    "### Interpretation-Learning Rate\n",
    "\n",
    "- An MRR of approximately  0.303 means that, on average, the true positive item is found at about the third position in the recommendation list (since 1/0.299≈3.34). This is a reasonably good result, indicating that the recommender system often ranks the relevant items near the top of the recommendation list.\n",
    "\n",
    "- A Precision@10 of approximately  0.119 means that about 12.8% of the items in the top 10 recommendations are relevant. This indicates that for every 10 items recommended, around 1.28 items are relevant. This precision value suggests that there is room for improvement in terms of recommending more relevant items in the top 10.\n",
    "\n",
    "- A Recall@10 of 0.815 means that the recommender system successfully identifies 86% of the relevant items within the top 10 recommendations. This high recall value indicates that the system is very effective at finding relevant items, though they may not always be ranked at the very top of the list.\n",
    "\n",
    "- 0.49"
   ]
  },
  {
   "cell_type": "markdown",
   "metadata": {},
   "source": [
    "### Interpretation-Document Embeddings\n",
    "\n",
    "- An MRR of approximately  0.331 means that, on average, the true positive item is found at about the third position in the recommendation list (since 1/0.299≈3.34). This is a reasonably good result, indicating that the recommender system often ranks the relevant items near the top of the recommendation list.\n",
    "\n",
    "- A Precision@10 of approximately  0.119 means that about 12.8% of the items in the top 10 recommendations are relevant. This indicates that for every 10 items recommended, around 1.28 items are relevant. This precision value suggests that there is room for improvement in terms of recommending more relevant items in the top 10.\n",
    "\n",
    "- A Recall@10 of 0.815 means that the recommender system successfully identifies 86% of the relevant items within the top 10 recommendations. This high recall value indicates that the system is very effective at finding relevant items, though they may not always be ranked at the very top of the list.\n",
    "\n",
    "- 0.55"
   ]
  },
  {
   "cell_type": "markdown",
   "metadata": {},
   "source": [
    "### Interpretation-Dropout\n",
    "\n",
    "- An MRR of approximately 0.3103 means that, on average, the true positive item is found at about the third position in the recommendation list (since 1/0.299≈3.34). This is a reasonably good result, indicating that the recommender system often ranks the relevant items near the top of the recommendation list.\n",
    "\n",
    "- A Precision@10 of approximately 0.119 means that about 12.8% of the items in the top 10 recommendations are relevant. This indicates that for every 10 items recommended, around 1.28 items are relevant. This precision value suggests that there is room for improvement in terms of recommending more relevant items in the top 10.\n",
    "\n",
    "- A Recall@10 of 0.80 means that the recommender system successfully identifies 86% of the relevant items within the top 10 recommendations. This high recall value indicates that the system is very effective at finding relevant items, though they may not always be ranked at the very top of the list.\n",
    "\n",
    "- AUC 0.57"
   ]
  },
  {
   "cell_type": "markdown",
   "metadata": {},
   "source": [
    "### Interpretation-OuterJoin\n",
    "\n",
    "- An MRR of approximately 0.3102 means that, on average, the true positive item is found at about the third position in the recommendation list (since 1/0.299≈3.34). This is a reasonably good result, indicating that the recommender system often ranks the relevant items near the top of the recommendation list.\n",
    "\n",
    "- A Precision@10 of approximately 0.118 means that about 12.8% of the items in the top 10 recommendations are relevant. This indicates that for every 10 items recommended, around 1.28 items are relevant. This precision value suggests that there is room for improvement in terms of recommending more relevant items in the top 10.\n",
    "\n",
    "- A Recall@10 of 0.79 means that the recommender system successfully identifies 86% of the relevant items within the top 10 recommendations. This high recall value indicates that the system is very effective at finding relevant items, though they may not always be ranked at the very top of the list."
   ]
  },
  {
   "cell_type": "markdown",
   "metadata": {},
   "source": [
    "### Interpretation\n",
    "\n",
    "- An MRR of approximately 0.299 means that, on average, the true positive item is found at about the third position in the recommendation list (since 1/0.299≈3.34). This is a reasonably good result, indicating that the recommender system often ranks the relevant items near the top of the recommendation list.\n",
    "\n",
    "- A Precision@10 of approximately 0.128 means that about 12.8% of the items in the top 10 recommendations are relevant. This indicates that for every 10 items recommended, around 1.28 items are relevant. This precision value suggests that there is room for improvement in terms of recommending more relevant items in the top 10.\n",
    "\n",
    "- A Recall@10 of 0.86 means that the recommender system successfully identifies 86% of the relevant items within the top 10 recommendations. This high recall value indicates that the system is very effective at finding relevant items, though they may not always be ranked at the very top of the list."
   ]
  },
  {
   "cell_type": "markdown",
   "metadata": {},
   "source": [
    "### Overall Interpretation\n",
    "- MRR (0.299): The relevant items are generally ranked around the third position on average.\n",
    "- Precision@10 (0.128): About 12.8% of the top 10 recommendations are relevant, indicating room for improvement in the quality of top recommendations.\n",
    "- Recall@10 (0.86): The system successfully finds 86% of the relevant items within the top 10 recommendations, showing strong recall performance."
   ]
  },
  {
   "cell_type": "markdown",
   "metadata": {},
   "source": [
    "To improve precision and MRR for your recommender system, you can consider various strategies that involve improving your preprocessing, model, and recommendation logic. Here are some approaches:\n",
    "\n",
    "1. Data Preprocessing Improvements\n",
    "    1. Feature Engineering:\n",
    "\n",
    "        - Add More Features: Incorporate additional features that could influence reading time predictions, such as article length, topic, author, publication date, user preferences, etc.\n",
    "        - Normalization and Scaling: Ensure that your features are properly normalized and scaled to help the model learn more effectively.\n",
    "        - Categorical Features: Use techniques like one-hot encoding or embeddings for categorical features (e.g., article categories or authors).\n",
    "\n",
    "    2. Data Cleaning:\n",
    "\n",
    "        - Remove Outliers: Identify and remove or handle outliers in reading times to ensure the model isn’t biased by extreme values.\n",
    "        - Handle Missing Values: Ensure any missing values in the dataset are properly handled through imputation or removal.\n",
    "\n",
    "    3. Data Augmentation:\n",
    "\n",
    "        - Synthetic Data: If your dataset is small, consider generating synthetic data to improve model training.\n",
    "\n",
    "2. Model Improvements\n",
    "\n",
    "    1. Model Architecture:\n",
    "\n",
    "        - Experiment with Different Architectures: Try different neural network architectures such as deeper networks, recurrent neural networks (RNNs), transformers, etc.\n",
    "    - Hyperparameter Tuning: Perform hyperparameter tuning to find the optimal parameters for your model (learning rate, batch size, number of layers, units per layer, etc.).\n",
    "\n",
    "    2. Training Techniques:\n",
    "\n",
    "        - Regularization: Use regularization techniques like dropout, L2 regularization, and early stopping to prevent overfitting.\n",
    "        - Ensemble Methods: Combine predictions from multiple models using ensemble methods (e.g., bagging, boosting) to improve accuracy and robustness.\n",
    "\n",
    "3. Recommendation Logic Improvements\n",
    "\n",
    "    1. Post-Processing Predictions:\n",
    "\n",
    "        - Re-Ranking: After predicting reading times, re-rank articles using additional criteria such as user preferences, recent trends, or article popularity.\n",
    "        - Hybrid Recommendations:\n",
    "\n",
    "        - Combine Models: Use a hybrid approach that combines collaborative filtering, content-based filtering, and your read time prediction model to recommend articles."
   ]
  },
  {
   "cell_type": "code",
   "execution_count": 11,
   "metadata": {},
   "outputs": [],
   "source": [
    "\n",
    "### Feature engineering\n",
    "## 1. Outlier Detection - Trained with read time <60 no such improvement \n",
    "## 2. Scroll percentage * read time-zero percentage what to do (NaN-not a good idea)- Not improved\n",
    "## 3. Normalize-scaling - Not improved\n",
    "## 4. Threshold - 600- -Test 120 \n",
    "## 5. Outer join - Done - Improved a little \n",
    "## 6. Check for multiple articles for the same user - \n",
    "\n",
    "\n",
    "### Model Architecture\n",
    "## 1. Learning Rate - Tested not grete improvement\n",
    "## 2. Early Stopping - Not improved\n",
    "## 3. Dropout - Improved\n",
    "## 4. Add more Dense,Layers - Later on\n",
    "## 5. Timestamps-LSTM \n",
    "## 6. Batch Normalization\n",
    "\n",
    "### Hybrid Approach\n",
    "## 1. Contend Based - Improved\n",
    "\n",
    "### Recommendations\n",
    "## 1. Apply clustering\n",
    "## 2. Why we did not get recommends for 2.000 cases \n",
    "\n",
    "### Evaluation\n",
    "## 1.Different Metric-F1\n",
    "\n",
    "\n",
    "#MAke the right adjustments to make it run all at once\n",
    " "
   ]
  },
  {
   "cell_type": "code",
   "execution_count": 20,
   "metadata": {},
   "outputs": [],
   "source": [
    "## Tests\n",
    "#1. Outter join-Scroll percentage-> Not improved-Scrolled percentage not a good feature for the model in our test\n",
    "#2. Outer join-Worse results\n",
    "#3. Model Architecture-Dropout\n",
    "#4. Model Architecture-EarlyStopping\n",
    "#5. Test data\n",
    "#6. Include the ndcr metric"
   ]
  }
 ],
 "metadata": {
  "kernelspec": {
   "display_name": "venv3.8",
   "language": "python",
   "name": "python3"
  },
  "language_info": {
   "codemirror_mode": {
    "name": "ipython",
    "version": 3
   },
   "file_extension": ".py",
   "mimetype": "text/x-python",
   "name": "python",
   "nbconvert_exporter": "python",
   "pygments_lexer": "ipython3",
   "version": "3.9.13"
  }
 },
 "nbformat": 4,
 "nbformat_minor": 2
}
