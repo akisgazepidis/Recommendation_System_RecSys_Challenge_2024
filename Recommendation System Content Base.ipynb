{
 "cells": [
  {
   "cell_type": "code",
   "execution_count": 1,
   "id": "98833754",
   "metadata": {
    "scrolled": true
   },
   "outputs": [],
   "source": [
    "# # Anaconda prompt \n",
    "# # conda install -c conda-forge python-annoy\n",
    "# -----------------------------------------------------\n",
    "# ## Installs\n",
    "# # pip install faiss-cpu\n",
    "# # pip install annoy"
   ]
  },
  {
   "cell_type": "code",
   "execution_count": 40,
   "id": "4fc81275",
   "metadata": {
    "scrolled": true
   },
   "outputs": [],
   "source": [
    "# Import the necessary libraries\n",
    "import numpy as np\n",
    "from sklearn.metrics.pairwise import cosine_similarity\n",
    "import pandas as pd\n",
    "from annoy import AnnoyIndex\n",
    "from sklearn.metrics.pairwise import cosine_similarity"
   ]
  },
  {
   "cell_type": "code",
   "execution_count": 29,
   "id": "ccc1e1e0",
   "metadata": {
    "scrolled": true
   },
   "outputs": [
    {
     "data": {
      "text/html": [
       "<div>\n",
       "<style scoped>\n",
       "    .dataframe tbody tr th:only-of-type {\n",
       "        vertical-align: middle;\n",
       "    }\n",
       "\n",
       "    .dataframe tbody tr th {\n",
       "        vertical-align: top;\n",
       "    }\n",
       "\n",
       "    .dataframe thead th {\n",
       "        text-align: right;\n",
       "    }\n",
       "</style>\n",
       "<table border=\"1\" class=\"dataframe\">\n",
       "  <thead>\n",
       "    <tr style=\"text-align: right;\">\n",
       "      <th></th>\n",
       "      <th>article_id</th>\n",
       "      <th>document_vector</th>\n",
       "    </tr>\n",
       "  </thead>\n",
       "  <tbody>\n",
       "    <tr>\n",
       "      <th>0</th>\n",
       "      <td>3000022</td>\n",
       "      <td>[0.06542388, -0.047424573, 0.06384871, -0.0014...</td>\n",
       "    </tr>\n",
       "    <tr>\n",
       "      <th>1</th>\n",
       "      <td>3000063</td>\n",
       "      <td>[0.028815078, -0.00016637295, 0.055056807, 0.0...</td>\n",
       "    </tr>\n",
       "    <tr>\n",
       "      <th>2</th>\n",
       "      <td>3000613</td>\n",
       "      <td>[0.037971217, 0.03392251, 0.027297212, 0.01708...</td>\n",
       "    </tr>\n",
       "    <tr>\n",
       "      <th>3</th>\n",
       "      <td>3000700</td>\n",
       "      <td>[0.04652399, 0.0029133065, 0.06280604, -0.0051...</td>\n",
       "    </tr>\n",
       "    <tr>\n",
       "      <th>4</th>\n",
       "      <td>3000840</td>\n",
       "      <td>[0.014736942, 0.024067875, 0.0051865038, 0.041...</td>\n",
       "    </tr>\n",
       "  </tbody>\n",
       "</table>\n",
       "</div>"
      ],
      "text/plain": [
       "   article_id                                    document_vector\n",
       "0     3000022  [0.06542388, -0.047424573, 0.06384871, -0.0014...\n",
       "1     3000063  [0.028815078, -0.00016637295, 0.055056807, 0.0...\n",
       "2     3000613  [0.037971217, 0.03392251, 0.027297212, 0.01708...\n",
       "3     3000700  [0.04652399, 0.0029133065, 0.06280604, -0.0051...\n",
       "4     3000840  [0.014736942, 0.024067875, 0.0051865038, 0.041..."
      ]
     },
     "execution_count": 29,
     "metadata": {},
     "output_type": "execute_result"
    }
   ],
   "source": [
    "# Save and print the similarity matrix\n",
    "similarity_matrix_path = \"files\\parquet\\Ekstra_Bladet_word2vec\\document_vector.parquet\"\n",
    "# Similarity matrix- as given by the challenge\n",
    "similarity_matrix = pd.read_parquet(similarity_matrix_path)\n",
    "similarity_matrix.head()"
   ]
  },
  {
   "cell_type": "code",
   "execution_count": 30,
   "id": "b7b61c9c",
   "metadata": {},
   "outputs": [
    {
     "data": {
      "text/plain": [
       "(125541, 2)"
      ]
     },
     "execution_count": 30,
     "metadata": {},
     "output_type": "execute_result"
    }
   ],
   "source": [
    "# Shape of the article vector\n",
    "similarity_matrix.shape"
   ]
  },
  {
   "cell_type": "code",
   "execution_count": 31,
   "id": "0462d06e",
   "metadata": {},
   "outputs": [
    {
     "data": {
      "text/plain": [
       "(125541, 21)"
      ]
     },
     "execution_count": 31,
     "metadata": {},
     "output_type": "execute_result"
    }
   ],
   "source": [
    "# Import the article dataset\n",
    "size = 'large'\n",
    "articles_path = f'./files/parquet/ebnerd_{size}/articles.parquet'\n",
    "articles_df = pd.read_parquet(articles_path)\n",
    "articles_df.shape"
   ]
  },
  {
   "cell_type": "code",
   "execution_count": 33,
   "id": "b5655282",
   "metadata": {
    "scrolled": true
   },
   "outputs": [
    {
     "data": {
      "text/plain": [
       "True"
      ]
     },
     "execution_count": 33,
     "metadata": {},
     "output_type": "execute_result"
    }
   ],
   "source": [
    "# So the word2vec has been trained to the large dataset\n",
    "similarity_matrix.shape[0] == articles_df.shape[0]"
   ]
  },
  {
   "cell_type": "code",
   "execution_count": 12,
   "id": "78859611",
   "metadata": {},
   "outputs": [],
   "source": [
    "# Initialize Annoy index\n",
    "dimension = len(similarity_matrix['document_vector'][0])\n",
    "annoy_index = AnnoyIndex(dimension, 'angular')"
   ]
  },
  {
   "cell_type": "code",
   "execution_count": 13,
   "id": "c14eff46",
   "metadata": {},
   "outputs": [],
   "source": [
    "# Add vectors to the Annoy index\n",
    "for i, vector in enumerate(similarity_matrix['document_vector']):\n",
    "    annoy_index.add_item(i, vector)"
   ]
  },
  {
   "cell_type": "code",
   "execution_count": 14,
   "id": "4173dfbc",
   "metadata": {},
   "outputs": [
    {
     "data": {
      "text/plain": [
       "True"
      ]
     },
     "execution_count": 14,
     "metadata": {},
     "output_type": "execute_result"
    }
   ],
   "source": [
    "# Build the index\n",
    "annoy_index.build(10)"
   ]
  },
  {
   "cell_type": "code",
   "execution_count": 23,
   "id": "6d81e312",
   "metadata": {},
   "outputs": [],
   "source": [
    "# Create a dictionary to map the index with the articles\n",
    "id_to_index = {article_id: idx for idx, article_id in enumerate(similarity_matrix['article_id'])}"
   ]
  },
  {
   "cell_type": "code",
   "execution_count": 26,
   "id": "0e92bfc9",
   "metadata": {},
   "outputs": [],
   "source": [
    "# Function to get top N similar articles\n",
    "def get_top_n_similar_articles(annoy_index, article_id, id_to_index, n=5):\n",
    "    if article_id not in id_to_index:\n",
    "        raise ValueError(f\"Article ID {article_id} not found in the dataset.\")\n",
    "    \n",
    "    article_index = id_to_index[article_id]\n",
    "    similar_indices = annoy_index.get_nns_by_item(article_index, n+1)[1:]  # Exclude the article itself\n",
    "    return similarity_matrix.iloc[similar_indices]['article_id'].values"
   ]
  },
  {
   "cell_type": "code",
   "execution_count": 28,
   "id": "bb222afe",
   "metadata": {},
   "outputs": [
    {
     "data": {
      "text/plain": [
       "array([3197030, 9532120, 9750509, 3195615, 4744395])"
      ]
     },
     "execution_count": 28,
     "metadata": {},
     "output_type": "execute_result"
    }
   ],
   "source": [
    "get_top_n_similar_articles(annoy_index,article_id=3000613,id_to_index=id_to_index,n=5)"
   ]
  },
  {
   "cell_type": "markdown",
   "id": "5ab03b82",
   "metadata": {},
   "source": [
    "#### Load the history large df"
   ]
  },
  {
   "cell_type": "code",
   "execution_count": 36,
   "id": "fc70ad65",
   "metadata": {},
   "outputs": [
    {
     "data": {
      "text/html": [
       "<div>\n",
       "<style scoped>\n",
       "    .dataframe tbody tr th:only-of-type {\n",
       "        vertical-align: middle;\n",
       "    }\n",
       "\n",
       "    .dataframe tbody tr th {\n",
       "        vertical-align: top;\n",
       "    }\n",
       "\n",
       "    .dataframe thead th {\n",
       "        text-align: right;\n",
       "    }\n",
       "</style>\n",
       "<table border=\"1\" class=\"dataframe\">\n",
       "  <thead>\n",
       "    <tr style=\"text-align: right;\">\n",
       "      <th></th>\n",
       "      <th>user_id</th>\n",
       "      <th>impression_time_fixed</th>\n",
       "      <th>scroll_percentage_fixed</th>\n",
       "      <th>article_id_fixed</th>\n",
       "      <th>read_time_fixed</th>\n",
       "    </tr>\n",
       "  </thead>\n",
       "  <tbody>\n",
       "    <tr>\n",
       "      <th>0</th>\n",
       "      <td>10033</td>\n",
       "      <td>[2023-05-04T07:41:35.000000, 2023-05-04T07:41:...</td>\n",
       "      <td>[38.0, 100.0, 27.0, 100.0, 72.0, 100.0, 98.0, ...</td>\n",
       "      <td>[9749036, 9748976, 9747490, 9748980, 9749224, ...</td>\n",
       "      <td>[3.0, 727.0, 2.0, 55.0, 2.0, 53.0, 17.0, 16.0,...</td>\n",
       "    </tr>\n",
       "    <tr>\n",
       "      <th>1</th>\n",
       "      <td>10041</td>\n",
       "      <td>[2023-05-04T22:12:16.000000, 2023-05-05T07:51:...</td>\n",
       "      <td>[31.0, 100.0, 77.0, 100.0, 25.0, 100.0, 65.0, ...</td>\n",
       "      <td>[9750397, 9750749, 9750726, 9749184, 9751452, ...</td>\n",
       "      <td>[8.0, 20.0, 30.0, 39.0, 5.0, 65.0, 15.0, 1.0, ...</td>\n",
       "    </tr>\n",
       "    <tr>\n",
       "      <th>2</th>\n",
       "      <td>10199</td>\n",
       "      <td>[2023-05-04T10:12:30.000000, 2023-05-04T10:12:...</td>\n",
       "      <td>[23.0, 34.0, 100.0, 38.0, 26.0, 30.0, 24.0, 24...</td>\n",
       "      <td>[9749275, 9749278, 9749319, 9749869, 9750687, ...</td>\n",
       "      <td>[5.0, 2.0, 33.0, 11.0, 3.0, 4.0, 5.0, 2.0, 1.0...</td>\n",
       "    </tr>\n",
       "    <tr>\n",
       "      <th>3</th>\n",
       "      <td>10220</td>\n",
       "      <td>[2023-05-04T16:34:42.000000, 2023-05-04T16:34:...</td>\n",
       "      <td>[58.0, 31.0, 97.0, 52.0, 28.0, 53.0, 68.0, 29....</td>\n",
       "      <td>[9750161, 9749955, 9750039, 9749076, 9750209, ...</td>\n",
       "      <td>[5.0, 5.0, 38.0, 36.0, 4.0, 2.0, 1.0, 14.0, 2....</td>\n",
       "    </tr>\n",
       "    <tr>\n",
       "      <th>4</th>\n",
       "      <td>10289</td>\n",
       "      <td>[2023-05-04T16:15:50.000000, 2023-05-04T16:16:...</td>\n",
       "      <td>[70.0, nan, nan, 84.0, 54.0, 84.0, 21.0, 25.0,...</td>\n",
       "      <td>[9750064, 9750090, 9749955, 9750904, 9750687, ...</td>\n",
       "      <td>[17.0, 8.0, 142.0, 28.0, 42.0, 39.0, 15.0, 4.0...</td>\n",
       "    </tr>\n",
       "  </tbody>\n",
       "</table>\n",
       "</div>"
      ],
      "text/plain": [
       "   user_id                              impression_time_fixed  \\\n",
       "0    10033  [2023-05-04T07:41:35.000000, 2023-05-04T07:41:...   \n",
       "1    10041  [2023-05-04T22:12:16.000000, 2023-05-05T07:51:...   \n",
       "2    10199  [2023-05-04T10:12:30.000000, 2023-05-04T10:12:...   \n",
       "3    10220  [2023-05-04T16:34:42.000000, 2023-05-04T16:34:...   \n",
       "4    10289  [2023-05-04T16:15:50.000000, 2023-05-04T16:16:...   \n",
       "\n",
       "                             scroll_percentage_fixed  \\\n",
       "0  [38.0, 100.0, 27.0, 100.0, 72.0, 100.0, 98.0, ...   \n",
       "1  [31.0, 100.0, 77.0, 100.0, 25.0, 100.0, 65.0, ...   \n",
       "2  [23.0, 34.0, 100.0, 38.0, 26.0, 30.0, 24.0, 24...   \n",
       "3  [58.0, 31.0, 97.0, 52.0, 28.0, 53.0, 68.0, 29....   \n",
       "4  [70.0, nan, nan, 84.0, 54.0, 84.0, 21.0, 25.0,...   \n",
       "\n",
       "                                    article_id_fixed  \\\n",
       "0  [9749036, 9748976, 9747490, 9748980, 9749224, ...   \n",
       "1  [9750397, 9750749, 9750726, 9749184, 9751452, ...   \n",
       "2  [9749275, 9749278, 9749319, 9749869, 9750687, ...   \n",
       "3  [9750161, 9749955, 9750039, 9749076, 9750209, ...   \n",
       "4  [9750064, 9750090, 9749955, 9750904, 9750687, ...   \n",
       "\n",
       "                                     read_time_fixed  \n",
       "0  [3.0, 727.0, 2.0, 55.0, 2.0, 53.0, 17.0, 16.0,...  \n",
       "1  [8.0, 20.0, 30.0, 39.0, 5.0, 65.0, 15.0, 1.0, ...  \n",
       "2  [5.0, 2.0, 33.0, 11.0, 3.0, 4.0, 5.0, 2.0, 1.0...  \n",
       "3  [5.0, 5.0, 38.0, 36.0, 4.0, 2.0, 1.0, 14.0, 2....  \n",
       "4  [17.0, 8.0, 142.0, 28.0, 42.0, 39.0, 15.0, 4.0...  "
      ]
     },
     "execution_count": 36,
     "metadata": {},
     "output_type": "execute_result"
    }
   ],
   "source": [
    "size= \"large\"\n",
    "type_ = \"validation\"\n",
    "\n",
    "history_train_path = f'./files/parquet/ebnerd_{size}/{type_}/history.parquet'\n",
    "history_df = pd.read_parquet(history_train_path)\n",
    "history_df.head()"
   ]
  },
  {
   "cell_type": "code",
   "execution_count": 37,
   "id": "c1453bdd",
   "metadata": {},
   "outputs": [
    {
     "data": {
      "text/plain": [
       "(791582, 5)"
      ]
     },
     "execution_count": 37,
     "metadata": {},
     "output_type": "execute_result"
    }
   ],
   "source": [
    "history_df.shape"
   ]
  },
  {
   "cell_type": "code",
   "execution_count": 38,
   "id": "d0d512ea",
   "metadata": {},
   "outputs": [
    {
     "data": {
      "text/plain": [
       "791582"
      ]
     },
     "execution_count": 38,
     "metadata": {},
     "output_type": "execute_result"
    }
   ],
   "source": [
    "history_df['user_id'].nunique()"
   ]
  },
  {
   "cell_type": "code",
   "execution_count": 47,
   "id": "bccd56e1",
   "metadata": {},
   "outputs": [
    {
     "data": {
      "text/html": [
       "<div>\n",
       "<style scoped>\n",
       "    .dataframe tbody tr th:only-of-type {\n",
       "        vertical-align: middle;\n",
       "    }\n",
       "\n",
       "    .dataframe tbody tr th {\n",
       "        vertical-align: top;\n",
       "    }\n",
       "\n",
       "    .dataframe thead th {\n",
       "        text-align: right;\n",
       "    }\n",
       "</style>\n",
       "<table border=\"1\" class=\"dataframe\">\n",
       "  <thead>\n",
       "    <tr style=\"text-align: right;\">\n",
       "      <th></th>\n",
       "      <th>impression_id</th>\n",
       "      <th>article_id</th>\n",
       "      <th>impression_time</th>\n",
       "      <th>read_time</th>\n",
       "      <th>scroll_percentage</th>\n",
       "      <th>device_type</th>\n",
       "      <th>article_ids_inview</th>\n",
       "      <th>article_ids_clicked</th>\n",
       "      <th>user_id</th>\n",
       "      <th>is_sso_user</th>\n",
       "      <th>gender</th>\n",
       "      <th>postcode</th>\n",
       "      <th>age</th>\n",
       "      <th>is_subscriber</th>\n",
       "      <th>session_id</th>\n",
       "      <th>next_read_time</th>\n",
       "      <th>next_scroll_percentage</th>\n",
       "    </tr>\n",
       "  </thead>\n",
       "  <tbody>\n",
       "    <tr>\n",
       "      <th>0</th>\n",
       "      <td>96429</td>\n",
       "      <td>NaN</td>\n",
       "      <td>2023-05-28 04:31:49</td>\n",
       "      <td>19.0</td>\n",
       "      <td>NaN</td>\n",
       "      <td>2</td>\n",
       "      <td>[9230405, 9784793, 9784803, 9784275, 9782726, ...</td>\n",
       "      <td>[9782884]</td>\n",
       "      <td>21814</td>\n",
       "      <td>False</td>\n",
       "      <td>NaN</td>\n",
       "      <td>NaN</td>\n",
       "      <td>NaN</td>\n",
       "      <td>False</td>\n",
       "      <td>12</td>\n",
       "      <td>374.0</td>\n",
       "      <td>100.0</td>\n",
       "    </tr>\n",
       "    <tr>\n",
       "      <th>1</th>\n",
       "      <td>96434</td>\n",
       "      <td>NaN</td>\n",
       "      <td>2023-05-28 04:53:56</td>\n",
       "      <td>13.0</td>\n",
       "      <td>NaN</td>\n",
       "      <td>2</td>\n",
       "      <td>[9782884, 9783800, 9784793, 9784804, 9784702]</td>\n",
       "      <td>[9782884]</td>\n",
       "      <td>21822</td>\n",
       "      <td>False</td>\n",
       "      <td>NaN</td>\n",
       "      <td>NaN</td>\n",
       "      <td>NaN</td>\n",
       "      <td>False</td>\n",
       "      <td>110</td>\n",
       "      <td>234.0</td>\n",
       "      <td>100.0</td>\n",
       "    </tr>\n",
       "    <tr>\n",
       "      <th>2</th>\n",
       "      <td>96436</td>\n",
       "      <td>NaN</td>\n",
       "      <td>2023-05-28 04:58:04</td>\n",
       "      <td>28.0</td>\n",
       "      <td>NaN</td>\n",
       "      <td>2</td>\n",
       "      <td>[9230405, 9784710, 9784696, 9695098, 9784559, ...</td>\n",
       "      <td>[9784559]</td>\n",
       "      <td>21822</td>\n",
       "      <td>False</td>\n",
       "      <td>NaN</td>\n",
       "      <td>NaN</td>\n",
       "      <td>NaN</td>\n",
       "      <td>False</td>\n",
       "      <td>110</td>\n",
       "      <td>9.0</td>\n",
       "      <td>38.0</td>\n",
       "    </tr>\n",
       "    <tr>\n",
       "      <th>3</th>\n",
       "      <td>96443</td>\n",
       "      <td>NaN</td>\n",
       "      <td>2023-05-28 04:58:42</td>\n",
       "      <td>24.0</td>\n",
       "      <td>NaN</td>\n",
       "      <td>2</td>\n",
       "      <td>[9781998, 9230405, 9783405, 9784662, 9769155, ...</td>\n",
       "      <td>[9784662]</td>\n",
       "      <td>21822</td>\n",
       "      <td>False</td>\n",
       "      <td>NaN</td>\n",
       "      <td>NaN</td>\n",
       "      <td>NaN</td>\n",
       "      <td>False</td>\n",
       "      <td>110</td>\n",
       "      <td>0.0</td>\n",
       "      <td>NaN</td>\n",
       "    </tr>\n",
       "    <tr>\n",
       "      <th>4</th>\n",
       "      <td>96462</td>\n",
       "      <td>NaN</td>\n",
       "      <td>2023-05-28 04:15:23</td>\n",
       "      <td>10.0</td>\n",
       "      <td>NaN</td>\n",
       "      <td>2</td>\n",
       "      <td>[9784591, 9784702, 9782884, 9783865, 9784679]</td>\n",
       "      <td>[9784591]</td>\n",
       "      <td>21824</td>\n",
       "      <td>False</td>\n",
       "      <td>NaN</td>\n",
       "      <td>NaN</td>\n",
       "      <td>NaN</td>\n",
       "      <td>False</td>\n",
       "      <td>219</td>\n",
       "      <td>8.0</td>\n",
       "      <td>68.0</td>\n",
       "    </tr>\n",
       "  </tbody>\n",
       "</table>\n",
       "</div>"
      ],
      "text/plain": [
       "   impression_id  article_id     impression_time  read_time  \\\n",
       "0          96429         NaN 2023-05-28 04:31:49       19.0   \n",
       "1          96434         NaN 2023-05-28 04:53:56       13.0   \n",
       "2          96436         NaN 2023-05-28 04:58:04       28.0   \n",
       "3          96443         NaN 2023-05-28 04:58:42       24.0   \n",
       "4          96462         NaN 2023-05-28 04:15:23       10.0   \n",
       "\n",
       "   scroll_percentage  device_type  \\\n",
       "0                NaN            2   \n",
       "1                NaN            2   \n",
       "2                NaN            2   \n",
       "3                NaN            2   \n",
       "4                NaN            2   \n",
       "\n",
       "                                  article_ids_inview article_ids_clicked  \\\n",
       "0  [9230405, 9784793, 9784803, 9784275, 9782726, ...           [9782884]   \n",
       "1      [9782884, 9783800, 9784793, 9784804, 9784702]           [9782884]   \n",
       "2  [9230405, 9784710, 9784696, 9695098, 9784559, ...           [9784559]   \n",
       "3  [9781998, 9230405, 9783405, 9784662, 9769155, ...           [9784662]   \n",
       "4      [9784591, 9784702, 9782884, 9783865, 9784679]           [9784591]   \n",
       "\n",
       "   user_id  is_sso_user  gender  postcode  age  is_subscriber  session_id  \\\n",
       "0    21814        False     NaN       NaN  NaN          False          12   \n",
       "1    21822        False     NaN       NaN  NaN          False         110   \n",
       "2    21822        False     NaN       NaN  NaN          False         110   \n",
       "3    21822        False     NaN       NaN  NaN          False         110   \n",
       "4    21824        False     NaN       NaN  NaN          False         219   \n",
       "\n",
       "   next_read_time  next_scroll_percentage  \n",
       "0           374.0                   100.0  \n",
       "1           234.0                   100.0  \n",
       "2             9.0                    38.0  \n",
       "3             0.0                     NaN  \n",
       "4             8.0                    68.0  "
      ]
     },
     "execution_count": 47,
     "metadata": {},
     "output_type": "execute_result"
    }
   ],
   "source": [
    "size= \"large\"\n",
    "type_ = \"validation\"\n",
    "\n",
    "behavior = f'./files/parquet/ebnerd_{size}/{type_}/behaviors.parquet'\n",
    "behavior_df = pd.read_parquet(history_train_path)\n",
    "behavior_df.head()"
   ]
  },
  {
   "cell_type": "code",
   "execution_count": null,
   "id": "57a55474",
   "metadata": {},
   "outputs": [],
   "source": []
  }
 ],
 "metadata": {
  "kernelspec": {
   "display_name": "Python 3 (ipykernel)",
   "language": "python",
   "name": "python3"
  },
  "language_info": {
   "codemirror_mode": {
    "name": "ipython",
    "version": 3
   },
   "file_extension": ".py",
   "mimetype": "text/x-python",
   "name": "python",
   "nbconvert_exporter": "python",
   "pygments_lexer": "ipython3",
   "version": "3.9.13"
  }
 },
 "nbformat": 4,
 "nbformat_minor": 5
}
