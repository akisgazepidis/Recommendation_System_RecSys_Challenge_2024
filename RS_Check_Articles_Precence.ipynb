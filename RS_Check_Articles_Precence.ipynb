{
 "cells": [
  {
   "cell_type": "code",
   "execution_count": 2,
   "metadata": {},
   "outputs": [],
   "source": [
    "import pandas as pd\n",
    "import numpy as np\n",
    "from tqdm import tqdm_notebook as tqdm\n",
    "\n",
    "#set the max columns to none\n",
    "pd.set_option('display.max_columns', None)"
   ]
  },
  {
   "cell_type": "code",
   "execution_count": 8,
   "metadata": {},
   "outputs": [
    {
     "name": "stdout",
     "output_type": "stream",
     "text": [
      "Raw demo train history df shape:           (1590, 5)\n",
      "Raw demo train behaviors df shape:           (24724, 17)\n",
      "embeddings df shape:           (60000, 2)\n"
     ]
    }
   ],
   "source": [
    "size = 'demo'\n",
    "#Import train Data\n",
    "history_train_path = f'./files/parquet/ebnerd_{size}/train/history.parquet'\n",
    "history_train_df = pd.read_parquet(history_train_path)\n",
    "print(f'Raw {size} train history df shape:          ',history_train_df.shape)\n",
    "\n",
    "behaviors_train_path = f'./files/parquet/ebnerd_{size}/train/behaviors.parquet'\n",
    "behaviors_train_df = pd.read_parquet(behaviors_train_path)\n",
    "print(f'Raw {size} train behaviors df shape:          ',behaviors_train_df.shape)\n",
    "\n",
    "# Ready embeddings\n",
    "embeddings_path = f'./files/parquet/Ekstra_Bladet_word2vec/document_vector.parquet'\n",
    "embeddings_df = pd.read_parquet(embeddings_path).tail(60000)\n",
    "print(f'embeddings df shape:          ',embeddings_df.shape)"
   ]
  },
  {
   "cell_type": "code",
   "execution_count": 9,
   "metadata": {},
   "outputs": [
    {
     "name": "stdout",
     "output_type": "stream",
     "text": [
      "2023-04-27 07:00:05\n",
      "2023-05-18 06:59:51\n",
      "2023-05-18 07:00:03\n",
      "2023-05-25 06:59:52\n"
     ]
    }
   ],
   "source": [
    "print(history_train_df.explode('impression_time_fixed').impression_time_fixed.min())\n",
    "print(history_train_df.explode('impression_time_fixed').impression_time_fixed.max())\n",
    "\n",
    "\n",
    "print(behaviors_train_df.impression_time.min())\n",
    "print(behaviors_train_df.impression_time.max())"
   ]
  },
  {
   "cell_type": "code",
   "execution_count": 10,
   "metadata": {},
   "outputs": [
    {
     "data": {
      "text/html": [
       "<div>\n",
       "<style scoped>\n",
       "    .dataframe tbody tr th:only-of-type {\n",
       "        vertical-align: middle;\n",
       "    }\n",
       "\n",
       "    .dataframe tbody tr th {\n",
       "        vertical-align: top;\n",
       "    }\n",
       "\n",
       "    .dataframe thead th {\n",
       "        text-align: right;\n",
       "    }\n",
       "</style>\n",
       "<table border=\"1\" class=\"dataframe\">\n",
       "  <thead>\n",
       "    <tr style=\"text-align: right;\">\n",
       "      <th></th>\n",
       "      <th>article_id</th>\n",
       "      <th>document_vector</th>\n",
       "    </tr>\n",
       "  </thead>\n",
       "  <tbody>\n",
       "    <tr>\n",
       "      <th>65541</th>\n",
       "      <td>8220538</td>\n",
       "      <td>[0.041223563, -0.014775106, 0.016598633, 0.053...</td>\n",
       "    </tr>\n",
       "    <tr>\n",
       "      <th>65542</th>\n",
       "      <td>8220745</td>\n",
       "      <td>[0.029996565, 0.036494605, 0.003614329, 0.0258...</td>\n",
       "    </tr>\n",
       "    <tr>\n",
       "      <th>65543</th>\n",
       "      <td>8220790</td>\n",
       "      <td>[0.046301793, -0.003432609, 0.04390633, 0.0488...</td>\n",
       "    </tr>\n",
       "    <tr>\n",
       "      <th>65544</th>\n",
       "      <td>8220803</td>\n",
       "      <td>[0.063142404, 0.046301603, 0.012075641, 0.0489...</td>\n",
       "    </tr>\n",
       "    <tr>\n",
       "      <th>65545</th>\n",
       "      <td>8220879</td>\n",
       "      <td>[-0.010365814, 0.017823182, 0.009858246, -0.01...</td>\n",
       "    </tr>\n",
       "  </tbody>\n",
       "</table>\n",
       "</div>"
      ],
      "text/plain": [
       "       article_id                                    document_vector\n",
       "65541     8220538  [0.041223563, -0.014775106, 0.016598633, 0.053...\n",
       "65542     8220745  [0.029996565, 0.036494605, 0.003614329, 0.0258...\n",
       "65543     8220790  [0.046301793, -0.003432609, 0.04390633, 0.0488...\n",
       "65544     8220803  [0.063142404, 0.046301603, 0.012075641, 0.0489...\n",
       "65545     8220879  [-0.010365814, 0.017823182, 0.009858246, -0.01..."
      ]
     },
     "execution_count": 10,
     "metadata": {},
     "output_type": "execute_result"
    }
   ],
   "source": [
    "embeddings_df.head()"
   ]
  },
  {
   "cell_type": "code",
   "execution_count": 11,
   "metadata": {},
   "outputs": [
    {
     "data": {
      "text/html": [
       "<div>\n",
       "<style scoped>\n",
       "    .dataframe tbody tr th:only-of-type {\n",
       "        vertical-align: middle;\n",
       "    }\n",
       "\n",
       "    .dataframe tbody tr th {\n",
       "        vertical-align: top;\n",
       "    }\n",
       "\n",
       "    .dataframe thead th {\n",
       "        text-align: right;\n",
       "    }\n",
       "</style>\n",
       "<table border=\"1\" class=\"dataframe\">\n",
       "  <thead>\n",
       "    <tr style=\"text-align: right;\">\n",
       "      <th></th>\n",
       "      <th>user_id</th>\n",
       "      <th>impression_time_fixed</th>\n",
       "      <th>scroll_percentage_fixed</th>\n",
       "      <th>article_id_fixed</th>\n",
       "      <th>read_time_fixed</th>\n",
       "    </tr>\n",
       "  </thead>\n",
       "  <tbody>\n",
       "    <tr>\n",
       "      <th>0</th>\n",
       "      <td>13538</td>\n",
       "      <td>[2023-04-27T10:17:43.000000, 2023-04-27T10:18:...</td>\n",
       "      <td>[100.0, 35.0, 100.0, 24.0, 100.0, 23.0, 100.0,...</td>\n",
       "      <td>[9738663, 9738569, 9738663, 9738490, 9738663, ...</td>\n",
       "      <td>[17.0, 12.0, 4.0, 5.0, 4.0, 9.0, 5.0, 46.0, 11...</td>\n",
       "    </tr>\n",
       "    <tr>\n",
       "      <th>1</th>\n",
       "      <td>58608</td>\n",
       "      <td>[2023-04-27T18:48:09.000000, 2023-04-27T18:48:...</td>\n",
       "      <td>[37.0, 61.0, 100.0, 100.0, 55.0, 100.0, 100.0,...</td>\n",
       "      <td>[9739362, 9739179, 9738567, 9739344, 9739202, ...</td>\n",
       "      <td>[2.0, 24.0, 72.0, 65.0, 11.0, 4.0, 101.0, 0.0,...</td>\n",
       "    </tr>\n",
       "    <tr>\n",
       "      <th>2</th>\n",
       "      <td>95507</td>\n",
       "      <td>[2023-04-27T15:20:28.000000, 2023-04-27T15:20:...</td>\n",
       "      <td>[60.0, 100.0, 100.0, 21.0, 29.0, 67.0, 49.0, 5...</td>\n",
       "      <td>[9739035, 9738646, 9634967, 9738902, 9735495, ...</td>\n",
       "      <td>[18.0, 29.0, 51.0, 12.0, 10.0, 10.0, 13.0, 24....</td>\n",
       "    </tr>\n",
       "    <tr>\n",
       "      <th>3</th>\n",
       "      <td>106588</td>\n",
       "      <td>[2023-04-27T08:29:09.000000, 2023-04-27T08:29:...</td>\n",
       "      <td>[24.0, 57.0, 100.0, nan, nan, 100.0, 100.0, 73...</td>\n",
       "      <td>[9738292, 9738216, 9737266, 9737556, 9737657, ...</td>\n",
       "      <td>[9.0, 15.0, 42.0, 9.0, 3.0, 58.0, 26.0, 214.0,...</td>\n",
       "    </tr>\n",
       "    <tr>\n",
       "      <th>4</th>\n",
       "      <td>617963</td>\n",
       "      <td>[2023-04-27T14:42:25.000000, 2023-04-27T14:43:...</td>\n",
       "      <td>[100.0, 100.0, nan, 46.0, 23.0, 19.0, 61.0, 70...</td>\n",
       "      <td>[9739035, 9739088, 9738902, 9738968, 9738760, ...</td>\n",
       "      <td>[45.0, 29.0, 116.0, 26.0, 34.0, 42.0, 58.0, 59...</td>\n",
       "    </tr>\n",
       "  </tbody>\n",
       "</table>\n",
       "</div>"
      ],
      "text/plain": [
       "   user_id                              impression_time_fixed  \\\n",
       "0    13538  [2023-04-27T10:17:43.000000, 2023-04-27T10:18:...   \n",
       "1    58608  [2023-04-27T18:48:09.000000, 2023-04-27T18:48:...   \n",
       "2    95507  [2023-04-27T15:20:28.000000, 2023-04-27T15:20:...   \n",
       "3   106588  [2023-04-27T08:29:09.000000, 2023-04-27T08:29:...   \n",
       "4   617963  [2023-04-27T14:42:25.000000, 2023-04-27T14:43:...   \n",
       "\n",
       "                             scroll_percentage_fixed  \\\n",
       "0  [100.0, 35.0, 100.0, 24.0, 100.0, 23.0, 100.0,...   \n",
       "1  [37.0, 61.0, 100.0, 100.0, 55.0, 100.0, 100.0,...   \n",
       "2  [60.0, 100.0, 100.0, 21.0, 29.0, 67.0, 49.0, 5...   \n",
       "3  [24.0, 57.0, 100.0, nan, nan, 100.0, 100.0, 73...   \n",
       "4  [100.0, 100.0, nan, 46.0, 23.0, 19.0, 61.0, 70...   \n",
       "\n",
       "                                    article_id_fixed  \\\n",
       "0  [9738663, 9738569, 9738663, 9738490, 9738663, ...   \n",
       "1  [9739362, 9739179, 9738567, 9739344, 9739202, ...   \n",
       "2  [9739035, 9738646, 9634967, 9738902, 9735495, ...   \n",
       "3  [9738292, 9738216, 9737266, 9737556, 9737657, ...   \n",
       "4  [9739035, 9739088, 9738902, 9738968, 9738760, ...   \n",
       "\n",
       "                                     read_time_fixed  \n",
       "0  [17.0, 12.0, 4.0, 5.0, 4.0, 9.0, 5.0, 46.0, 11...  \n",
       "1  [2.0, 24.0, 72.0, 65.0, 11.0, 4.0, 101.0, 0.0,...  \n",
       "2  [18.0, 29.0, 51.0, 12.0, 10.0, 10.0, 13.0, 24....  \n",
       "3  [9.0, 15.0, 42.0, 9.0, 3.0, 58.0, 26.0, 214.0,...  \n",
       "4  [45.0, 29.0, 116.0, 26.0, 34.0, 42.0, 58.0, 59...  "
      ]
     },
     "execution_count": 11,
     "metadata": {},
     "output_type": "execute_result"
    }
   ],
   "source": [
    "history_train_df.head()"
   ]
  },
  {
   "cell_type": "code",
   "execution_count": 13,
   "metadata": {},
   "outputs": [],
   "source": [
    "embeddings_lst = embeddings_df['article_id'].tolist()"
   ]
  },
  {
   "cell_type": "code",
   "execution_count": 14,
   "metadata": {},
   "outputs": [],
   "source": [
    "history_articles_lst = list(set(history_train_df['article_id_fixed'].explode().tolist()))"
   ]
  },
  {
   "cell_type": "code",
   "execution_count": 15,
   "metadata": {},
   "outputs": [],
   "source": [
    "behaviors_inview_articles_lst = list(set(behaviors_train_df['article_ids_inview'].explode().tolist()))"
   ]
  },
  {
   "cell_type": "code",
   "execution_count": 16,
   "metadata": {},
   "outputs": [],
   "source": [
    "behaviors_clicked_articles_lst = list(set(behaviors_train_df['article_ids_clicked'].explode().tolist()))"
   ]
  },
  {
   "cell_type": "code",
   "execution_count": 18,
   "metadata": {},
   "outputs": [
    {
     "name": "stdout",
     "output_type": "stream",
     "text": [
      "60000\n",
      "4247\n",
      "2478\n",
      "1114\n"
     ]
    }
   ],
   "source": [
    "\n",
    "print(len(embeddings_lst))\n",
    "print(len(history_articles_lst))\n",
    "print(len(behaviors_inview_articles_lst))\n",
    "print(len(behaviors_clicked_articles_lst))"
   ]
  },
  {
   "cell_type": "code",
   "execution_count": 19,
   "metadata": {},
   "outputs": [],
   "source": [
    "final_lst =  []\n",
    "final_lst.extend(history_articles_lst)\n",
    "final_lst.extend(behaviors_inview_articles_lst)\n",
    "final_lst.extend(behaviors_clicked_articles_lst)\n",
    "\n",
    "final_lst = list(set(final_lst))"
   ]
  },
  {
   "cell_type": "code",
   "execution_count": 20,
   "metadata": {},
   "outputs": [
    {
     "data": {
      "text/plain": [
       "5638"
      ]
     },
     "execution_count": 20,
     "metadata": {},
     "output_type": "execute_result"
    }
   ],
   "source": [
    "len(final_lst)"
   ]
  },
  {
   "cell_type": "code",
   "execution_count": 27,
   "metadata": {},
   "outputs": [
    {
     "name": "stderr",
     "output_type": "stream",
     "text": [
      "/var/folders/ld/c07vs56s18bc0h2krlvl0myr0000gn/T/ipykernel_3210/1777265541.py:2: TqdmDeprecationWarning: This function will be removed in tqdm==5.0.0\n",
      "Please use `tqdm.notebook.tqdm` instead of `tqdm.tqdm_notebook`\n",
      "  for art in tqdm(final_lst):\n"
     ]
    },
    {
     "data": {
      "application/vnd.jupyter.widget-view+json": {
       "model_id": "a15e26623d9d497089611320a61ada38",
       "version_major": 2,
       "version_minor": 0
      },
      "text/plain": [
       "  0%|          | 0/6204 [00:00<?, ?it/s]"
      ]
     },
     "metadata": {},
     "output_type": "display_data"
    }
   ],
   "source": [
    "counter =0\n",
    "for art in tqdm(final_lst):\n",
    "    if art in embeddings_lst:\n",
    "        counter += 1"
   ]
  },
  {
   "cell_type": "code",
   "execution_count": 28,
   "metadata": {},
   "outputs": [
    {
     "name": "stdout",
     "output_type": "stream",
     "text": [
      "5900\n"
     ]
    }
   ],
   "source": [
    "print(counter)"
   ]
  },
  {
   "cell_type": "code",
   "execution_count": 21,
   "metadata": {},
   "outputs": [],
   "source": [
    "final_lst_df = pd.DataFrame(final_lst, columns=['articles_id'])"
   ]
  },
  {
   "cell_type": "code",
   "execution_count": 23,
   "metadata": {},
   "outputs": [
    {
     "data": {
      "text/html": [
       "<div>\n",
       "<style scoped>\n",
       "    .dataframe tbody tr th:only-of-type {\n",
       "        vertical-align: middle;\n",
       "    }\n",
       "\n",
       "    .dataframe tbody tr th {\n",
       "        vertical-align: top;\n",
       "    }\n",
       "\n",
       "    .dataframe thead th {\n",
       "        text-align: right;\n",
       "    }\n",
       "</style>\n",
       "<table border=\"1\" class=\"dataframe\">\n",
       "  <thead>\n",
       "    <tr style=\"text-align: right;\">\n",
       "      <th></th>\n",
       "      <th>articles_id</th>\n",
       "    </tr>\n",
       "  </thead>\n",
       "  <tbody>\n",
       "    <tr>\n",
       "      <th>0</th>\n",
       "      <td>9306121</td>\n",
       "    </tr>\n",
       "    <tr>\n",
       "      <th>1</th>\n",
       "      <td>9568274</td>\n",
       "    </tr>\n",
       "    <tr>\n",
       "      <th>2</th>\n",
       "      <td>9764895</td>\n",
       "    </tr>\n",
       "    <tr>\n",
       "      <th>3</th>\n",
       "      <td>5996581</td>\n",
       "    </tr>\n",
       "    <tr>\n",
       "      <th>4</th>\n",
       "      <td>9666599</td>\n",
       "    </tr>\n",
       "    <tr>\n",
       "      <th>...</th>\n",
       "      <td>...</td>\n",
       "    </tr>\n",
       "    <tr>\n",
       "      <th>5633</th>\n",
       "      <td>9764813</td>\n",
       "    </tr>\n",
       "    <tr>\n",
       "      <th>5634</th>\n",
       "      <td>9732045</td>\n",
       "    </tr>\n",
       "    <tr>\n",
       "      <th>5635</th>\n",
       "      <td>9764822</td>\n",
       "    </tr>\n",
       "    <tr>\n",
       "      <th>5636</th>\n",
       "      <td>8617974</td>\n",
       "    </tr>\n",
       "    <tr>\n",
       "      <th>5637</th>\n",
       "      <td>9764857</td>\n",
       "    </tr>\n",
       "  </tbody>\n",
       "</table>\n",
       "<p>5638 rows × 1 columns</p>\n",
       "</div>"
      ],
      "text/plain": [
       "      articles_id\n",
       "0         9306121\n",
       "1         9568274\n",
       "2         9764895\n",
       "3         5996581\n",
       "4         9666599\n",
       "...           ...\n",
       "5633      9764813\n",
       "5634      9732045\n",
       "5635      9764822\n",
       "5636      8617974\n",
       "5637      9764857\n",
       "\n",
       "[5638 rows x 1 columns]"
      ]
     },
     "execution_count": 23,
     "metadata": {},
     "output_type": "execute_result"
    }
   ],
   "source": [
    "final_lst_df"
   ]
  },
  {
   "cell_type": "code",
   "execution_count": 22,
   "metadata": {},
   "outputs": [],
   "source": [
    "# Read cosine similarity matrix pickle file\n",
    "size = 'demo'\n",
    "final_lst_path =  f'./files/parquet/ebnerd_{size}/final_lst.pkl'\n",
    "final_lst_df.to_pickle(final_lst_path)"
   ]
  },
  {
   "cell_type": "code",
   "execution_count": null,
   "metadata": {},
   "outputs": [],
   "source": []
  }
 ],
 "metadata": {
  "kernelspec": {
   "display_name": "venv",
   "language": "python",
   "name": "python3"
  },
  "language_info": {
   "codemirror_mode": {
    "name": "ipython",
    "version": 3
   },
   "file_extension": ".py",
   "mimetype": "text/x-python",
   "name": "python",
   "nbconvert_exporter": "python",
   "pygments_lexer": "ipython3",
   "version": "3.9.6"
  }
 },
 "nbformat": 4,
 "nbformat_minor": 2
}
