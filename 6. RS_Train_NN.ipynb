{
 "cells": [
  {
   "cell_type": "code",
   "execution_count": 1,
   "metadata": {},
   "outputs": [],
   "source": [
    "import pandas as pd\n",
    "import numpy as np\n",
    "import tensorflow as tf\n",
    "from tensorflow.keras.models import Sequential\n",
    "from tensorflow.keras.layers import Dense\n",
    "from tensorflow.keras.callbacks import TensorBoard\n",
    "from sklearn.model_selection import train_test_split\n",
    "\n",
    "from tqdm.keras import TqdmCallback\n",
    "from sklearn.preprocessing import StandardScaler, MinMaxScaler\n",
    "\n",
    "import datetime"
   ]
  },
  {
   "cell_type": "code",
   "execution_count": 2,
   "metadata": {},
   "outputs": [],
   "source": [
    "# Train\n",
    "size = 'demo'\n",
    "type_ = 'train'\n",
    "\n",
    "numpy_file_X_path = f'./files/numpy/X_{type_}_{size}.npy'\n",
    "numpy_file_y_path = f'./files/numpy/y_{type_}_{size}.npy'\n",
    "\n",
    "X_train = np.load(numpy_file_X_path)\n",
    "y_train = np.load(numpy_file_y_path)"
   ]
  },
  {
   "cell_type": "code",
   "execution_count": 3,
   "metadata": {},
   "outputs": [],
   "source": [
    "# Validation \n",
    "size = 'demo'\n",
    "type_ = 'validation'\n",
    "\n",
    "numpy_file_X_path = f'./files/numpy/X_{type_}_{size}.npy'\n",
    "numpy_file_y_path = f'./files/numpy/y_{type_}_{size}.npy'\n",
    "\n",
    "X_val = np.load(numpy_file_X_path)\n",
    "y_val = np.load(numpy_file_y_path)"
   ]
  },
  {
   "cell_type": "code",
   "execution_count": 4,
   "metadata": {},
   "outputs": [],
   "source": [
    "# Use only the first 100 rows for testing\n",
    "# X_train = X_train[:80]\n",
    "# y_train = y_train[:80]\n",
    "# X_val = X_val[:20]\n",
    "# y_val = y_val[:20]"
   ]
  },
  {
   "cell_type": "code",
   "execution_count": 5,
   "metadata": {},
   "outputs": [],
   "source": [
    "# Split the data into train and test sets\n",
    "# X_train, X_test, y_train, y_test = train_test_split(X, y, test_size=0.2, random_state=42)\n",
    "\n",
    "# print(X_train.shape)\n",
    "# print(X_test.shape)\n",
    "# print(y_train.shape)\n",
    "# print(y_test.shape)"
   ]
  },
  {
   "cell_type": "code",
   "execution_count": 6,
   "metadata": {},
   "outputs": [
    {
     "name": "stdout",
     "output_type": "stream",
     "text": [
      "WARNING:tensorflow:Please add `keras.layers.InputLayer` instead of `keras.Input` to Sequential model. `keras.Input` is intended to be used by Functional model.\n"
     ]
    }
   ],
   "source": [
    "# Define the model\n",
    "model = Sequential([\n",
    "    tf.keras.Input(shape=(600,)),\n",
    "    Dense(256, activation='relu'),\n",
    "    Dense(128, activation='relu'),\n",
    "    Dense(32, activation='relu'),\n",
    "    Dense(1, activation = 'linear')\n",
    "])\n",
    "\n",
    "# Compile the model\n",
    "model.compile(optimizer='adam', loss='mse', metrics=['mse'])\n"
   ]
  },
  {
   "cell_type": "code",
   "execution_count": 7,
   "metadata": {},
   "outputs": [
    {
     "data": {
      "application/vnd.jupyter.widget-view+json": {
       "model_id": "ac803e8da00e422e86dab0a840264724",
       "version_major": 2,
       "version_minor": 0
      },
      "text/plain": [
       "0epoch [00:00, ?epoch/s]"
      ]
     },
     "metadata": {},
     "output_type": "display_data"
    },
    {
     "data": {
      "application/vnd.jupyter.widget-view+json": {
       "model_id": "cd8f36bb494a490dae8123459ebf86ed",
       "version_major": 2,
       "version_minor": 0
      },
      "text/plain": [
       "0batch [00:00, ?batch/s]"
      ]
     },
     "metadata": {},
     "output_type": "display_data"
    },
    {
     "name": "stdout",
     "output_type": "stream",
     "text": [
      "Epoch 1/2\n",
      "WARNING:tensorflow:Callback method `on_train_batch_end` is slow compared to the batch time (batch time: 0.0011s vs `on_train_batch_end` time: 0.0052s). Check your callbacks.\n",
      "1239/1239 - 2s - loss: 205.9108 - mse: 205.9108 - val_loss: 247.6580 - val_mse: 247.6580\n",
      "Epoch 2/2\n",
      "1239/1239 - 2s - loss: 176.9979 - mse: 176.9979 - val_loss: 239.9458 - val_mse: 239.9458\n"
     ]
    }
   ],
   "source": [
    "\n",
    "# Prepare TensorBoard callback\n",
    "log_dir = \"files/logs/fit/\" + datetime.datetime.now().strftime(\"%Y%m%d-%H%M%S\")\n",
    "tensorboard_callback = TensorBoard(log_dir=log_dir, histogram_freq=1)\n",
    "\n",
    "# Train the model\n",
    "num_epochs = 2\n",
    "history = model.fit(X_train, y_train, epochs=num_epochs, batch_size=16,\n",
    "                    validation_data=(X_val, y_val),\n",
    "                    callbacks=[tensorboard_callback, TqdmCallback(verbose=1)],\n",
    "                    verbose=2)"
   ]
  },
  {
   "cell_type": "code",
   "execution_count": 8,
   "metadata": {},
   "outputs": [
    {
     "name": "stdout",
     "output_type": "stream",
     "text": [
      "620/620 [==============================] - 0s 518us/step - loss: 162.7801 - mse: 162.7801\n",
      "632/632 [==============================] - 0s 531us/step - loss: 239.9458 - mse: 239.9458\n"
     ]
    }
   ],
   "source": [
    "# Evaluate the model\n",
    "train_loss, train_mse = model.evaluate(X_train, y_train, verbose=1)\n",
    "test_loss, test_mse = model.evaluate(X_val, y_val, verbose=1)"
   ]
  },
  {
   "cell_type": "code",
   "execution_count": 9,
   "metadata": {},
   "outputs": [
    {
     "name": "stdout",
     "output_type": "stream",
     "text": [
      "INFO:tensorflow:Assets written to: ./files/models/model_20240706-115948.h5py\\assets\n"
     ]
    }
   ],
   "source": [
    "# Save the \n",
    "now = datetime.datetime.now().strftime(\"%Y%m%d-%H%M%S\")\n",
    "model_file_path = f'./files/models/model_{now}.h5py'\n",
    "model.save(model_file_path)"
   ]
  }
 ],
 "metadata": {
  "kernelspec": {
   "display_name": "venv",
   "language": "python",
   "name": "python3"
  },
  "language_info": {
   "codemirror_mode": {
    "name": "ipython",
    "version": 3
   },
   "file_extension": ".py",
   "mimetype": "text/x-python",
   "name": "python",
   "nbconvert_exporter": "python",
   "pygments_lexer": "ipython3",
   "version": "3.9.13"
  }
 },
 "nbformat": 4,
 "nbformat_minor": 2
}
