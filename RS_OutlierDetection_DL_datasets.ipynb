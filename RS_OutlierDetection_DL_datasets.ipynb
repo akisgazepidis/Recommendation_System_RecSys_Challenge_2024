{
 "cells": [
  {
   "cell_type": "code",
   "execution_count": 17,
   "metadata": {},
   "outputs": [],
   "source": [
    "import pandas as pd\n",
    "import numpy as np\n",
    "from tqdm import tqdm_notebook as tqdm\n",
    "import matplotlib.pyplot as plt\n",
    "import seaborn as sns\n",
    "\n",
    "#set the max columns to none\n",
    "pd.set_option('display.max_columns', None)"
   ]
  },
  {
   "cell_type": "code",
   "execution_count": 10,
   "metadata": {},
   "outputs": [
    {
     "name": "stdout",
     "output_type": "stream",
     "text": [
      "(1562, 5)\n",
      "Raw demo validation behaviors df shape:           (25356, 17)\n"
     ]
    }
   ],
   "source": [
    "size = 'demo'\n",
    "type_ = 'validation'\n",
    "#Import train Data\n",
    "history_train_path = f'./files/parquet/ebnerd_{size}/{type_}/history.parquet'\n",
    "\n",
    "history_df = pd.read_parquet(history_train_path)\n",
    "print(history_df.shape)\n",
    "\n",
    "behaviors_path = f'./files/parquet/ebnerd_{size}/{type_}/behaviors.parquet'\n",
    "behaviors_df = pd.read_parquet(behaviors_path)\n",
    "print(f'Raw {size} validation behaviors df shape:          ',behaviors_df.shape)\n"
   ]
  },
  {
   "cell_type": "markdown",
   "metadata": {},
   "source": [
    "### History"
   ]
  },
  {
   "cell_type": "code",
   "execution_count": 11,
   "metadata": {},
   "outputs": [
    {
     "data": {
      "text/html": [
       "<div>\n",
       "<style scoped>\n",
       "    .dataframe tbody tr th:only-of-type {\n",
       "        vertical-align: middle;\n",
       "    }\n",
       "\n",
       "    .dataframe tbody tr th {\n",
       "        vertical-align: top;\n",
       "    }\n",
       "\n",
       "    .dataframe thead th {\n",
       "        text-align: right;\n",
       "    }\n",
       "</style>\n",
       "<table border=\"1\" class=\"dataframe\">\n",
       "  <thead>\n",
       "    <tr style=\"text-align: right;\">\n",
       "      <th></th>\n",
       "      <th>user_id</th>\n",
       "      <th>impression_time_fixed</th>\n",
       "      <th>scroll_percentage_fixed</th>\n",
       "      <th>article_id_fixed</th>\n",
       "      <th>read_time_fixed</th>\n",
       "    </tr>\n",
       "  </thead>\n",
       "  <tbody>\n",
       "    <tr>\n",
       "      <th>0</th>\n",
       "      <td>750497</td>\n",
       "      <td>[2023-05-04T09:42:39.000000, 2023-05-04T09:43:...</td>\n",
       "      <td>[100.0, 65.0, 100.0, 100.0, 100.0, 100.0, 100....</td>\n",
       "      <td>[9749224, 9749156, 9749224, 9748948, 9748980, ...</td>\n",
       "      <td>[49.0, 5.0, 7.0, 151.0, 214.0, 199.0, 22.0, 64...</td>\n",
       "    </tr>\n",
       "    <tr>\n",
       "      <th>1</th>\n",
       "      <td>22779</td>\n",
       "      <td>[2023-05-04T07:53:42.000000, 2023-05-04T15:59:...</td>\n",
       "      <td>[52.0, 39.0, 62.0, 38.0, 74.0, 19.0, 30.0, 56....</td>\n",
       "      <td>[9749025, 9750090, 9750015, 9750161, 9745750, ...</td>\n",
       "      <td>[4.0, 16.0, 2.0, 9.0, 40.0, 7.0, 9.0, 8.0, 18....</td>\n",
       "    </tr>\n",
       "    <tr>\n",
       "      <th>2</th>\n",
       "      <td>373598</td>\n",
       "      <td>[2023-05-04T07:51:58.000000, 2023-05-04T09:59:...</td>\n",
       "      <td>[nan, nan, nan, 59.0, 33.0, 75.0, nan, nan, 76...</td>\n",
       "      <td>[9514481, 9514481, 9111040, 9750389, 9750307, ...</td>\n",
       "      <td>[0.0, 0.0, 0.0, 3.0, 9.0, 117.0, 39.0, 0.0, 8....</td>\n",
       "    </tr>\n",
       "    <tr>\n",
       "      <th>3</th>\n",
       "      <td>383378</td>\n",
       "      <td>[2023-05-04T07:27:57.000000, 2023-05-04T07:29:...</td>\n",
       "      <td>[100.0, 100.0, 100.0, 100.0, 100.0, 100.0, 100...</td>\n",
       "      <td>[9747490, 9749036, 9749025, 9748792, 9748592, ...</td>\n",
       "      <td>[85.0, 18.0, 133.0, 191.0, 331.0, 56.0, 43.0, ...</td>\n",
       "    </tr>\n",
       "    <tr>\n",
       "      <th>4</th>\n",
       "      <td>411733</td>\n",
       "      <td>[2023-05-04T17:09:09.000000, 2023-05-04T17:09:...</td>\n",
       "      <td>[20.0, 14.0, 61.0, 55.0, 21.0, 81.0, 100.0, 10...</td>\n",
       "      <td>[9750081, 9750111, 9750039, 9749948, 9749729, ...</td>\n",
       "      <td>[2.0, 4.0, 6.0, 9.0, 1.0, 30.0, 37.0, 5.0, 3.0...</td>\n",
       "    </tr>\n",
       "  </tbody>\n",
       "</table>\n",
       "</div>"
      ],
      "text/plain": [
       "   user_id                              impression_time_fixed  \\\n",
       "0   750497  [2023-05-04T09:42:39.000000, 2023-05-04T09:43:...   \n",
       "1    22779  [2023-05-04T07:53:42.000000, 2023-05-04T15:59:...   \n",
       "2   373598  [2023-05-04T07:51:58.000000, 2023-05-04T09:59:...   \n",
       "3   383378  [2023-05-04T07:27:57.000000, 2023-05-04T07:29:...   \n",
       "4   411733  [2023-05-04T17:09:09.000000, 2023-05-04T17:09:...   \n",
       "\n",
       "                             scroll_percentage_fixed  \\\n",
       "0  [100.0, 65.0, 100.0, 100.0, 100.0, 100.0, 100....   \n",
       "1  [52.0, 39.0, 62.0, 38.0, 74.0, 19.0, 30.0, 56....   \n",
       "2  [nan, nan, nan, 59.0, 33.0, 75.0, nan, nan, 76...   \n",
       "3  [100.0, 100.0, 100.0, 100.0, 100.0, 100.0, 100...   \n",
       "4  [20.0, 14.0, 61.0, 55.0, 21.0, 81.0, 100.0, 10...   \n",
       "\n",
       "                                    article_id_fixed  \\\n",
       "0  [9749224, 9749156, 9749224, 9748948, 9748980, ...   \n",
       "1  [9749025, 9750090, 9750015, 9750161, 9745750, ...   \n",
       "2  [9514481, 9514481, 9111040, 9750389, 9750307, ...   \n",
       "3  [9747490, 9749036, 9749025, 9748792, 9748592, ...   \n",
       "4  [9750081, 9750111, 9750039, 9749948, 9749729, ...   \n",
       "\n",
       "                                     read_time_fixed  \n",
       "0  [49.0, 5.0, 7.0, 151.0, 214.0, 199.0, 22.0, 64...  \n",
       "1  [4.0, 16.0, 2.0, 9.0, 40.0, 7.0, 9.0, 8.0, 18....  \n",
       "2  [0.0, 0.0, 0.0, 3.0, 9.0, 117.0, 39.0, 0.0, 8....  \n",
       "3  [85.0, 18.0, 133.0, 191.0, 331.0, 56.0, 43.0, ...  \n",
       "4  [2.0, 4.0, 6.0, 9.0, 1.0, 30.0, 37.0, 5.0, 3.0...  "
      ]
     },
     "execution_count": 11,
     "metadata": {},
     "output_type": "execute_result"
    }
   ],
   "source": [
    "history_df.head()"
   ]
  },
  {
   "cell_type": "code",
   "execution_count": 12,
   "metadata": {},
   "outputs": [],
   "source": [
    "history_df_copied= history_df[['article_id_fixed','read_time_fixed']].copy()"
   ]
  },
  {
   "cell_type": "code",
   "execution_count": 15,
   "metadata": {},
   "outputs": [
    {
     "data": {
      "text/html": [
       "<div>\n",
       "<style scoped>\n",
       "    .dataframe tbody tr th:only-of-type {\n",
       "        vertical-align: middle;\n",
       "    }\n",
       "\n",
       "    .dataframe tbody tr th {\n",
       "        vertical-align: top;\n",
       "    }\n",
       "\n",
       "    .dataframe thead th {\n",
       "        text-align: right;\n",
       "    }\n",
       "</style>\n",
       "<table border=\"1\" class=\"dataframe\">\n",
       "  <thead>\n",
       "    <tr style=\"text-align: right;\">\n",
       "      <th></th>\n",
       "      <th>article_id_fixed</th>\n",
       "      <th>read_time_fixed</th>\n",
       "    </tr>\n",
       "  </thead>\n",
       "  <tbody>\n",
       "    <tr>\n",
       "      <th>0</th>\n",
       "      <td>[9749224, 9749156, 9749224, 9748948, 9748980, ...</td>\n",
       "      <td>49.0</td>\n",
       "    </tr>\n",
       "    <tr>\n",
       "      <th>0</th>\n",
       "      <td>[9749224, 9749156, 9749224, 9748948, 9748980, ...</td>\n",
       "      <td>5.0</td>\n",
       "    </tr>\n",
       "    <tr>\n",
       "      <th>0</th>\n",
       "      <td>[9749224, 9749156, 9749224, 9748948, 9748980, ...</td>\n",
       "      <td>7.0</td>\n",
       "    </tr>\n",
       "    <tr>\n",
       "      <th>0</th>\n",
       "      <td>[9749224, 9749156, 9749224, 9748948, 9748980, ...</td>\n",
       "      <td>151.0</td>\n",
       "    </tr>\n",
       "    <tr>\n",
       "      <th>0</th>\n",
       "      <td>[9749224, 9749156, 9749224, 9748948, 9748980, ...</td>\n",
       "      <td>214.0</td>\n",
       "    </tr>\n",
       "  </tbody>\n",
       "</table>\n",
       "</div>"
      ],
      "text/plain": [
       "                                    article_id_fixed read_time_fixed\n",
       "0  [9749224, 9749156, 9749224, 9748948, 9748980, ...            49.0\n",
       "0  [9749224, 9749156, 9749224, 9748948, 9748980, ...             5.0\n",
       "0  [9749224, 9749156, 9749224, 9748948, 9748980, ...             7.0\n",
       "0  [9749224, 9749156, 9749224, 9748948, 9748980, ...           151.0\n",
       "0  [9749224, 9749156, 9749224, 9748948, 9748980, ...           214.0"
      ]
     },
     "execution_count": 15,
     "metadata": {},
     "output_type": "execute_result"
    }
   ],
   "source": [
    "history_exploded = history_df_copied.explode('read_time_fixed')\n",
    "history_exploded.head()"
   ]
  },
  {
   "cell_type": "code",
   "execution_count": 18,
   "metadata": {},
   "outputs": [
    {
     "data": {
      "image/png": "[encoded data removed]",
      "text/plain": [
       "<Figure size 1000x600 with 1 Axes>"
      ]
     },
     "metadata": {},
     "output_type": "display_data"
    }
   ],
   "source": [
    "plt.figure(figsize=(10, 6))\n",
    "sns.boxplot(y=history_exploded['read_time_fixed'])\n",
    "\n",
    "# Add titles and labels\n",
    "plt.title('Boxplot of Read Time Fixed')\n",
    "plt.ylabel('Read Time Fixed')\n",
    "\n",
    "# Display the plot\n",
    "plt.show()"
   ]
  },
  {
   "cell_type": "code",
   "execution_count": 21,
   "metadata": {},
   "outputs": [
    {
     "data": {
      "text/plain": [
       "Text(0, 0.5, 'Frequency')"
      ]
     },
     "execution_count": 21,
     "metadata": {},
     "output_type": "execute_result"
    },
    {
     "data": {
      "image/png": "[encoded data removed]",
      "text/plain": [
       "<Figure size 1200x600 with 1 Axes>"
      ]
     },
     "metadata": {},
     "output_type": "display_data"
    }
   ],
   "source": [
    "plt.figure(figsize=(12, 6))\n",
    "sns.histplot(history_exploded['read_time_fixed'], bins=100, kde=False, color='blue', edgecolor='black')\n",
    "\n",
    "# Add titles and labels\n",
    "plt.title('Histogram of Read Time Fixed with Bins')\n",
    "plt.xlabel('Read Time Fixed')\n",
    "plt.ylabel('Frequency')"
   ]
  },
  {
   "cell_type": "code",
   "execution_count": 23,
   "metadata": {},
   "outputs": [
    {
     "data": {
      "text/plain": [
       "Index(['article_id_fixed', 'read_time_fixed'], dtype='object')"
      ]
     },
     "execution_count": 23,
     "metadata": {},
     "output_type": "execute_result"
    }
   ],
   "source": [
    "history_exploded.columns"
   ]
  },
  {
   "cell_type": "code",
   "execution_count": 24,
   "metadata": {},
   "outputs": [
    {
     "name": "stdout",
     "output_type": "stream",
     "text": [
      "Original DataFrame:\n",
      "\n",
      "Filtered DataFrame based on deviation from mean of column C:\n",
      "                                    article_id_fixed read_time_fixed\n",
      "0  [9749224, 9749156, 9749224, 9748948, 9748980, ...           500.0\n",
      "0  [9749224, 9749156, 9749224, 9748948, 9748980, ...           504.0\n",
      "0  [9749224, 9749156, 9749224, 9748948, 9748980, ...           498.0\n",
      "0  [9749224, 9749156, 9749224, 9748948, 9748980, ...           996.0\n",
      "0  [9749224, 9749156, 9749224, 9748948, 9748980, ...           937.0\n"
     ]
    }
   ],
   "source": [
    "\n",
    "# Calculate mean and standard deviation of column C\n",
    "mean_C = history_exploded['read_time_fixed'].mean()\n",
    "std_C = history_exploded['read_time_fixed'].std()\n",
    "\n",
    "# Define a threshold for deviation (e.g., 2 times the standard deviation)\n",
    "threshold = mean_C + 2 * std_C\n",
    "\n",
    "# Filter the DataFrame based on deviation from the mean of column C\n",
    "filtered_df = history_exploded[history_exploded['read_time_fixed'] > threshold]\n",
    "\n",
    "print(\"Original DataFrame:\")\n",
    "print(\"\\nFiltered DataFrame based on deviation from mean of column C:\")\n",
    "print(filtered_df.head())"
   ]
  },
  {
   "cell_type": "code",
   "execution_count": 33,
   "metadata": {},
   "outputs": [
    {
     "data": {
      "text/html": [
       "<div>\n",
       "<style scoped>\n",
       "    .dataframe tbody tr th:only-of-type {\n",
       "        vertical-align: middle;\n",
       "    }\n",
       "\n",
       "    .dataframe tbody tr th {\n",
       "        vertical-align: top;\n",
       "    }\n",
       "\n",
       "    .dataframe thead th {\n",
       "        text-align: right;\n",
       "    }\n",
       "</style>\n",
       "<table border=\"1\" class=\"dataframe\">\n",
       "  <thead>\n",
       "    <tr style=\"text-align: right;\">\n",
       "      <th></th>\n",
       "      <th>article_id_fixed</th>\n",
       "      <th>read_time_fixed</th>\n",
       "      <th>read_time_fixed_standardized</th>\n",
       "      <th>read_time_fixed_normalized</th>\n",
       "    </tr>\n",
       "  </thead>\n",
       "  <tbody>\n",
       "    <tr>\n",
       "      <th>0</th>\n",
       "      <td>[9749224, 9749156, 9749224, 9748948, 9748980, ...</td>\n",
       "      <td>49.0</td>\n",
       "      <td>-0.078362</td>\n",
       "      <td>0.027222</td>\n",
       "    </tr>\n",
       "    <tr>\n",
       "      <th>0</th>\n",
       "      <td>[9749224, 9749156, 9749224, 9748948, 9748980, ...</td>\n",
       "      <td>5.0</td>\n",
       "      <td>-0.347609</td>\n",
       "      <td>0.002778</td>\n",
       "    </tr>\n",
       "    <tr>\n",
       "      <th>0</th>\n",
       "      <td>[9749224, 9749156, 9749224, 9748948, 9748980, ...</td>\n",
       "      <td>7.0</td>\n",
       "      <td>-0.335370</td>\n",
       "      <td>0.003889</td>\n",
       "    </tr>\n",
       "    <tr>\n",
       "      <th>0</th>\n",
       "      <td>[9749224, 9749156, 9749224, 9748948, 9748980, ...</td>\n",
       "      <td>151.0</td>\n",
       "      <td>0.545799</td>\n",
       "      <td>0.083889</td>\n",
       "    </tr>\n",
       "    <tr>\n",
       "      <th>0</th>\n",
       "      <td>[9749224, 9749156, 9749224, 9748948, 9748980, ...</td>\n",
       "      <td>214.0</td>\n",
       "      <td>0.931310</td>\n",
       "      <td>0.118889</td>\n",
       "    </tr>\n",
       "  </tbody>\n",
       "</table>\n",
       "</div>"
      ],
      "text/plain": [
       "                                    article_id_fixed read_time_fixed  \\\n",
       "0  [9749224, 9749156, 9749224, 9748948, 9748980, ...            49.0   \n",
       "0  [9749224, 9749156, 9749224, 9748948, 9748980, ...             5.0   \n",
       "0  [9749224, 9749156, 9749224, 9748948, 9748980, ...             7.0   \n",
       "0  [9749224, 9749156, 9749224, 9748948, 9748980, ...           151.0   \n",
       "0  [9749224, 9749156, 9749224, 9748948, 9748980, ...           214.0   \n",
       "\n",
       "   read_time_fixed_standardized  read_time_fixed_normalized  \n",
       "0                     -0.078362                    0.027222  \n",
       "0                     -0.347609                    0.002778  \n",
       "0                     -0.335370                    0.003889  \n",
       "0                      0.545799                    0.083889  \n",
       "0                      0.931310                    0.118889  "
      ]
     },
     "execution_count": 33,
     "metadata": {},
     "output_type": "execute_result"
    }
   ],
   "source": [
    "mean_C = history_exploded['read_time_fixed'].mean()\n",
    "std_C = history_exploded['read_time_fixed'].std()\n",
    "min_C = history_exploded['read_time_fixed'].min()\n",
    "max_C = history_exploded['read_time_fixed'].max()\n",
    "\n",
    "\n",
    "history_exploded['read_time_fixed_normalized'] = history_exploded['read_time_fixed'].apply(lambda x: (x-min_C)/(max_C-min_C))\n",
    "history_exploded.head()"
   ]
  },
  {
   "cell_type": "code",
   "execution_count": 36,
   "metadata": {},
   "outputs": [
    {
     "data": {
      "text/plain": [
       "Text(0, 0.5, 'Frequency')"
      ]
     },
     "execution_count": 36,
     "metadata": {},
     "output_type": "execute_result"
    },
    {
     "data": {
      "image/png": "[encoded data removed]",
      "text/plain": [
       "<Figure size 1200x600 with 1 Axes>"
      ]
     },
     "metadata": {},
     "output_type": "display_data"
    }
   ],
   "source": [
    "plt.figure(figsize=(12, 6))\n",
    "sns.histplot(history_exploded['read_time_fixed_normalized'], bins=100, kde=False, color='blue', edgecolor='black')\n",
    "\n",
    "# Add titles and labels\n",
    "plt.title('Histogram of Read Time Fixed with Bins')\n",
    "plt.xlabel('Read Time Fixed')\n",
    "plt.ylabel('Frequency')"
   ]
  },
  {
   "cell_type": "code",
   "execution_count": null,
   "metadata": {},
   "outputs": [],
   "source": [
    "median_D = df['D'].sta()\n",
    "Q1 = df['D'].quantile(0.25)\n",
    "Q3 = df['D'].quantile(0.75)\n",
    "IQR_D = Q3 - Q1\n"
   ]
  }
 ],
 "metadata": {
  "kernelspec": {
   "display_name": "base",
   "language": "python",
   "name": "python3"
  },
  "language_info": {
   "codemirror_mode": {
    "name": "ipython",
    "version": 3
   },
   "file_extension": ".py",
   "mimetype": "text/x-python",
   "name": "python",
   "nbconvert_exporter": "python",
   "pygments_lexer": "ipython3",
   "version": "3.9.13"
  }
 },
 "nbformat": 4,
 "nbformat_minor": 2
}
