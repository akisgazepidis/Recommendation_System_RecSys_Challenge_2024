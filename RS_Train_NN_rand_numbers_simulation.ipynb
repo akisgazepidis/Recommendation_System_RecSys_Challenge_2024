{
 "cells": [
  {
   "cell_type": "code",
   "execution_count": 1,
   "metadata": {},
   "outputs": [],
   "source": [
    "import datetime\n",
    "import pandas as pd\n",
    "import numpy as np\n",
    "import tensorflow as tf\n",
    "from tensorflow.keras.models import Sequential\n",
    "from tensorflow.keras.layers import Dense\n",
    "from tensorflow.keras.callbacks import TensorBoard\n",
    "from tqdm.keras import TqdmCallback\n",
    "from sklearn.model_selection import train_test_split\n",
    "from sklearn.preprocessing import StandardScaler, MinMaxScaler\n"
   ]
  },
  {
   "cell_type": "code",
   "execution_count": 2,
   "metadata": {},
   "outputs": [],
   "source": [
    "# Step 1: Create User DataFrame (user_df)\n",
    "num_users = 1590\n",
    "user_df = pd.DataFrame(np.random.uniform(low=-1, high=1, size=(num_users, 300)), \n",
    "                       index=np.arange(num_users), columns=np.arange(300))"
   ]
  },
  {
   "cell_type": "code",
   "execution_count": 3,
   "metadata": {},
   "outputs": [
    {
     "data": {
      "text/html": [
       "<div>\n",
       "<style scoped>\n",
       "    .dataframe tbody tr th:only-of-type {\n",
       "        vertical-align: middle;\n",
       "    }\n",
       "\n",
       "    .dataframe tbody tr th {\n",
       "        vertical-align: top;\n",
       "    }\n",
       "\n",
       "    .dataframe thead th {\n",
       "        text-align: right;\n",
       "    }\n",
       "</style>\n",
       "<table border=\"1\" class=\"dataframe\">\n",
       "  <thead>\n",
       "    <tr style=\"text-align: right;\">\n",
       "      <th></th>\n",
       "      <th>0</th>\n",
       "      <th>1</th>\n",
       "      <th>2</th>\n",
       "      <th>3</th>\n",
       "      <th>4</th>\n",
       "      <th>5</th>\n",
       "      <th>6</th>\n",
       "      <th>7</th>\n",
       "      <th>8</th>\n",
       "      <th>9</th>\n",
       "      <th>...</th>\n",
       "      <th>290</th>\n",
       "      <th>291</th>\n",
       "      <th>292</th>\n",
       "      <th>293</th>\n",
       "      <th>294</th>\n",
       "      <th>295</th>\n",
       "      <th>296</th>\n",
       "      <th>297</th>\n",
       "      <th>298</th>\n",
       "      <th>299</th>\n",
       "    </tr>\n",
       "  </thead>\n",
       "  <tbody>\n",
       "    <tr>\n",
       "      <th>0</th>\n",
       "      <td>-0.049363</td>\n",
       "      <td>-0.303704</td>\n",
       "      <td>-0.480393</td>\n",
       "      <td>0.078527</td>\n",
       "      <td>-0.773868</td>\n",
       "      <td>0.450385</td>\n",
       "      <td>-0.519743</td>\n",
       "      <td>-0.228698</td>\n",
       "      <td>-0.662038</td>\n",
       "      <td>0.881668</td>\n",
       "      <td>...</td>\n",
       "      <td>0.494970</td>\n",
       "      <td>0.091419</td>\n",
       "      <td>0.750647</td>\n",
       "      <td>0.053988</td>\n",
       "      <td>0.519939</td>\n",
       "      <td>-0.033637</td>\n",
       "      <td>-0.013388</td>\n",
       "      <td>-0.777252</td>\n",
       "      <td>-0.347181</td>\n",
       "      <td>-0.507380</td>\n",
       "    </tr>\n",
       "    <tr>\n",
       "      <th>1</th>\n",
       "      <td>0.036395</td>\n",
       "      <td>0.486561</td>\n",
       "      <td>0.254477</td>\n",
       "      <td>-0.674740</td>\n",
       "      <td>-0.746515</td>\n",
       "      <td>-0.792668</td>\n",
       "      <td>0.359735</td>\n",
       "      <td>0.177707</td>\n",
       "      <td>-0.979102</td>\n",
       "      <td>0.742850</td>\n",
       "      <td>...</td>\n",
       "      <td>-0.691847</td>\n",
       "      <td>0.262373</td>\n",
       "      <td>-0.698496</td>\n",
       "      <td>-0.269646</td>\n",
       "      <td>-0.266737</td>\n",
       "      <td>0.078235</td>\n",
       "      <td>0.540720</td>\n",
       "      <td>0.840582</td>\n",
       "      <td>0.309625</td>\n",
       "      <td>0.147902</td>\n",
       "    </tr>\n",
       "  </tbody>\n",
       "</table>\n",
       "<p>2 rows × 300 columns</p>\n",
       "</div>"
      ],
      "text/plain": [
       "        0         1         2         3         4         5         6    \\\n",
       "0 -0.049363 -0.303704 -0.480393  0.078527 -0.773868  0.450385 -0.519743   \n",
       "1  0.036395  0.486561  0.254477 -0.674740 -0.746515 -0.792668  0.359735   \n",
       "\n",
       "        7         8         9    ...       290       291       292       293  \\\n",
       "0 -0.228698 -0.662038  0.881668  ...  0.494970  0.091419  0.750647  0.053988   \n",
       "1  0.177707 -0.979102  0.742850  ... -0.691847  0.262373 -0.698496 -0.269646   \n",
       "\n",
       "        294       295       296       297       298       299  \n",
       "0  0.519939 -0.033637 -0.013388 -0.777252 -0.347181 -0.507380  \n",
       "1 -0.266737  0.078235  0.540720  0.840582  0.309625  0.147902  \n",
       "\n",
       "[2 rows x 300 columns]"
      ]
     },
     "execution_count": 3,
     "metadata": {},
     "output_type": "execute_result"
    }
   ],
   "source": [
    "user_df.head(2)"
   ]
  },
  {
   "cell_type": "code",
   "execution_count": 4,
   "metadata": {},
   "outputs": [],
   "source": [
    "\n",
    "# Step 2: Create Article DataFrame (article_df)\n",
    "num_articles = 4247\n",
    "article_df = pd.DataFrame(np.random.uniform(low=-1, high=1, size=(num_articles, 300)), \n",
    "                          index=np.arange(num_articles), columns=np.arange(300))\n"
   ]
  },
  {
   "cell_type": "code",
   "execution_count": 5,
   "metadata": {},
   "outputs": [
    {
     "data": {
      "text/html": [
       "<div>\n",
       "<style scoped>\n",
       "    .dataframe tbody tr th:only-of-type {\n",
       "        vertical-align: middle;\n",
       "    }\n",
       "\n",
       "    .dataframe tbody tr th {\n",
       "        vertical-align: top;\n",
       "    }\n",
       "\n",
       "    .dataframe thead th {\n",
       "        text-align: right;\n",
       "    }\n",
       "</style>\n",
       "<table border=\"1\" class=\"dataframe\">\n",
       "  <thead>\n",
       "    <tr style=\"text-align: right;\">\n",
       "      <th></th>\n",
       "      <th>0</th>\n",
       "      <th>1</th>\n",
       "      <th>2</th>\n",
       "      <th>3</th>\n",
       "      <th>4</th>\n",
       "      <th>5</th>\n",
       "      <th>6</th>\n",
       "      <th>7</th>\n",
       "      <th>8</th>\n",
       "      <th>9</th>\n",
       "      <th>...</th>\n",
       "      <th>290</th>\n",
       "      <th>291</th>\n",
       "      <th>292</th>\n",
       "      <th>293</th>\n",
       "      <th>294</th>\n",
       "      <th>295</th>\n",
       "      <th>296</th>\n",
       "      <th>297</th>\n",
       "      <th>298</th>\n",
       "      <th>299</th>\n",
       "    </tr>\n",
       "  </thead>\n",
       "  <tbody>\n",
       "    <tr>\n",
       "      <th>0</th>\n",
       "      <td>-0.073355</td>\n",
       "      <td>0.664991</td>\n",
       "      <td>-0.137629</td>\n",
       "      <td>-0.730518</td>\n",
       "      <td>-0.741497</td>\n",
       "      <td>-0.020195</td>\n",
       "      <td>0.009307</td>\n",
       "      <td>0.65493</td>\n",
       "      <td>-0.492967</td>\n",
       "      <td>0.433702</td>\n",
       "      <td>...</td>\n",
       "      <td>0.254606</td>\n",
       "      <td>-0.238789</td>\n",
       "      <td>-0.831218</td>\n",
       "      <td>0.904384</td>\n",
       "      <td>0.120009</td>\n",
       "      <td>-0.204506</td>\n",
       "      <td>0.381561</td>\n",
       "      <td>-0.826842</td>\n",
       "      <td>0.191217</td>\n",
       "      <td>-0.737217</td>\n",
       "    </tr>\n",
       "    <tr>\n",
       "      <th>1</th>\n",
       "      <td>0.985746</td>\n",
       "      <td>-0.684073</td>\n",
       "      <td>-0.731512</td>\n",
       "      <td>-0.967079</td>\n",
       "      <td>0.161351</td>\n",
       "      <td>0.702799</td>\n",
       "      <td>-0.665756</td>\n",
       "      <td>-0.53187</td>\n",
       "      <td>0.230363</td>\n",
       "      <td>-0.277553</td>\n",
       "      <td>...</td>\n",
       "      <td>-0.370847</td>\n",
       "      <td>0.857662</td>\n",
       "      <td>-0.541920</td>\n",
       "      <td>-0.778803</td>\n",
       "      <td>-0.320718</td>\n",
       "      <td>0.082687</td>\n",
       "      <td>0.605517</td>\n",
       "      <td>0.527307</td>\n",
       "      <td>0.391200</td>\n",
       "      <td>-0.030112</td>\n",
       "    </tr>\n",
       "  </tbody>\n",
       "</table>\n",
       "<p>2 rows × 300 columns</p>\n",
       "</div>"
      ],
      "text/plain": [
       "        0         1         2         3         4         5         6    \\\n",
       "0 -0.073355  0.664991 -0.137629 -0.730518 -0.741497 -0.020195  0.009307   \n",
       "1  0.985746 -0.684073 -0.731512 -0.967079  0.161351  0.702799 -0.665756   \n",
       "\n",
       "       7         8         9    ...       290       291       292       293  \\\n",
       "0  0.65493 -0.492967  0.433702  ...  0.254606 -0.238789 -0.831218  0.904384   \n",
       "1 -0.53187  0.230363 -0.277553  ... -0.370847  0.857662 -0.541920 -0.778803   \n",
       "\n",
       "        294       295       296       297       298       299  \n",
       "0  0.120009 -0.204506  0.381561 -0.826842  0.191217 -0.737217  \n",
       "1 -0.320718  0.082687  0.605517  0.527307  0.391200 -0.030112  \n",
       "\n",
       "[2 rows x 300 columns]"
      ]
     },
     "execution_count": 5,
     "metadata": {},
     "output_type": "execute_result"
    }
   ],
   "source": [
    "article_df.head(2)"
   ]
  },
  {
   "cell_type": "code",
   "execution_count": 6,
   "metadata": {},
   "outputs": [],
   "source": [
    "# Step 3: Create Interaction Matrix DataFrame (interaction_matrix_df) minutes \n",
    "interaction_matrix_df = pd.DataFrame(np.random.randint(0, 101, size=(num_users, num_articles)), \n",
    "                                     index=np.arange(num_users), columns=np.arange(num_articles))"
   ]
  },
  {
   "cell_type": "code",
   "execution_count": 7,
   "metadata": {},
   "outputs": [
    {
     "data": {
      "text/html": [
       "<div>\n",
       "<style scoped>\n",
       "    .dataframe tbody tr th:only-of-type {\n",
       "        vertical-align: middle;\n",
       "    }\n",
       "\n",
       "    .dataframe tbody tr th {\n",
       "        vertical-align: top;\n",
       "    }\n",
       "\n",
       "    .dataframe thead th {\n",
       "        text-align: right;\n",
       "    }\n",
       "</style>\n",
       "<table border=\"1\" class=\"dataframe\">\n",
       "  <thead>\n",
       "    <tr style=\"text-align: right;\">\n",
       "      <th></th>\n",
       "      <th>0</th>\n",
       "      <th>1</th>\n",
       "      <th>2</th>\n",
       "      <th>3</th>\n",
       "      <th>4</th>\n",
       "      <th>5</th>\n",
       "      <th>6</th>\n",
       "      <th>7</th>\n",
       "      <th>8</th>\n",
       "      <th>9</th>\n",
       "      <th>...</th>\n",
       "      <th>4237</th>\n",
       "      <th>4238</th>\n",
       "      <th>4239</th>\n",
       "      <th>4240</th>\n",
       "      <th>4241</th>\n",
       "      <th>4242</th>\n",
       "      <th>4243</th>\n",
       "      <th>4244</th>\n",
       "      <th>4245</th>\n",
       "      <th>4246</th>\n",
       "    </tr>\n",
       "  </thead>\n",
       "  <tbody>\n",
       "    <tr>\n",
       "      <th>0</th>\n",
       "      <td>63</td>\n",
       "      <td>22</td>\n",
       "      <td>19</td>\n",
       "      <td>9</td>\n",
       "      <td>52</td>\n",
       "      <td>7</td>\n",
       "      <td>18</td>\n",
       "      <td>58</td>\n",
       "      <td>28</td>\n",
       "      <td>20</td>\n",
       "      <td>...</td>\n",
       "      <td>21</td>\n",
       "      <td>17</td>\n",
       "      <td>76</td>\n",
       "      <td>44</td>\n",
       "      <td>19</td>\n",
       "      <td>100</td>\n",
       "      <td>2</td>\n",
       "      <td>21</td>\n",
       "      <td>18</td>\n",
       "      <td>4</td>\n",
       "    </tr>\n",
       "    <tr>\n",
       "      <th>1</th>\n",
       "      <td>16</td>\n",
       "      <td>36</td>\n",
       "      <td>96</td>\n",
       "      <td>99</td>\n",
       "      <td>50</td>\n",
       "      <td>47</td>\n",
       "      <td>88</td>\n",
       "      <td>78</td>\n",
       "      <td>100</td>\n",
       "      <td>70</td>\n",
       "      <td>...</td>\n",
       "      <td>54</td>\n",
       "      <td>37</td>\n",
       "      <td>30</td>\n",
       "      <td>69</td>\n",
       "      <td>99</td>\n",
       "      <td>0</td>\n",
       "      <td>100</td>\n",
       "      <td>28</td>\n",
       "      <td>45</td>\n",
       "      <td>73</td>\n",
       "    </tr>\n",
       "  </tbody>\n",
       "</table>\n",
       "<p>2 rows × 4247 columns</p>\n",
       "</div>"
      ],
      "text/plain": [
       "   0     1     2     3     4     5     6     7     8     9     ...  4237  \\\n",
       "0    63    22    19     9    52     7    18    58    28    20  ...    21   \n",
       "1    16    36    96    99    50    47    88    78   100    70  ...    54   \n",
       "\n",
       "   4238  4239  4240  4241  4242  4243  4244  4245  4246  \n",
       "0    17    76    44    19   100     2    21    18     4  \n",
       "1    37    30    69    99     0   100    28    45    73  \n",
       "\n",
       "[2 rows x 4247 columns]"
      ]
     },
     "execution_count": 7,
     "metadata": {},
     "output_type": "execute_result"
    }
   ],
   "source": [
    "interaction_matrix_df.head(2)"
   ]
  },
  {
   "cell_type": "code",
   "execution_count": 8,
   "metadata": {},
   "outputs": [],
   "source": [
    "\n",
    "# Step 4: Convert DataFrames to numpy arrays\n",
    "user_vectors = user_df.values  # Shape: (1590, 300)\n",
    "article_vectors = article_df.values  # Shape: (4247, 300)\n",
    "interaction_matrix = interaction_matrix_df.values  # Shape: (1590, 4247)"
   ]
  },
  {
   "cell_type": "code",
   "execution_count": 9,
   "metadata": {},
   "outputs": [],
   "source": [
    "# Normalize the original interaction matrix\n",
    "interaction_matrix_normalized = MinMaxScaler().fit_transform(interaction_matrix)\n"
   ]
  },
  {
   "cell_type": "code",
   "execution_count": 10,
   "metadata": {},
   "outputs": [],
   "source": [
    "# Step 5: Get indices of non-zero entries in the interaction matrix\n",
    "user_idx, article_idx = np.where(interaction_matrix_normalized != 0)\n",
    "read_times = interaction_matrix_normalized[user_idx[:20000], article_idx[:20000]] # choose 20000 because the result is 60000"
   ]
  },
  {
   "cell_type": "code",
   "execution_count": 11,
   "metadata": {},
   "outputs": [
    {
     "name": "stdout",
     "output_type": "stream",
     "text": [
      "user_vectors[user_idx] shape: (20000, 300)\n",
      "article_vectors[article_idx] shape: (20000, 300)\n"
     ]
    }
   ],
   "source": [
    "# Check shapes before concatenation\n",
    "print(\"user_vectors[user_idx] shape:\", user_vectors[user_idx[:20000]].shape)\n",
    "print(\"article_vectors[article_idx] shape:\", article_vectors[article_idx[:20000]].shape)"
   ]
  },
  {
   "cell_type": "code",
   "execution_count": 12,
   "metadata": {},
   "outputs": [],
   "source": [
    "# Step 6: Split the data into train and test sets with test size of 20%\n",
    "X = np.hstack((user_vectors[user_idx[:20000]], article_vectors[article_idx[:20000]]))\n",
    "y = read_times"
   ]
  },
  {
   "cell_type": "code",
   "execution_count": 13,
   "metadata": {},
   "outputs": [
    {
     "name": "stdout",
     "output_type": "stream",
     "text": [
      "(20000, 600)\n",
      "(20000,)\n"
     ]
    }
   ],
   "source": [
    "print(X.shape)\n",
    "print(y.shape)"
   ]
  },
  {
   "cell_type": "code",
   "execution_count": 14,
   "metadata": {},
   "outputs": [],
   "source": [
    "sample = 100\n",
    "X = X[:sample]\n",
    "y = y[:sample]"
   ]
  },
  {
   "cell_type": "code",
   "execution_count": 15,
   "metadata": {},
   "outputs": [
    {
     "name": "stdout",
     "output_type": "stream",
     "text": [
      "X_train shape: (80, 600)\n",
      "X_test shape: (20, 600)\n",
      "y_train shape: (80,)\n",
      "y_test shape: (20,)\n"
     ]
    }
   ],
   "source": [
    "X_train, X_test, y_train, y_test = train_test_split(X, y, test_size=0.2, random_state=42)\n",
    "\n",
    "print(\"X_train shape:\", X_train.shape)\n",
    "print(\"X_test shape:\", X_test.shape)\n",
    "print(\"y_train shape:\", y_train.shape)\n",
    "print(\"y_test shape:\", y_test.shape)\n"
   ]
  },
  {
   "cell_type": "code",
   "execution_count": 16,
   "metadata": {},
   "outputs": [],
   "source": [
    "# y_train = y_train.reshape(-1, 1)\n",
    "# y_test = y_test.reshape(-1, 1)\n"
   ]
  },
  {
   "cell_type": "code",
   "execution_count": 17,
   "metadata": {},
   "outputs": [],
   "source": [
    "# print(\"y_train shape:\", y_train.shape)\n",
    "# print(\"y_test shape:\", y_test.shape)"
   ]
  },
  {
   "cell_type": "code",
   "execution_count": 18,
   "metadata": {
    "scrolled": true
   },
   "outputs": [
    {
     "name": "stdout",
     "output_type": "stream",
     "text": [
      "WARNING:tensorflow:Please add `keras.layers.InputLayer` instead of `keras.Input` to Sequential model. `keras.Input` is intended to be used by Functional model.\n"
     ]
    },
    {
     "data": {
      "application/vnd.jupyter.widget-view+json": {
       "model_id": "bc08b6d404a9498aadc273f206ff1fe9",
       "version_major": 2,
       "version_minor": 0
      },
      "text/plain": [
       "0epoch [00:00, ?epoch/s]"
      ]
     },
     "metadata": {},
     "output_type": "display_data"
    },
    {
     "data": {
      "application/vnd.jupyter.widget-view+json": {
       "model_id": "",
       "version_major": 2,
       "version_minor": 0
      },
      "text/plain": [
       "0batch [00:00, ?batch/s]"
      ]
     },
     "metadata": {},
     "output_type": "display_data"
    },
    {
     "name": "stdout",
     "output_type": "stream",
     "text": [
      "Epoch 1/2\n",
      "5/5 - 1s - loss: 0.3503 - mse: 0.3503 - val_loss: 0.1244 - val_mse: 0.1244\n",
      "Epoch 2/2\n",
      "5/5 - 0s - loss: 0.1266 - mse: 0.1266 - val_loss: 0.1452 - val_mse: 0.1452\n"
     ]
    }
   ],
   "source": [
    "# Define the model\n",
    "model = Sequential([\n",
    "    tf.keras.Input(shape=(600,)),\n",
    "    Dense(64, activation='relu'),\n",
    "    Dense(32, activation='relu'),\n",
    "    Dense(1)\n",
    "])\n",
    "\n",
    "# Compile the model\n",
    "model.compile(optimizer='adam', loss='mse', metrics=['mse'])\n",
    "\n",
    "# Prepare TensorBoard callback\n",
    "log_dir = \"files/logs/fit/\" + datetime.datetime.now().strftime(\"%Y%m%d-%H%M%S\")\n",
    "tensorboard_callback = TensorBoard(log_dir=log_dir, histogram_freq=1)\n",
    "\n",
    "# Train the model\n",
    "num_epochs = 2\n",
    "history = model.fit(X_train, y_train, epochs=num_epochs, batch_size=16,\n",
    "                    validation_data=(X_test, y_test),\n",
    "                    callbacks=[tensorboard_callback, TqdmCallback(verbose=1)],\n",
    "                    verbose=2)"
   ]
  },
  {
   "cell_type": "code",
   "execution_count": null,
   "metadata": {},
   "outputs": [],
   "source": []
  }
 ],
 "metadata": {
  "kernelspec": {
   "display_name": "Python 3 (ipykernel)",
   "language": "python",
   "name": "python3"
  },
  "language_info": {
   "codemirror_mode": {
    "name": "ipython",
    "version": 3
   },
   "file_extension": ".py",
   "mimetype": "text/x-python",
   "name": "python",
   "nbconvert_exporter": "python",
   "pygments_lexer": "ipython3",
   "version": "3.9.13"
  }
 },
 "nbformat": 4,
 "nbformat_minor": 2
}
