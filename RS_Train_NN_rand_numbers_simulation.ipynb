{
 "cells": [
  {
   "cell_type": "code",
   "execution_count": 1,
   "metadata": {},
   "outputs": [
    {
     "name": "stderr",
     "output_type": "stream",
     "text": [
      "/Users/akesgazepides/Recommendation_System_RecSys_Challenge_2024/venv/lib/python3.9/site-packages/urllib3/__init__.py:35: NotOpenSSLWarning: urllib3 v2 only supports OpenSSL 1.1.1+, currently the 'ssl' module is compiled with 'LibreSSL 2.8.3'. See: https://github.com/urllib3/urllib3/issues/3020\n",
      "  warnings.warn(\n"
     ]
    }
   ],
   "source": [
    "import datetime\n",
    "import pandas as pd\n",
    "import numpy as np\n",
    "import tensorflow as tf\n",
    "from tensorflow.keras.models import Sequential\n",
    "from tensorflow.keras.layers import Dense\n",
    "from tensorflow.keras.callbacks import TensorBoard\n",
    "from tqdm.keras import TqdmCallback\n",
    "from sklearn.model_selection import train_test_split\n",
    "from sklearn.preprocessing import StandardScaler, MinMaxScaler\n"
   ]
  },
  {
   "cell_type": "code",
   "execution_count": 2,
   "metadata": {},
   "outputs": [],
   "source": [
    "\n",
    "# Step 1: Create User DataFrame (user_df)\n",
    "num_users = 1590\n",
    "user_df = pd.DataFrame(np.random.uniform(low=-1, high=1, size=(num_users, 300)), \n",
    "                       index=np.arange(num_users), columns=np.arange(300))"
   ]
  },
  {
   "cell_type": "code",
   "execution_count": 3,
   "metadata": {},
   "outputs": [
    {
     "data": {
      "text/html": [
       "<div>\n",
       "<style scoped>\n",
       "    .dataframe tbody tr th:only-of-type {\n",
       "        vertical-align: middle;\n",
       "    }\n",
       "\n",
       "    .dataframe tbody tr th {\n",
       "        vertical-align: top;\n",
       "    }\n",
       "\n",
       "    .dataframe thead th {\n",
       "        text-align: right;\n",
       "    }\n",
       "</style>\n",
       "<table border=\"1\" class=\"dataframe\">\n",
       "  <thead>\n",
       "    <tr style=\"text-align: right;\">\n",
       "      <th></th>\n",
       "      <th>0</th>\n",
       "      <th>1</th>\n",
       "      <th>2</th>\n",
       "      <th>3</th>\n",
       "      <th>4</th>\n",
       "      <th>5</th>\n",
       "      <th>6</th>\n",
       "      <th>7</th>\n",
       "      <th>8</th>\n",
       "      <th>9</th>\n",
       "      <th>...</th>\n",
       "      <th>290</th>\n",
       "      <th>291</th>\n",
       "      <th>292</th>\n",
       "      <th>293</th>\n",
       "      <th>294</th>\n",
       "      <th>295</th>\n",
       "      <th>296</th>\n",
       "      <th>297</th>\n",
       "      <th>298</th>\n",
       "      <th>299</th>\n",
       "    </tr>\n",
       "  </thead>\n",
       "  <tbody>\n",
       "    <tr>\n",
       "      <th>0</th>\n",
       "      <td>0.987036</td>\n",
       "      <td>0.548181</td>\n",
       "      <td>0.861899</td>\n",
       "      <td>0.949636</td>\n",
       "      <td>-0.264353</td>\n",
       "      <td>0.123444</td>\n",
       "      <td>-0.728850</td>\n",
       "      <td>-0.001582</td>\n",
       "      <td>0.869088</td>\n",
       "      <td>0.316835</td>\n",
       "      <td>...</td>\n",
       "      <td>-0.911315</td>\n",
       "      <td>-0.130398</td>\n",
       "      <td>0.824306</td>\n",
       "      <td>0.328267</td>\n",
       "      <td>0.763953</td>\n",
       "      <td>-0.299094</td>\n",
       "      <td>-0.663173</td>\n",
       "      <td>-0.785614</td>\n",
       "      <td>0.091697</td>\n",
       "      <td>0.022694</td>\n",
       "    </tr>\n",
       "    <tr>\n",
       "      <th>1</th>\n",
       "      <td>-0.035981</td>\n",
       "      <td>0.383406</td>\n",
       "      <td>0.355275</td>\n",
       "      <td>0.812436</td>\n",
       "      <td>-0.135662</td>\n",
       "      <td>0.869094</td>\n",
       "      <td>0.760887</td>\n",
       "      <td>0.573681</td>\n",
       "      <td>-0.800416</td>\n",
       "      <td>0.869356</td>\n",
       "      <td>...</td>\n",
       "      <td>0.163064</td>\n",
       "      <td>0.348463</td>\n",
       "      <td>0.723769</td>\n",
       "      <td>0.834318</td>\n",
       "      <td>0.130463</td>\n",
       "      <td>-0.944063</td>\n",
       "      <td>-0.024919</td>\n",
       "      <td>0.335105</td>\n",
       "      <td>-0.016085</td>\n",
       "      <td>0.966159</td>\n",
       "    </tr>\n",
       "  </tbody>\n",
       "</table>\n",
       "<p>2 rows × 300 columns</p>\n",
       "</div>"
      ],
      "text/plain": [
       "        0         1         2         3         4         5         6    \\\n",
       "0  0.987036  0.548181  0.861899  0.949636 -0.264353  0.123444 -0.728850   \n",
       "1 -0.035981  0.383406  0.355275  0.812436 -0.135662  0.869094  0.760887   \n",
       "\n",
       "        7         8         9    ...       290       291       292       293  \\\n",
       "0 -0.001582  0.869088  0.316835  ... -0.911315 -0.130398  0.824306  0.328267   \n",
       "1  0.573681 -0.800416  0.869356  ...  0.163064  0.348463  0.723769  0.834318   \n",
       "\n",
       "        294       295       296       297       298       299  \n",
       "0  0.763953 -0.299094 -0.663173 -0.785614  0.091697  0.022694  \n",
       "1  0.130463 -0.944063 -0.024919  0.335105 -0.016085  0.966159  \n",
       "\n",
       "[2 rows x 300 columns]"
      ]
     },
     "execution_count": 3,
     "metadata": {},
     "output_type": "execute_result"
    }
   ],
   "source": [
    "user_df.head(2)"
   ]
  },
  {
   "cell_type": "code",
   "execution_count": 3,
   "metadata": {},
   "outputs": [],
   "source": [
    "\n",
    "# Step 2: Create Article DataFrame (article_df)\n",
    "num_articles = 4247\n",
    "article_df = pd.DataFrame(np.random.uniform(low=-1, high=1, size=(num_articles, 300)), \n",
    "                          index=np.arange(num_articles), columns=np.arange(300))\n"
   ]
  },
  {
   "cell_type": "code",
   "execution_count": 5,
   "metadata": {},
   "outputs": [
    {
     "data": {
      "text/html": [
       "<div>\n",
       "<style scoped>\n",
       "    .dataframe tbody tr th:only-of-type {\n",
       "        vertical-align: middle;\n",
       "    }\n",
       "\n",
       "    .dataframe tbody tr th {\n",
       "        vertical-align: top;\n",
       "    }\n",
       "\n",
       "    .dataframe thead th {\n",
       "        text-align: right;\n",
       "    }\n",
       "</style>\n",
       "<table border=\"1\" class=\"dataframe\">\n",
       "  <thead>\n",
       "    <tr style=\"text-align: right;\">\n",
       "      <th></th>\n",
       "      <th>0</th>\n",
       "      <th>1</th>\n",
       "      <th>2</th>\n",
       "      <th>3</th>\n",
       "      <th>4</th>\n",
       "      <th>5</th>\n",
       "      <th>6</th>\n",
       "      <th>7</th>\n",
       "      <th>8</th>\n",
       "      <th>9</th>\n",
       "      <th>...</th>\n",
       "      <th>290</th>\n",
       "      <th>291</th>\n",
       "      <th>292</th>\n",
       "      <th>293</th>\n",
       "      <th>294</th>\n",
       "      <th>295</th>\n",
       "      <th>296</th>\n",
       "      <th>297</th>\n",
       "      <th>298</th>\n",
       "      <th>299</th>\n",
       "    </tr>\n",
       "  </thead>\n",
       "  <tbody>\n",
       "    <tr>\n",
       "      <th>0</th>\n",
       "      <td>0.493883</td>\n",
       "      <td>-0.397649</td>\n",
       "      <td>0.246487</td>\n",
       "      <td>0.610953</td>\n",
       "      <td>-0.744756</td>\n",
       "      <td>0.378394</td>\n",
       "      <td>0.805706</td>\n",
       "      <td>-0.649033</td>\n",
       "      <td>-0.707469</td>\n",
       "      <td>0.658989</td>\n",
       "      <td>...</td>\n",
       "      <td>0.691331</td>\n",
       "      <td>0.977246</td>\n",
       "      <td>0.506997</td>\n",
       "      <td>0.250476</td>\n",
       "      <td>0.859761</td>\n",
       "      <td>-0.700932</td>\n",
       "      <td>-0.437441</td>\n",
       "      <td>0.140165</td>\n",
       "      <td>-0.557691</td>\n",
       "      <td>-0.076937</td>\n",
       "    </tr>\n",
       "    <tr>\n",
       "      <th>1</th>\n",
       "      <td>-0.021556</td>\n",
       "      <td>0.808796</td>\n",
       "      <td>0.930118</td>\n",
       "      <td>-0.106310</td>\n",
       "      <td>-0.362500</td>\n",
       "      <td>-0.848620</td>\n",
       "      <td>-0.860997</td>\n",
       "      <td>0.756616</td>\n",
       "      <td>-0.097077</td>\n",
       "      <td>-0.554402</td>\n",
       "      <td>...</td>\n",
       "      <td>0.093996</td>\n",
       "      <td>-0.748099</td>\n",
       "      <td>0.098246</td>\n",
       "      <td>0.929737</td>\n",
       "      <td>0.799071</td>\n",
       "      <td>-0.083675</td>\n",
       "      <td>0.074691</td>\n",
       "      <td>0.790937</td>\n",
       "      <td>0.268994</td>\n",
       "      <td>0.658648</td>\n",
       "    </tr>\n",
       "  </tbody>\n",
       "</table>\n",
       "<p>2 rows × 300 columns</p>\n",
       "</div>"
      ],
      "text/plain": [
       "        0         1         2         3         4         5         6    \\\n",
       "0  0.493883 -0.397649  0.246487  0.610953 -0.744756  0.378394  0.805706   \n",
       "1 -0.021556  0.808796  0.930118 -0.106310 -0.362500 -0.848620 -0.860997   \n",
       "\n",
       "        7         8         9    ...       290       291       292       293  \\\n",
       "0 -0.649033 -0.707469  0.658989  ...  0.691331  0.977246  0.506997  0.250476   \n",
       "1  0.756616 -0.097077 -0.554402  ...  0.093996 -0.748099  0.098246  0.929737   \n",
       "\n",
       "        294       295       296       297       298       299  \n",
       "0  0.859761 -0.700932 -0.437441  0.140165 -0.557691 -0.076937  \n",
       "1  0.799071 -0.083675  0.074691  0.790937  0.268994  0.658648  \n",
       "\n",
       "[2 rows x 300 columns]"
      ]
     },
     "execution_count": 5,
     "metadata": {},
     "output_type": "execute_result"
    }
   ],
   "source": [
    "article_df.head(2)"
   ]
  },
  {
   "cell_type": "code",
   "execution_count": 4,
   "metadata": {},
   "outputs": [],
   "source": [
    "# Step 3: Create Interaction Matrix DataFrame (interaction_matrix_df) minutes \n",
    "interaction_matrix_df = pd.DataFrame(np.random.randint(0, 101, size=(num_users, num_articles)), \n",
    "                                     index=np.arange(num_users), columns=np.arange(num_articles))"
   ]
  },
  {
   "cell_type": "code",
   "execution_count": 7,
   "metadata": {},
   "outputs": [
    {
     "data": {
      "text/html": [
       "<div>\n",
       "<style scoped>\n",
       "    .dataframe tbody tr th:only-of-type {\n",
       "        vertical-align: middle;\n",
       "    }\n",
       "\n",
       "    .dataframe tbody tr th {\n",
       "        vertical-align: top;\n",
       "    }\n",
       "\n",
       "    .dataframe thead th {\n",
       "        text-align: right;\n",
       "    }\n",
       "</style>\n",
       "<table border=\"1\" class=\"dataframe\">\n",
       "  <thead>\n",
       "    <tr style=\"text-align: right;\">\n",
       "      <th></th>\n",
       "      <th>0</th>\n",
       "      <th>1</th>\n",
       "      <th>2</th>\n",
       "      <th>3</th>\n",
       "      <th>4</th>\n",
       "      <th>5</th>\n",
       "      <th>6</th>\n",
       "      <th>7</th>\n",
       "      <th>8</th>\n",
       "      <th>9</th>\n",
       "      <th>...</th>\n",
       "      <th>4237</th>\n",
       "      <th>4238</th>\n",
       "      <th>4239</th>\n",
       "      <th>4240</th>\n",
       "      <th>4241</th>\n",
       "      <th>4242</th>\n",
       "      <th>4243</th>\n",
       "      <th>4244</th>\n",
       "      <th>4245</th>\n",
       "      <th>4246</th>\n",
       "    </tr>\n",
       "  </thead>\n",
       "  <tbody>\n",
       "    <tr>\n",
       "      <th>0</th>\n",
       "      <td>12</td>\n",
       "      <td>33</td>\n",
       "      <td>100</td>\n",
       "      <td>95</td>\n",
       "      <td>95</td>\n",
       "      <td>86</td>\n",
       "      <td>91</td>\n",
       "      <td>15</td>\n",
       "      <td>19</td>\n",
       "      <td>74</td>\n",
       "      <td>...</td>\n",
       "      <td>65</td>\n",
       "      <td>21</td>\n",
       "      <td>36</td>\n",
       "      <td>68</td>\n",
       "      <td>75</td>\n",
       "      <td>66</td>\n",
       "      <td>36</td>\n",
       "      <td>6</td>\n",
       "      <td>46</td>\n",
       "      <td>61</td>\n",
       "    </tr>\n",
       "    <tr>\n",
       "      <th>1</th>\n",
       "      <td>64</td>\n",
       "      <td>13</td>\n",
       "      <td>64</td>\n",
       "      <td>25</td>\n",
       "      <td>76</td>\n",
       "      <td>8</td>\n",
       "      <td>9</td>\n",
       "      <td>51</td>\n",
       "      <td>28</td>\n",
       "      <td>79</td>\n",
       "      <td>...</td>\n",
       "      <td>89</td>\n",
       "      <td>60</td>\n",
       "      <td>7</td>\n",
       "      <td>37</td>\n",
       "      <td>77</td>\n",
       "      <td>87</td>\n",
       "      <td>98</td>\n",
       "      <td>87</td>\n",
       "      <td>100</td>\n",
       "      <td>100</td>\n",
       "    </tr>\n",
       "  </tbody>\n",
       "</table>\n",
       "<p>2 rows × 4247 columns</p>\n",
       "</div>"
      ],
      "text/plain": [
       "   0     1     2     3     4     5     6     7     8     9     ...  4237  \\\n",
       "0    12    33   100    95    95    86    91    15    19    74  ...    65   \n",
       "1    64    13    64    25    76     8     9    51    28    79  ...    89   \n",
       "\n",
       "   4238  4239  4240  4241  4242  4243  4244  4245  4246  \n",
       "0    21    36    68    75    66    36     6    46    61  \n",
       "1    60     7    37    77    87    98    87   100   100  \n",
       "\n",
       "[2 rows x 4247 columns]"
      ]
     },
     "execution_count": 7,
     "metadata": {},
     "output_type": "execute_result"
    }
   ],
   "source": [
    "interaction_matrix_df.head(2)"
   ]
  },
  {
   "cell_type": "code",
   "execution_count": 5,
   "metadata": {},
   "outputs": [],
   "source": [
    "\n",
    "# Step 4: Convert DataFrames to numpy arrays\n",
    "user_vectors = user_df.values  # Shape: (1590, 300)\n",
    "article_vectors = article_df.values  # Shape: (4247, 300)\n",
    "interaction_matrix = interaction_matrix_df.values  # Shape: (1590, 4247)"
   ]
  },
  {
   "cell_type": "code",
   "execution_count": 6,
   "metadata": {},
   "outputs": [],
   "source": [
    "# Normalize the original interaction matrix\n",
    "interaction_matrix_normalized = MinMaxScaler().fit_transform(interaction_matrix)\n"
   ]
  },
  {
   "cell_type": "code",
   "execution_count": 8,
   "metadata": {},
   "outputs": [],
   "source": [
    "\n",
    "# Step 5: Get indices of non-zero entries in the interaction matrix\n",
    "user_idx, article_idx = np.where(interaction_matrix_normalized != 0)\n",
    "read_times = interaction_matrix_normalized[user_idx[:20000], article_idx[:20000]] # choose 20000 because the result is 60000"
   ]
  },
  {
   "cell_type": "code",
   "execution_count": 9,
   "metadata": {},
   "outputs": [
    {
     "name": "stdout",
     "output_type": "stream",
     "text": [
      "user_vectors[user_idx] shape: (20000, 300)\n",
      "article_vectors[article_idx] shape: (20000, 300)\n"
     ]
    }
   ],
   "source": [
    "# Check shapes before concatenation\n",
    "print(\"user_vectors[user_idx] shape:\", user_vectors[user_idx[:20000]].shape)\n",
    "print(\"article_vectors[article_idx] shape:\", article_vectors[article_idx[:20000]].shape)\n"
   ]
  },
  {
   "cell_type": "code",
   "execution_count": 10,
   "metadata": {},
   "outputs": [],
   "source": [
    "# Step 6: Split the data into train and test sets with test size of 20%\n",
    "X = np.hstack((user_vectors[user_idx[:20000]], article_vectors[article_idx[:20000]]))\n",
    "y = read_times"
   ]
  },
  {
   "cell_type": "code",
   "execution_count": 11,
   "metadata": {},
   "outputs": [
    {
     "name": "stdout",
     "output_type": "stream",
     "text": [
      "(20000, 600)\n",
      "(20000,)\n"
     ]
    }
   ],
   "source": [
    "print(X.shape)\n",
    "print(y.shape)"
   ]
  },
  {
   "cell_type": "code",
   "execution_count": 12,
   "metadata": {},
   "outputs": [],
   "source": [
    "sample = 100\n",
    "X = X[:sample]\n",
    "y = y[:sample]"
   ]
  },
  {
   "cell_type": "code",
   "execution_count": 13,
   "metadata": {},
   "outputs": [
    {
     "name": "stdout",
     "output_type": "stream",
     "text": [
      "X_train shape: (80, 600)\n",
      "X_test shape: (20, 600)\n",
      "y_train shape: (80,)\n",
      "y_test shape: (20,)\n"
     ]
    }
   ],
   "source": [
    "X_train, X_test, y_train, y_test = train_test_split(X, y, test_size=0.2, random_state=42)\n",
    "\n",
    "print(\"X_train shape:\", X_train.shape)\n",
    "print(\"X_test shape:\", X_test.shape)\n",
    "print(\"y_train shape:\", y_train.shape)\n",
    "print(\"y_test shape:\", y_test.shape)\n"
   ]
  },
  {
   "cell_type": "code",
   "execution_count": 15,
   "metadata": {},
   "outputs": [],
   "source": [
    "# y_train = y_train.reshape(-1, 1)\n",
    "# y_test = y_test.reshape(-1, 1)\n"
   ]
  },
  {
   "cell_type": "code",
   "execution_count": 16,
   "metadata": {},
   "outputs": [],
   "source": [
    "# print(\"y_train shape:\", y_train.shape)\n",
    "# print(\"y_test shape:\", y_test.shape)"
   ]
  },
  {
   "cell_type": "code",
   "execution_count": 14,
   "metadata": {},
   "outputs": [
    {
     "data": {
      "application/vnd.jupyter.widget-view+json": {
       "model_id": "84ce86df2bf64a2f9e24ac23ea6cab97",
       "version_major": 2,
       "version_minor": 0
      },
      "text/plain": [
       "0epoch [00:00, ?epoch/s]"
      ]
     },
     "metadata": {},
     "output_type": "display_data"
    },
    {
     "data": {
      "application/vnd.jupyter.widget-view+json": {
       "model_id": "54fc6b2491444304ad9e0c6e607a66e7",
       "version_major": 2,
       "version_minor": 0
      },
      "text/plain": [
       "0batch [00:00, ?batch/s]"
      ]
     },
     "metadata": {},
     "output_type": "display_data"
    },
    {
     "name": "stdout",
     "output_type": "stream",
     "text": [
      "Epoch 1/2\n"
     ]
    }
   ],
   "source": [
    "# Define the model\n",
    "model = Sequential([\n",
    "    tf.keras.Input(shape=(600,)),\n",
    "    Dense(64, activation='relu'),\n",
    "    Dense(32, activation='relu'),\n",
    "    Dense(1)\n",
    "])\n",
    "\n",
    "# Compile the model\n",
    "model.compile(optimizer='adam', loss='mse', metrics=['mse'])\n",
    "\n",
    "# Prepare TensorBoard callback\n",
    "log_dir = \"files/logs/fit/\" + datetime.datetime.now().strftime(\"%Y%m%d-%H%M%S\")\n",
    "tensorboard_callback = TensorBoard(log_dir=log_dir, histogram_freq=1)\n",
    "\n",
    "# Train the model\n",
    "num_epochs = 2\n",
    "history = model.fit(X_train, y_train, epochs=num_epochs, batch_size=16,\n",
    "                    validation_data=(X_test, y_test),\n",
    "                    callbacks=[tensorboard_callback, TqdmCallback(verbose=1)],\n",
    "                    verbose=2)"
   ]
  },
  {
   "cell_type": "code",
   "execution_count": null,
   "metadata": {},
   "outputs": [],
   "source": []
  }
 ],
 "metadata": {
  "kernelspec": {
   "display_name": "venv",
   "language": "python",
   "name": "python3"
  },
  "language_info": {
   "codemirror_mode": {
    "name": "ipython",
    "version": 3
   },
   "file_extension": ".py",
   "mimetype": "text/x-python",
   "name": "python",
   "nbconvert_exporter": "python",
   "pygments_lexer": "ipython3",
   "version": "3.9.6"
  }
 },
 "nbformat": 4,
 "nbformat_minor": 2
}
