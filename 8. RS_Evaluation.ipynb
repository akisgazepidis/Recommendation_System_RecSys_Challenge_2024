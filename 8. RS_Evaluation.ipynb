{
 "cells": [
  {
   "cell_type": "code",
   "execution_count": 9,
   "metadata": {},
   "outputs": [],
   "source": [
    "import pandas as pd\n",
    "import numpy as np\n",
    "import pickle\n",
    "import os\n",
    "import sys\n",
    "from contextlib import contextmanager\n",
    "from tqdm import tqdm\n",
    "from sklearn.metrics import ndcg_score\n",
    "tqdm.pandas()\n",
    "# Load model\n",
    "from tensorflow.keras.models import load_model\n",
    "import tensorflow\n",
    "\n",
    "import logging\n",
    "tensorflow.get_logger().setLevel(logging.ERROR)\n"
   ]
  },
  {
   "cell_type": "code",
   "execution_count": 10,
   "metadata": {},
   "outputs": [],
   "source": [
    "@contextmanager\n",
    "def suppress_stdout_stderr():\n",
    "    \"\"\"\n",
    "    A context manager to suppress stdout and stderr.\n",
    "    \"\"\"\n",
    "    with open(os.devnull, 'w') as devnull:\n",
    "        old_stdout = sys.stdout\n",
    "        old_stderr = sys.stderr\n",
    "        sys.stdout = devnull\n",
    "        sys.stderr = devnull\n",
    "        try:\n",
    "            yield\n",
    "        finally:\n",
    "            sys.stdout = old_stdout\n",
    "            sys.stderr = old_stderr"
   ]
  },
  {
   "cell_type": "code",
   "execution_count": 11,
   "metadata": {},
   "outputs": [
    {
     "name": "stdout",
     "output_type": "stream",
     "text": [
      "Interaction matrix df shape:                       (1590, 1114)\n",
      "Raw demo validation behaviors df shape:           (24724, 17)\n"
     ]
    }
   ],
   "source": [
    "#Load model\n",
    "model = load_model('./files/models/model_20240704-175259.h5py/')\n",
    "\n",
    "# Read interaction matrix pickle file\n",
    "size = 'demo'\n",
    "type_ = 'train'\n",
    "fillna_value = '0'\n",
    "interaction_matrix_file_path = f'./files/pickle/interaction_matrix_{type_}_{size}_{fillna_value}.pkl'\n",
    "interaction_matrix_df = pd.read_pickle(interaction_matrix_file_path)\n",
    "print('Interaction matrix df shape:                      ',interaction_matrix_df.shape)\n",
    "\n",
    "# Read User and article embeddings dataframes\n",
    "user_matrix_df_file_path = f'./files/pickle/user_matrix_{type_}_{size}_{fillna_value}.pkl'\n",
    "article_matrix_df_file_path = f'./files/pickle/article_matrix_{type_}_{size}_{fillna_value}.pkl'\n",
    "\n",
    "user_matrix_df = pd.read_pickle(user_matrix_df_file_path)\n",
    "article_matrix_df = pd.read_pickle(article_matrix_df_file_path)\n",
    "\n",
    "# Read history and behavior files\n",
    "behaviors_path = f'./files/parquet/ebnerd_{size}/{type_}/behaviors.parquet'\n",
    "behaviors_df = pd.read_parquet(behaviors_path)\n",
    "print(f'Raw {size} validation behaviors df shape:          ',behaviors_df.shape)\n",
    "\n",
    "# Load the recoammendation list\n",
    "# factorized_size = 'small'\n",
    "# fillnan_value = 'mean_column'\n",
    "#recommendations_full_lst_file_path = f'./files/pickle/recommendations_behaviors_{val_size}_factorized_{factorized_size}_fillnan_{fil lnan_value}_new.pkl'\n",
    "# with open(recommendations_full_lst_file_path, 'rb') as f:\n",
    "#    recommendations_full_lst = pickle.load(f)"
   ]
  },
  {
   "cell_type": "code",
   "execution_count": 12,
   "metadata": {},
   "outputs": [
    {
     "data": {
      "text/html": [
       "<div>\n",
       "<style scoped>\n",
       "    .dataframe tbody tr th:only-of-type {\n",
       "        vertical-align: middle;\n",
       "    }\n",
       "\n",
       "    .dataframe tbody tr th {\n",
       "        vertical-align: top;\n",
       "    }\n",
       "\n",
       "    .dataframe thead th {\n",
       "        text-align: right;\n",
       "    }\n",
       "</style>\n",
       "<table border=\"1\" class=\"dataframe\">\n",
       "  <thead>\n",
       "    <tr style=\"text-align: right;\">\n",
       "      <th></th>\n",
       "      <th>impression_id</th>\n",
       "      <th>article_id</th>\n",
       "      <th>impression_time</th>\n",
       "      <th>read_time</th>\n",
       "      <th>scroll_percentage</th>\n",
       "      <th>device_type</th>\n",
       "      <th>article_ids_inview</th>\n",
       "      <th>article_ids_clicked</th>\n",
       "      <th>user_id</th>\n",
       "      <th>is_sso_user</th>\n",
       "      <th>gender</th>\n",
       "      <th>postcode</th>\n",
       "      <th>age</th>\n",
       "      <th>is_subscriber</th>\n",
       "      <th>session_id</th>\n",
       "      <th>next_read_time</th>\n",
       "      <th>next_scroll_percentage</th>\n",
       "    </tr>\n",
       "  </thead>\n",
       "  <tbody>\n",
       "    <tr>\n",
       "      <th>0</th>\n",
       "      <td>48401</td>\n",
       "      <td>NaN</td>\n",
       "      <td>2023-05-21 21:06:50</td>\n",
       "      <td>21.0</td>\n",
       "      <td>NaN</td>\n",
       "      <td>2</td>\n",
       "      <td>[9774516, 9771051, 9770028, 9775402, 9774461, ...</td>\n",
       "      <td>[9759966]</td>\n",
       "      <td>22779</td>\n",
       "      <td>False</td>\n",
       "      <td>NaN</td>\n",
       "      <td>NaN</td>\n",
       "      <td>NaN</td>\n",
       "      <td>False</td>\n",
       "      <td>21</td>\n",
       "      <td>16.0</td>\n",
       "      <td>27.0</td>\n",
       "    </tr>\n",
       "    <tr>\n",
       "      <th>1</th>\n",
       "      <td>152513</td>\n",
       "      <td>9778745.0</td>\n",
       "      <td>2023-05-24 07:31:26</td>\n",
       "      <td>30.0</td>\n",
       "      <td>100.0</td>\n",
       "      <td>1</td>\n",
       "      <td>[9778669, 9778736, 9778623, 9089120, 9778661, ...</td>\n",
       "      <td>[9778661]</td>\n",
       "      <td>150224</td>\n",
       "      <td>False</td>\n",
       "      <td>NaN</td>\n",
       "      <td>NaN</td>\n",
       "      <td>NaN</td>\n",
       "      <td>False</td>\n",
       "      <td>298</td>\n",
       "      <td>2.0</td>\n",
       "      <td>48.0</td>\n",
       "    </tr>\n",
       "  </tbody>\n",
       "</table>\n",
       "</div>"
      ],
      "text/plain": [
       "   impression_id  article_id     impression_time  read_time  \\\n",
       "0          48401         NaN 2023-05-21 21:06:50       21.0   \n",
       "1         152513   9778745.0 2023-05-24 07:31:26       30.0   \n",
       "\n",
       "   scroll_percentage  device_type  \\\n",
       "0                NaN            2   \n",
       "1              100.0            1   \n",
       "\n",
       "                                  article_ids_inview article_ids_clicked  \\\n",
       "0  [9774516, 9771051, 9770028, 9775402, 9774461, ...           [9759966]   \n",
       "1  [9778669, 9778736, 9778623, 9089120, 9778661, ...           [9778661]   \n",
       "\n",
       "   user_id  is_sso_user  gender  postcode  age  is_subscriber  session_id  \\\n",
       "0    22779        False     NaN       NaN  NaN          False          21   \n",
       "1   150224        False     NaN       NaN  NaN          False         298   \n",
       "\n",
       "   next_read_time  next_scroll_percentage  \n",
       "0            16.0                    27.0  \n",
       "1             2.0                    48.0  "
      ]
     },
     "execution_count": 12,
     "metadata": {},
     "output_type": "execute_result"
    }
   ],
   "source": [
    "behaviors_df.head(2)"
   ]
  },
  {
   "cell_type": "code",
   "execution_count": 20,
   "metadata": {},
   "outputs": [
    {
     "data": {
      "text/html": [
       "<div>\n",
       "<style scoped>\n",
       "    .dataframe tbody tr th:only-of-type {\n",
       "        vertical-align: middle;\n",
       "    }\n",
       "\n",
       "    .dataframe tbody tr th {\n",
       "        vertical-align: top;\n",
       "    }\n",
       "\n",
       "    .dataframe thead th {\n",
       "        text-align: right;\n",
       "    }\n",
       "</style>\n",
       "<table border=\"1\" class=\"dataframe\">\n",
       "  <thead>\n",
       "    <tr style=\"text-align: right;\">\n",
       "      <th></th>\n",
       "      <th>user_id</th>\n",
       "      <th>article_ids_inview</th>\n",
       "      <th>article_ids_clicked</th>\n",
       "    </tr>\n",
       "  </thead>\n",
       "  <tbody>\n",
       "    <tr>\n",
       "      <th>0</th>\n",
       "      <td>22779</td>\n",
       "      <td>[9774516, 9771051, 9770028, 9775402, 9774461, ...</td>\n",
       "      <td>[9759966]</td>\n",
       "    </tr>\n",
       "    <tr>\n",
       "      <th>1</th>\n",
       "      <td>150224</td>\n",
       "      <td>[9778669, 9778736, 9778623, 9089120, 9778661, ...</td>\n",
       "      <td>[9778661]</td>\n",
       "    </tr>\n",
       "  </tbody>\n",
       "</table>\n",
       "</div>"
      ],
      "text/plain": [
       "   user_id                                 article_ids_inview  \\\n",
       "0    22779  [9774516, 9771051, 9770028, 9775402, 9774461, ...   \n",
       "1   150224  [9778669, 9778736, 9778623, 9089120, 9778661, ...   \n",
       "\n",
       "  article_ids_clicked  \n",
       "0           [9759966]  \n",
       "1           [9778661]  "
      ]
     },
     "execution_count": 20,
     "metadata": {},
     "output_type": "execute_result"
    }
   ],
   "source": [
    "behaviors_df = behaviors_df[['user_id', 'article_ids_inview', 'article_ids_clicked']].copy()\n",
    "behaviors_df.head(2)"
   ]
  },
  {
   "cell_type": "code",
   "execution_count": 21,
   "metadata": {},
   "outputs": [
    {
     "data": {
      "text/html": [
       "<div>\n",
       "<style scoped>\n",
       "    .dataframe tbody tr th:only-of-type {\n",
       "        vertical-align: middle;\n",
       "    }\n",
       "\n",
       "    .dataframe tbody tr th {\n",
       "        vertical-align: top;\n",
       "    }\n",
       "\n",
       "    .dataframe thead th {\n",
       "        text-align: right;\n",
       "    }\n",
       "</style>\n",
       "<table border=\"1\" class=\"dataframe\">\n",
       "  <thead>\n",
       "    <tr style=\"text-align: right;\">\n",
       "      <th></th>\n",
       "      <th>0</th>\n",
       "      <th>1</th>\n",
       "      <th>2</th>\n",
       "      <th>3</th>\n",
       "      <th>4</th>\n",
       "      <th>5</th>\n",
       "      <th>6</th>\n",
       "      <th>7</th>\n",
       "      <th>8</th>\n",
       "      <th>9</th>\n",
       "      <th>...</th>\n",
       "      <th>290</th>\n",
       "      <th>291</th>\n",
       "      <th>292</th>\n",
       "      <th>293</th>\n",
       "      <th>294</th>\n",
       "      <th>295</th>\n",
       "      <th>296</th>\n",
       "      <th>297</th>\n",
       "      <th>298</th>\n",
       "      <th>299</th>\n",
       "    </tr>\n",
       "  </thead>\n",
       "  <tbody>\n",
       "    <tr>\n",
       "      <th>9775489</th>\n",
       "      <td>0.366531</td>\n",
       "      <td>0.146713</td>\n",
       "      <td>0.164704</td>\n",
       "      <td>-0.04036</td>\n",
       "      <td>-0.173250</td>\n",
       "      <td>-0.126776</td>\n",
       "      <td>-0.270314</td>\n",
       "      <td>0.193243</td>\n",
       "      <td>-0.373554</td>\n",
       "      <td>-0.752814</td>\n",
       "      <td>...</td>\n",
       "      <td>0.047949</td>\n",
       "      <td>0.048509</td>\n",
       "      <td>-0.022732</td>\n",
       "      <td>0.017720</td>\n",
       "      <td>0.017944</td>\n",
       "      <td>-0.265457</td>\n",
       "      <td>-0.341005</td>\n",
       "      <td>0.011712</td>\n",
       "      <td>0.146772</td>\n",
       "      <td>0.08470</td>\n",
       "    </tr>\n",
       "    <tr>\n",
       "      <th>9775567</th>\n",
       "      <td>-0.158633</td>\n",
       "      <td>-0.051683</td>\n",
       "      <td>-0.110599</td>\n",
       "      <td>0.19692</td>\n",
       "      <td>0.024415</td>\n",
       "      <td>-0.170163</td>\n",
       "      <td>0.101929</td>\n",
       "      <td>0.386819</td>\n",
       "      <td>0.136305</td>\n",
       "      <td>0.025901</td>\n",
       "      <td>...</td>\n",
       "      <td>0.042049</td>\n",
       "      <td>0.064314</td>\n",
       "      <td>0.021875</td>\n",
       "      <td>0.041001</td>\n",
       "      <td>0.037350</td>\n",
       "      <td>0.010075</td>\n",
       "      <td>-0.119786</td>\n",
       "      <td>-0.004473</td>\n",
       "      <td>0.042979</td>\n",
       "      <td>0.01661</td>\n",
       "    </tr>\n",
       "  </tbody>\n",
       "</table>\n",
       "<p>2 rows × 300 columns</p>\n",
       "</div>"
      ],
      "text/plain": [
       "              0         1         2        3         4         5         6    \\\n",
       "9775489  0.366531  0.146713  0.164704 -0.04036 -0.173250 -0.126776 -0.270314   \n",
       "9775567 -0.158633 -0.051683 -0.110599  0.19692  0.024415 -0.170163  0.101929   \n",
       "\n",
       "              7         8         9    ...       290       291       292  \\\n",
       "9775489  0.193243 -0.373554 -0.752814  ...  0.047949  0.048509 -0.022732   \n",
       "9775567  0.386819  0.136305  0.025901  ...  0.042049  0.064314  0.021875   \n",
       "\n",
       "              293       294       295       296       297       298      299  \n",
       "9775489  0.017720  0.017944 -0.265457 -0.341005  0.011712  0.146772  0.08470  \n",
       "9775567  0.041001  0.037350  0.010075 -0.119786 -0.004473  0.042979  0.01661  \n",
       "\n",
       "[2 rows x 300 columns]"
      ]
     },
     "execution_count": 21,
     "metadata": {},
     "output_type": "execute_result"
    }
   ],
   "source": [
    "article_matrix_df.head(2)"
   ]
  },
  {
   "cell_type": "code",
   "execution_count": 22,
   "metadata": {},
   "outputs": [
    {
     "data": {
      "text/html": [
       "<div>\n",
       "<style scoped>\n",
       "    .dataframe tbody tr th:only-of-type {\n",
       "        vertical-align: middle;\n",
       "    }\n",
       "\n",
       "    .dataframe tbody tr th {\n",
       "        vertical-align: top;\n",
       "    }\n",
       "\n",
       "    .dataframe thead th {\n",
       "        text-align: right;\n",
       "    }\n",
       "</style>\n",
       "<table border=\"1\" class=\"dataframe\">\n",
       "  <thead>\n",
       "    <tr style=\"text-align: right;\">\n",
       "      <th></th>\n",
       "      <th>0</th>\n",
       "      <th>1</th>\n",
       "      <th>2</th>\n",
       "      <th>3</th>\n",
       "      <th>4</th>\n",
       "      <th>5</th>\n",
       "      <th>6</th>\n",
       "      <th>7</th>\n",
       "      <th>8</th>\n",
       "      <th>9</th>\n",
       "      <th>...</th>\n",
       "      <th>290</th>\n",
       "      <th>291</th>\n",
       "      <th>292</th>\n",
       "      <th>293</th>\n",
       "      <th>294</th>\n",
       "      <th>295</th>\n",
       "      <th>296</th>\n",
       "      <th>297</th>\n",
       "      <th>298</th>\n",
       "      <th>299</th>\n",
       "    </tr>\n",
       "    <tr>\n",
       "      <th>user_id</th>\n",
       "      <th></th>\n",
       "      <th></th>\n",
       "      <th></th>\n",
       "      <th></th>\n",
       "      <th></th>\n",
       "      <th></th>\n",
       "      <th></th>\n",
       "      <th></th>\n",
       "      <th></th>\n",
       "      <th></th>\n",
       "      <th></th>\n",
       "      <th></th>\n",
       "      <th></th>\n",
       "      <th></th>\n",
       "      <th></th>\n",
       "      <th></th>\n",
       "      <th></th>\n",
       "      <th></th>\n",
       "      <th></th>\n",
       "      <th></th>\n",
       "      <th></th>\n",
       "    </tr>\n",
       "  </thead>\n",
       "  <tbody>\n",
       "    <tr>\n",
       "      <th>11313</th>\n",
       "      <td>-0.070924</td>\n",
       "      <td>-0.217349</td>\n",
       "      <td>-0.236625</td>\n",
       "      <td>0.100848</td>\n",
       "      <td>-0.019888</td>\n",
       "      <td>-0.148840</td>\n",
       "      <td>0.232078</td>\n",
       "      <td>0.353403</td>\n",
       "      <td>-0.040379</td>\n",
       "      <td>0.044742</td>\n",
       "      <td>...</td>\n",
       "      <td>0.000936</td>\n",
       "      <td>0.009360</td>\n",
       "      <td>0.000401</td>\n",
       "      <td>0.006503</td>\n",
       "      <td>0.006575</td>\n",
       "      <td>0.001493</td>\n",
       "      <td>-0.024334</td>\n",
       "      <td>0.002544</td>\n",
       "      <td>0.013796</td>\n",
       "      <td>0.002299</td>\n",
       "    </tr>\n",
       "    <tr>\n",
       "      <th>13538</th>\n",
       "      <td>0.068525</td>\n",
       "      <td>-0.240215</td>\n",
       "      <td>-0.019002</td>\n",
       "      <td>0.035330</td>\n",
       "      <td>0.124994</td>\n",
       "      <td>0.148824</td>\n",
       "      <td>0.032523</td>\n",
       "      <td>-0.021147</td>\n",
       "      <td>-0.130807</td>\n",
       "      <td>0.177744</td>\n",
       "      <td>...</td>\n",
       "      <td>-0.072049</td>\n",
       "      <td>-0.012922</td>\n",
       "      <td>-0.015489</td>\n",
       "      <td>-0.029724</td>\n",
       "      <td>0.025154</td>\n",
       "      <td>0.029744</td>\n",
       "      <td>-0.118709</td>\n",
       "      <td>-0.008912</td>\n",
       "      <td>0.042732</td>\n",
       "      <td>0.013632</td>\n",
       "    </tr>\n",
       "  </tbody>\n",
       "</table>\n",
       "<p>2 rows × 300 columns</p>\n",
       "</div>"
      ],
      "text/plain": [
       "              0         1         2         3         4         5         6    \\\n",
       "user_id                                                                         \n",
       "11313   -0.070924 -0.217349 -0.236625  0.100848 -0.019888 -0.148840  0.232078   \n",
       "13538    0.068525 -0.240215 -0.019002  0.035330  0.124994  0.148824  0.032523   \n",
       "\n",
       "              7         8         9    ...       290       291       292  \\\n",
       "user_id                                ...                                 \n",
       "11313    0.353403 -0.040379  0.044742  ...  0.000936  0.009360  0.000401   \n",
       "13538   -0.021147 -0.130807  0.177744  ... -0.072049 -0.012922 -0.015489   \n",
       "\n",
       "              293       294       295       296       297       298       299  \n",
       "user_id                                                                        \n",
       "11313    0.006503  0.006575  0.001493 -0.024334  0.002544  0.013796  0.002299  \n",
       "13538   -0.029724  0.025154  0.029744 -0.118709 -0.008912  0.042732  0.013632  \n",
       "\n",
       "[2 rows x 300 columns]"
      ]
     },
     "execution_count": 22,
     "metadata": {},
     "output_type": "execute_result"
    }
   ],
   "source": [
    "user_matrix_df.head(2)"
   ]
  },
  {
   "cell_type": "code",
   "execution_count": 23,
   "metadata": {},
   "outputs": [
    {
     "name": "stdout",
     "output_type": "stream",
     "text": [
      "1/1 [==============================] - 0s 110ms/step\n"
     ]
    },
    {
     "data": {
      "text/plain": [
       "14.369877"
      ]
     },
     "execution_count": 23,
     "metadata": {},
     "output_type": "execute_result"
    }
   ],
   "source": [
    "# Example for one row\n",
    "X = np.hstack((user_matrix_df.loc[11313], article_matrix_df.loc[9775489]))\n",
    "X= X.reshape((-1, 600))\n",
    "model.predict(X)[0][0]"
   ]
  },
  {
   "cell_type": "code",
   "execution_count": 52,
   "metadata": {},
   "outputs": [],
   "source": [
    "# Function predict_read_time\n",
    "def predict_read_time(model,article_id_list,user_id):\n",
    "    with suppress_stdout_stderr():\n",
    "        expected_read_times = []\n",
    "        for article_id in article_id_list:\n",
    "            try:\n",
    "                vector = np.hstack((user_matrix_df.loc[user_id], article_matrix_df.loc[article_id]))\n",
    "                vector= vector.reshape((-1, 600))\n",
    "                try:\n",
    "                    predict= model.predict(vector)[0][0]\n",
    "                except:\n",
    "                    predict =0\n",
    "                expected_read_times.append(predict)\n",
    "            except:\n",
    "                pass\n",
    "        return expected_read_times\n",
    "\n",
    "\n",
    "def sort_zip_lists(row):\n",
    "    # Zip the two lists\n",
    "    zipped = list(zip(row['article_ids_inview'], row['Predicted_read_times']))\n",
    "    # Sort by the second element of each tuple\n",
    "    sorted_zipped = sorted(zipped, key=lambda x: x[1],reverse=True)[:9]\n",
    "    return sorted_zipped\n",
    "\n",
    "def get_final_predicted_article_ids(tuples_list):\n",
    "    # Extract the first item from each tuple\n",
    "    return [t[0] for t in tuples_list]\n",
    "\n",
    "def get_reciprocal_rank(row):\n",
    "    predicted_item_list = row['Predicted_article_ids']\n",
    "    clicked_article = row['article_ids_clicked'][0]\n",
    "    try:\n",
    "        index = predicted_item_list.index(clicked_article)\n",
    "        # Return the reciprocal rank\n",
    "        return 1 / (index + 1)\n",
    "    except ValueError:\n",
    "        # If the clicked article is not in the predicted list, return 0\n",
    "        return 0\n",
    "    \n",
    "def calculate_precision(target, predictions):\n",
    "    tp = predictions.count(target)  # Count true positives\n",
    "    fp = len(predictions) - tp  # Calculate false positives\n",
    "    precision = tp / (tp + fp) if (tp + fp) > 0 else 0  # Compute precision\n",
    "    return precision\n",
    "\n",
    "def calculate_recall(target, predictions):\n",
    "    tp = predictions.count(target)  # True Positives: target in predictions\n",
    "    fn = 1 if tp == 0 else 0  # False Negatives: target not in predictions\n",
    "    recall = tp / (tp + fn) if (tp + fn) > 0 else 0  # Compute recall\n",
    "    return recall"
   ]
  },
  {
   "cell_type": "code",
   "execution_count": 53,
   "metadata": {},
   "outputs": [],
   "source": [
    "behaviors_df_top100 = behaviors_df.head(100).copy()"
   ]
  },
  {
   "cell_type": "code",
   "execution_count": 54,
   "metadata": {},
   "outputs": [
    {
     "name": "stderr",
     "output_type": "stream",
     "text": [
      "100%|██████████| 100/100 [01:09<00:00,  1.44it/s]\n"
     ]
    }
   ],
   "source": [
    "behaviors_df_top100['Predicted_read_times']= behaviors_df_top100.progress_apply(lambda row: predict_read_time(model,row['article_ids_inview'],row['user_id']),axis=1)"
   ]
  },
  {
   "cell_type": "code",
   "execution_count": 55,
   "metadata": {},
   "outputs": [
    {
     "name": "stderr",
     "output_type": "stream",
     "text": [
      "100%|██████████| 100/100 [00:00<00:00, 33394.14it/s]\n"
     ]
    }
   ],
   "source": [
    "behaviors_df_top100['Predicted_tuples_sorted'] = behaviors_df_top100.progress_apply(sort_zip_lists, axis=1)\n"
   ]
  },
  {
   "cell_type": "code",
   "execution_count": 56,
   "metadata": {},
   "outputs": [
    {
     "name": "stderr",
     "output_type": "stream",
     "text": [
      "100%|██████████| 100/100 [00:00<?, ?it/s]\n"
     ]
    }
   ],
   "source": [
    "behaviors_df_top100['Predicted_article_ids'] = behaviors_df_top100['Predicted_tuples_sorted'].progress_apply(get_final_predicted_article_ids)"
   ]
  },
  {
   "cell_type": "code",
   "execution_count": 57,
   "metadata": {},
   "outputs": [
    {
     "name": "stderr",
     "output_type": "stream",
     "text": [
      "100%|██████████| 100/100 [00:00<00:00, 33346.35it/s]\n"
     ]
    }
   ],
   "source": [
    "behaviors_df_top100['MMR_rank'] = behaviors_df_top100.progress_apply(get_reciprocal_rank,axis=1)"
   ]
  },
  {
   "cell_type": "code",
   "execution_count": 58,
   "metadata": {},
   "outputs": [
    {
     "name": "stderr",
     "output_type": "stream",
     "text": [
      "100%|██████████| 100/100 [00:00<00:00, 33391.48it/s]\n"
     ]
    }
   ],
   "source": [
    "behaviors_df_top100['Precision@10']= behaviors_df_top100.progress_apply(lambda row: calculate_precision(row['article_ids_clicked'][0],row['Predicted_article_ids']),axis=1)"
   ]
  },
  {
   "cell_type": "code",
   "execution_count": 59,
   "metadata": {},
   "outputs": [
    {
     "name": "stderr",
     "output_type": "stream",
     "text": [
      "100%|██████████| 100/100 [00:00<00:00, 33303.99it/s]\n"
     ]
    }
   ],
   "source": [
    "behaviors_df_top100['Recall@10']= behaviors_df_top100.progress_apply(lambda row: calculate_recall(row['article_ids_clicked'][0],row['Predicted_article_ids']),axis=1)"
   ]
  },
  {
   "cell_type": "code",
   "execution_count": 60,
   "metadata": {},
   "outputs": [
    {
     "data": {
      "text/html": [
       "<div>\n",
       "<style scoped>\n",
       "    .dataframe tbody tr th:only-of-type {\n",
       "        vertical-align: middle;\n",
       "    }\n",
       "\n",
       "    .dataframe tbody tr th {\n",
       "        vertical-align: top;\n",
       "    }\n",
       "\n",
       "    .dataframe thead th {\n",
       "        text-align: right;\n",
       "    }\n",
       "</style>\n",
       "<table border=\"1\" class=\"dataframe\">\n",
       "  <thead>\n",
       "    <tr style=\"text-align: right;\">\n",
       "      <th></th>\n",
       "      <th>user_id</th>\n",
       "      <th>article_ids_inview</th>\n",
       "      <th>article_ids_clicked</th>\n",
       "      <th>Predicted_read_times</th>\n",
       "      <th>Predicted_tuples_sorted</th>\n",
       "      <th>Predicted_article_ids</th>\n",
       "      <th>MMR_rank</th>\n",
       "      <th>Precision@10</th>\n",
       "      <th>Recall@10</th>\n",
       "    </tr>\n",
       "  </thead>\n",
       "  <tbody>\n",
       "    <tr>\n",
       "      <th>0</th>\n",
       "      <td>22779</td>\n",
       "      <td>[9774516, 9771051, 9770028, 9775402, 9774461, ...</td>\n",
       "      <td>[9759966]</td>\n",
       "      <td>[18.532225, 11.243594, 13.600227, 23.314312, 1...</td>\n",
       "      <td>[(9775371, 288.13516), (9775402, 23.314312), (...</td>\n",
       "      <td>[9775371, 9775402, 9759966, 9774516, 9142581, ...</td>\n",
       "      <td>0.333333</td>\n",
       "      <td>0.111111</td>\n",
       "      <td>1.0</td>\n",
       "    </tr>\n",
       "    <tr>\n",
       "      <th>1</th>\n",
       "      <td>150224</td>\n",
       "      <td>[9778669, 9778736, 9778623, 9089120, 9778661, ...</td>\n",
       "      <td>[9778661]</td>\n",
       "      <td>[15.440342, 14.135092, 21.227169, 16.32058, 11...</td>\n",
       "      <td>[(9778718, 201.79462), (9778623, 21.227169), (...</td>\n",
       "      <td>[9778718, 9778623, 9778657, 9482970, 9089120, ...</td>\n",
       "      <td>0.000000</td>\n",
       "      <td>0.000000</td>\n",
       "      <td>0.0</td>\n",
       "    </tr>\n",
       "  </tbody>\n",
       "</table>\n",
       "</div>"
      ],
      "text/plain": [
       "   user_id                                 article_ids_inview  \\\n",
       "0    22779  [9774516, 9771051, 9770028, 9775402, 9774461, ...   \n",
       "1   150224  [9778669, 9778736, 9778623, 9089120, 9778661, ...   \n",
       "\n",
       "  article_ids_clicked                               Predicted_read_times  \\\n",
       "0           [9759966]  [18.532225, 11.243594, 13.600227, 23.314312, 1...   \n",
       "1           [9778661]  [15.440342, 14.135092, 21.227169, 16.32058, 11...   \n",
       "\n",
       "                             Predicted_tuples_sorted  \\\n",
       "0  [(9775371, 288.13516), (9775402, 23.314312), (...   \n",
       "1  [(9778718, 201.79462), (9778623, 21.227169), (...   \n",
       "\n",
       "                               Predicted_article_ids  MMR_rank  Precision@10  \\\n",
       "0  [9775371, 9775402, 9759966, 9774516, 9142581, ...  0.333333      0.111111   \n",
       "1  [9778718, 9778623, 9778657, 9482970, 9089120, ...  0.000000      0.000000   \n",
       "\n",
       "   Recall@10  \n",
       "0        1.0  \n",
       "1        0.0  "
      ]
     },
     "execution_count": 60,
     "metadata": {},
     "output_type": "execute_result"
    }
   ],
   "source": [
    "behaviors_df_top100.head(2)"
   ]
  },
  {
   "cell_type": "code",
   "execution_count": 61,
   "metadata": {},
   "outputs": [
    {
     "name": "stdout",
     "output_type": "stream",
     "text": [
      "MRR:  0.29913492063492064\n",
      "Precision@10:  0.12789682539682537\n",
      "Recall@10:  0.86\n"
     ]
    }
   ],
   "source": [
    "print(\"MRR: \", behaviors_df_top100['MMR_rank'].sum()/behaviors_df_top100.shape[0])\n",
    "print(\"Precision@10: \", behaviors_df_top100['Precision@10'].sum()/behaviors_df_top100.shape[0])\n",
    "print(\"Recall@10: \", behaviors_df_top100['Recall@10'].sum()/behaviors_df_top100.shape[0])"
   ]
  },
  {
   "cell_type": "markdown",
   "metadata": {},
   "source": [
    "### Interpretation\n",
    "\n",
    "- An MRR of approximately 0.299 means that, on average, the true positive item is found at about the third position in the recommendation list (since 1/0.299≈3.34). This is a reasonably good result, indicating that the recommender system often ranks the relevant items near the top of the recommendation list.\n",
    "\n",
    "- A Precision@10 of approximately 0.128 means that about 12.8% of the items in the top 10 recommendations are relevant. This indicates that for every 10 items recommended, around 1.28 items are relevant. This precision value suggests that there is room for improvement in terms of recommending more relevant items in the top 10.\n",
    "\n",
    "- A Recall@10 of 0.86 means that the recommender system successfully identifies 86% of the relevant items within the top 10 recommendations. This high recall value indicates that the system is very effective at finding relevant items, though they may not always be ranked at the very top of the list."
   ]
  },
  {
   "cell_type": "markdown",
   "metadata": {},
   "source": [
    "### Overall Interpretation\n",
    "- MRR (0.299): The relevant items are generally ranked around the third position on average.\n",
    "- Precision@10 (0.128): About 12.8% of the top 10 recommendations are relevant, indicating room for improvement in the quality of top recommendations.\n",
    "- Recall@10 (0.86): The system successfully finds 86% of the relevant items within the top 10 recommendations, showing strong recall performance."
   ]
  },
  {
   "cell_type": "markdown",
   "metadata": {},
   "source": [
    "To improve precision and MRR for your recommender system, you can consider various strategies that involve improving your preprocessing, model, and recommendation logic. Here are some approaches:\n",
    "\n",
    "1. Data Preprocessing Improvements\n",
    "    1. Feature Engineering:\n",
    "\n",
    "        - Add More Features: Incorporate additional features that could influence reading time predictions, such as article length, topic, author, publication date, user preferences, etc.\n",
    "        - Normalization and Scaling: Ensure that your features are properly normalized and scaled to help the model learn more effectively.\n",
    "        - Categorical Features: Use techniques like one-hot encoding or embeddings for categorical features (e.g., article categories or authors).\n",
    "\n",
    "    2. Data Cleaning:\n",
    "\n",
    "        - Remove Outliers: Identify and remove or handle outliers in reading times to ensure the model isn’t biased by extreme values.\n",
    "        - Handle Missing Values: Ensure any missing values in the dataset are properly handled through imputation or removal.\n",
    "\n",
    "    3. Data Augmentation:\n",
    "\n",
    "        - Synthetic Data: If your dataset is small, consider generating synthetic data to improve model training.\n",
    "\n",
    "2. Model Improvements\n",
    "\n",
    "    1. Model Architecture:\n",
    "\n",
    "        - Experiment with Different Architectures: Try different neural network architectures such as deeper networks, recurrent neural networks (RNNs), transformers, etc.\n",
    "    - Hyperparameter Tuning: Perform hyperparameter tuning to find the optimal parameters for your model (learning rate, batch size, number of layers, units per layer, etc.).\n",
    "\n",
    "    2. Training Techniques:\n",
    "\n",
    "        - Regularization: Use regularization techniques like dropout, L2 regularization, and early stopping to prevent overfitting.\n",
    "        - Ensemble Methods: Combine predictions from multiple models using ensemble methods (e.g., bagging, boosting) to improve accuracy and robustness.\n",
    "\n",
    "3. Recommendation Logic Improvements\n",
    "\n",
    "    1. Post-Processing Predictions:\n",
    "\n",
    "        - Re-Ranking: After predicting reading times, re-rank articles using additional criteria such as user preferences, recent trends, or article popularity.\n",
    "        - Hybrid Recommendations:\n",
    "\n",
    "        - Combine Models: Use a hybrid approach that combines collaborative filtering, content-based filtering, and your read time prediction model to recommend articles."
   ]
  },
  {
   "cell_type": "markdown",
   "metadata": {},
   "source": [
    "#### Other"
   ]
  },
  {
   "cell_type": "code",
   "execution_count": null,
   "metadata": {},
   "outputs": [],
   "source": [
    "# # ----- NOT SURE IF THESE TRANSFORMATION ARE NEEDED NEITHER IF WE MAKE THE RECOMMENDATIONS IN THIS DATASET --------\n",
    "# behaviors_val_df = behaviors_val_df[['user_id','article_ids_inview', 'article_ids_clicked']]\n",
    "# behaviors_val_df = behaviors_val_df.explode('article_ids_clicked')\n",
    "\n",
    "# behaviors_val_grouped_clicked = df = behaviors_val_df.groupby('user_id')['article_ids_clicked'].apply(list).reset_index()\n",
    "\n",
    "# behaviors_val_df = behaviors_val_df.explode('article_ids_inview')\n",
    "\n",
    "# behaviors_val_grouped_inview_df = behaviors_val_df.groupby('user_id')['article_ids_inview'].apply(list).reset_index()\n",
    "\n",
    "# behaviors_val_df = pd.merge(behaviors_val_grouped_inview_df, behaviors_val_grouped_clicked, on='user_id', how='inner')\n",
    "\n",
    "# behaviors_val_df['article_ids_inview_setted_lst'] = behaviors_val_df['article_ids_inview'].apply(lambda lst: list(set(lst)))"
   ]
  },
  {
   "cell_type": "code",
   "execution_count": null,
   "metadata": {},
   "outputs": [],
   "source": [
    "# print(behaviors_val_df.shape)\n",
    "# behaviors_val_df.head(2)"
   ]
  },
  {
   "cell_type": "code",
   "execution_count": null,
   "metadata": {},
   "outputs": [],
   "source": []
  },
  {
   "cell_type": "code",
   "execution_count": 90,
   "metadata": {},
   "outputs": [],
   "source": [
    "# article_ids_clicked_lst = behaviors_val_df['article_ids_clicked'].tolist()\n",
    "# user_ids_lst = behaviors_val_df['user_id'].tolist()"
   ]
  },
  {
   "cell_type": "code",
   "execution_count": 91,
   "metadata": {},
   "outputs": [],
   "source": [
    "# counter, precisions, recalls, ndcgs, K = 0, [], [], [], 10\n",
    "\n",
    "\n",
    "\n",
    "# for user_id, clicked_lst, recommends_lst  in tqdm(list(zip(user_ids_lst, article_ids_clicked_lst, recommendations_full_lst))):\n",
    "    \n",
    "#     y_true = clicked_lst\n",
    "#     y_pred = recommends_lst#[:K]\n",
    "\n",
    "#     precision = len(set(y_true).intersection(set(y_pred))) / len(y_pred) if len(y_pred) > 0 else 0\n",
    "#     recall = len(set(y_true).intersection(set(y_pred))) / len(y_true) if len(y_true) > 0 else 0\n",
    "\n",
    "#     precisions.append(precision)\n",
    "#     recalls.append(recall)\n",
    "#     #ndcgs.append(ndcg_score([y_true], [y_pred], k=K))\n",
    "\n",
    "#     if precision == 0:\n",
    "#         counter +=1\n",
    "\n",
    "#     print(f\"User id: {user_id}, Length: {len(recommends_lst)}, Percision: {precision}, Recall: {recall}  \")\n",
    "\n",
    "# print({\n",
    "#     'precision@K': sum(precisions) / len(precisions)\n",
    "#     ,'recall@K': sum(recalls) / len(recalls)\n",
    "#     #,'ndcg@K': sum(ndcgs) / len(ndcgs)\n",
    "#     })"
   ]
  }
 ],
 "metadata": {
  "kernelspec": {
   "display_name": "venv",
   "language": "python",
   "name": "python3"
  },
  "language_info": {
   "codemirror_mode": {
    "name": "ipython",
    "version": 3
   },
   "file_extension": ".py",
   "mimetype": "text/x-python",
   "name": "python",
   "nbconvert_exporter": "python",
   "pygments_lexer": "ipython3",
   "version": "3.8.19"
  }
 },
 "nbformat": 4,
 "nbformat_minor": 2
}
