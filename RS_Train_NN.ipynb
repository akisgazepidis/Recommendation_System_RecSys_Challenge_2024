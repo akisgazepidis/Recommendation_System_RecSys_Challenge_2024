{
 "cells": [
  {
   "cell_type": "code",
   "execution_count": null,
   "metadata": {},
   "outputs": [],
   "source": [
    "# Train- test according to files -interaction matrix for both - hpstack save files then train.(np files)\n",
    "# ----------------------------------\n",
    "# Add behaviours dataset- after implementing the model\n",
    "# ----------------------------------\n",
    "# Predict time spend on article\n",
    "# In view article-predict time spend (function user id,article id-> Vectors userarray,articles array-remove 0-hstack) \n",
    "# ----------------------------------"
   ]
  },
  {
   "cell_type": "markdown",
   "metadata": {},
   "source": [
    "### Import libraries"
   ]
  },
  {
   "cell_type": "code",
   "execution_count": 26,
   "metadata": {},
   "outputs": [],
   "source": [
    "import pandas as pd\n",
    "import numpy as np\n",
    "import tensorflow as tf\n",
    "from tensorflow.keras.models import Sequential\n",
    "from tensorflow.keras.layers import Dense\n",
    "from tensorflow.keras.callbacks import TensorBoard\n",
    "from sklearn.model_selection import train_test_split\n",
    "\n",
    "from tqdm.keras import TqdmCallback\n",
    "from sklearn.preprocessing import StandardScaler, MinMaxScaler\n",
    "import matplotlib.pyplot as plt\n",
    "\n",
    "import datetime"
   ]
  },
  {
   "cell_type": "code",
   "execution_count": null,
   "metadata": {},
   "outputs": [],
   "source": [
    "#### "
   ]
  },
  {
   "cell_type": "code",
   "execution_count": 41,
   "metadata": {},
   "outputs": [
    {
     "data": {
      "text/plain": [
       "'C:\\\\Users\\\\giwrg\\\\Υπολογιστής\\\\Recommendation_System_RecSys_Challenge_2024'"
      ]
     },
     "execution_count": 41,
     "metadata": {},
     "output_type": "execute_result"
    }
   ],
   "source": [
    "import os\n",
    "os.getcwd()"
   ]
  },
  {
   "cell_type": "code",
   "execution_count": 27,
   "metadata": {},
   "outputs": [
    {
     "name": "stdout",
     "output_type": "stream",
     "text": [
      "Interaction matrix df shape:                       (1590, 4247)\n",
      "User embedding df shape:                          (1590, 300)\n",
      "Article embedding df shape:                       (4247, 300)\n"
     ]
    }
   ],
   "source": [
    "# Read interaction matrix pickle file\n",
    "size = 'demo'\n",
    "fillna_value = '0'\n",
    "interaction_matrix_file_path = f'./files/pickle/interaction_matrix_{size}_{fillna_value}.pkl'\n",
    "interaction_matrix_df = pd.read_pickle(interaction_matrix_file_path)\n",
    "print('Interaction matrix df shape:                      ',interaction_matrix_df.shape)\n",
    "\n",
    "user_matrix_df_file_path = f'./files/pickle/user_matrix_{size}_{fillna_value}.pkl'\n",
    "article_matrix_df_file_path = f'./files/pickle/article_matrix_{size}_{fillna_value}.pkl'\n",
    "\n",
    "user_matrix_df = pd.read_pickle(user_matrix_df_file_path)\n",
    "article_matrix_df = pd.read_pickle(article_matrix_df_file_path)\n",
    "print('User embedding df shape:                         ',user_matrix_df.shape)\n",
    "print('Article embedding df shape:                      ',article_matrix_df.shape)"
   ]
  },
  {
   "cell_type": "code",
   "execution_count": 28,
   "metadata": {},
   "outputs": [],
   "source": [
    "# Convert the dataframes to numpy arrays\n",
    "user_vectors = user_matrix_df.values\n",
    "article_vectors = article_matrix_df.values\n",
    "interaction_matrix = interaction_matrix_df.values"
   ]
  },
  {
   "cell_type": "code",
   "execution_count": 40,
   "metadata": {},
   "outputs": [
    {
     "data": {
      "text/html": [
       "<div>\n",
       "<style scoped>\n",
       "    .dataframe tbody tr th:only-of-type {\n",
       "        vertical-align: middle;\n",
       "    }\n",
       "\n",
       "    .dataframe tbody tr th {\n",
       "        vertical-align: top;\n",
       "    }\n",
       "\n",
       "    .dataframe thead th {\n",
       "        text-align: right;\n",
       "    }\n",
       "</style>\n",
       "<table border=\"1\" class=\"dataframe\">\n",
       "  <thead>\n",
       "    <tr style=\"text-align: right;\">\n",
       "      <th></th>\n",
       "      <th>0</th>\n",
       "      <th>1</th>\n",
       "      <th>2</th>\n",
       "      <th>3</th>\n",
       "      <th>4</th>\n",
       "      <th>5</th>\n",
       "      <th>6</th>\n",
       "      <th>7</th>\n",
       "      <th>8</th>\n",
       "      <th>9</th>\n",
       "      <th>...</th>\n",
       "      <th>290</th>\n",
       "      <th>291</th>\n",
       "      <th>292</th>\n",
       "      <th>293</th>\n",
       "      <th>294</th>\n",
       "      <th>295</th>\n",
       "      <th>296</th>\n",
       "      <th>297</th>\n",
       "      <th>298</th>\n",
       "      <th>299</th>\n",
       "    </tr>\n",
       "    <tr>\n",
       "      <th>user_id</th>\n",
       "      <th></th>\n",
       "      <th></th>\n",
       "      <th></th>\n",
       "      <th></th>\n",
       "      <th></th>\n",
       "      <th></th>\n",
       "      <th></th>\n",
       "      <th></th>\n",
       "      <th></th>\n",
       "      <th></th>\n",
       "      <th></th>\n",
       "      <th></th>\n",
       "      <th></th>\n",
       "      <th></th>\n",
       "      <th></th>\n",
       "      <th></th>\n",
       "      <th></th>\n",
       "      <th></th>\n",
       "      <th></th>\n",
       "      <th></th>\n",
       "      <th></th>\n",
       "    </tr>\n",
       "  </thead>\n",
       "  <tbody>\n",
       "    <tr>\n",
       "      <th>11313</th>\n",
       "      <td>-2.825051</td>\n",
       "      <td>-0.367806</td>\n",
       "      <td>0.030133</td>\n",
       "      <td>-2.053737</td>\n",
       "      <td>3.554389</td>\n",
       "      <td>1.388510</td>\n",
       "      <td>-2.562073</td>\n",
       "      <td>-1.092667</td>\n",
       "      <td>-2.818263</td>\n",
       "      <td>2.857499</td>\n",
       "      <td>...</td>\n",
       "      <td>1.205560</td>\n",
       "      <td>0.040370</td>\n",
       "      <td>-0.489170</td>\n",
       "      <td>-0.565870</td>\n",
       "      <td>0.375311</td>\n",
       "      <td>0.611979</td>\n",
       "      <td>0.917979</td>\n",
       "      <td>-1.692447</td>\n",
       "      <td>-0.107961</td>\n",
       "      <td>0.027109</td>\n",
       "    </tr>\n",
       "    <tr>\n",
       "      <th>13538</th>\n",
       "      <td>0.179039</td>\n",
       "      <td>-0.434059</td>\n",
       "      <td>0.162799</td>\n",
       "      <td>-0.843279</td>\n",
       "      <td>-0.408800</td>\n",
       "      <td>-0.539446</td>\n",
       "      <td>-0.002827</td>\n",
       "      <td>-0.149006</td>\n",
       "      <td>-0.203626</td>\n",
       "      <td>-0.120278</td>\n",
       "      <td>...</td>\n",
       "      <td>0.086555</td>\n",
       "      <td>-0.021488</td>\n",
       "      <td>-0.484404</td>\n",
       "      <td>0.346705</td>\n",
       "      <td>0.084665</td>\n",
       "      <td>0.250012</td>\n",
       "      <td>0.218374</td>\n",
       "      <td>-1.116250</td>\n",
       "      <td>-0.028726</td>\n",
       "      <td>0.015211</td>\n",
       "    </tr>\n",
       "    <tr>\n",
       "      <th>15430</th>\n",
       "      <td>-0.106730</td>\n",
       "      <td>0.005686</td>\n",
       "      <td>-0.084841</td>\n",
       "      <td>-0.009383</td>\n",
       "      <td>0.226627</td>\n",
       "      <td>0.027665</td>\n",
       "      <td>0.040393</td>\n",
       "      <td>-0.214349</td>\n",
       "      <td>0.025770</td>\n",
       "      <td>-0.020836</td>\n",
       "      <td>...</td>\n",
       "      <td>-0.002111</td>\n",
       "      <td>0.002745</td>\n",
       "      <td>-0.053999</td>\n",
       "      <td>0.034044</td>\n",
       "      <td>0.005430</td>\n",
       "      <td>0.013288</td>\n",
       "      <td>0.006048</td>\n",
       "      <td>-0.053708</td>\n",
       "      <td>-0.000820</td>\n",
       "      <td>0.003777</td>\n",
       "    </tr>\n",
       "    <tr>\n",
       "      <th>19181</th>\n",
       "      <td>0.532511</td>\n",
       "      <td>0.428790</td>\n",
       "      <td>0.056709</td>\n",
       "      <td>1.775466</td>\n",
       "      <td>-2.258640</td>\n",
       "      <td>1.055624</td>\n",
       "      <td>2.263162</td>\n",
       "      <td>-1.576362</td>\n",
       "      <td>1.018655</td>\n",
       "      <td>-0.314405</td>\n",
       "      <td>...</td>\n",
       "      <td>0.274910</td>\n",
       "      <td>0.112743</td>\n",
       "      <td>-2.257519</td>\n",
       "      <td>0.945872</td>\n",
       "      <td>0.334943</td>\n",
       "      <td>0.180891</td>\n",
       "      <td>1.503973</td>\n",
       "      <td>-2.853840</td>\n",
       "      <td>-0.032769</td>\n",
       "      <td>0.035477</td>\n",
       "    </tr>\n",
       "    <tr>\n",
       "      <th>19568</th>\n",
       "      <td>-0.000986</td>\n",
       "      <td>-0.207481</td>\n",
       "      <td>-0.285881</td>\n",
       "      <td>-0.338593</td>\n",
       "      <td>0.063095</td>\n",
       "      <td>0.167911</td>\n",
       "      <td>0.069495</td>\n",
       "      <td>0.606133</td>\n",
       "      <td>-0.365199</td>\n",
       "      <td>0.463814</td>\n",
       "      <td>...</td>\n",
       "      <td>0.274826</td>\n",
       "      <td>0.057568</td>\n",
       "      <td>0.610297</td>\n",
       "      <td>0.093405</td>\n",
       "      <td>0.089016</td>\n",
       "      <td>0.157710</td>\n",
       "      <td>0.187763</td>\n",
       "      <td>-0.463365</td>\n",
       "      <td>-0.003808</td>\n",
       "      <td>0.001931</td>\n",
       "    </tr>\n",
       "    <tr>\n",
       "      <th>...</th>\n",
       "      <td>...</td>\n",
       "      <td>...</td>\n",
       "      <td>...</td>\n",
       "      <td>...</td>\n",
       "      <td>...</td>\n",
       "      <td>...</td>\n",
       "      <td>...</td>\n",
       "      <td>...</td>\n",
       "      <td>...</td>\n",
       "      <td>...</td>\n",
       "      <td>...</td>\n",
       "      <td>...</td>\n",
       "      <td>...</td>\n",
       "      <td>...</td>\n",
       "      <td>...</td>\n",
       "      <td>...</td>\n",
       "      <td>...</td>\n",
       "      <td>...</td>\n",
       "      <td>...</td>\n",
       "      <td>...</td>\n",
       "      <td>...</td>\n",
       "    </tr>\n",
       "    <tr>\n",
       "      <th>2581162</th>\n",
       "      <td>0.695479</td>\n",
       "      <td>-0.519523</td>\n",
       "      <td>-1.675876</td>\n",
       "      <td>0.386194</td>\n",
       "      <td>0.731115</td>\n",
       "      <td>-0.167112</td>\n",
       "      <td>1.774010</td>\n",
       "      <td>-2.137779</td>\n",
       "      <td>-0.047850</td>\n",
       "      <td>-2.243982</td>\n",
       "      <td>...</td>\n",
       "      <td>0.067668</td>\n",
       "      <td>-0.045059</td>\n",
       "      <td>-0.655019</td>\n",
       "      <td>0.251897</td>\n",
       "      <td>0.177066</td>\n",
       "      <td>0.403311</td>\n",
       "      <td>0.579807</td>\n",
       "      <td>-1.749934</td>\n",
       "      <td>-0.037405</td>\n",
       "      <td>0.018092</td>\n",
       "    </tr>\n",
       "    <tr>\n",
       "      <th>2583035</th>\n",
       "      <td>-0.074542</td>\n",
       "      <td>-0.367393</td>\n",
       "      <td>-0.254414</td>\n",
       "      <td>-0.088645</td>\n",
       "      <td>0.383429</td>\n",
       "      <td>0.046153</td>\n",
       "      <td>0.748360</td>\n",
       "      <td>-0.477628</td>\n",
       "      <td>-0.014292</td>\n",
       "      <td>1.273346</td>\n",
       "      <td>...</td>\n",
       "      <td>0.393398</td>\n",
       "      <td>0.042920</td>\n",
       "      <td>-0.695452</td>\n",
       "      <td>-0.052766</td>\n",
       "      <td>0.018055</td>\n",
       "      <td>-0.941968</td>\n",
       "      <td>0.780453</td>\n",
       "      <td>-1.590283</td>\n",
       "      <td>-0.044368</td>\n",
       "      <td>0.024029</td>\n",
       "    </tr>\n",
       "    <tr>\n",
       "      <th>2583477</th>\n",
       "      <td>-1.435018</td>\n",
       "      <td>-1.634622</td>\n",
       "      <td>-1.577227</td>\n",
       "      <td>-4.172942</td>\n",
       "      <td>-0.279585</td>\n",
       "      <td>1.647765</td>\n",
       "      <td>-1.424228</td>\n",
       "      <td>0.707971</td>\n",
       "      <td>2.286822</td>\n",
       "      <td>2.882404</td>\n",
       "      <td>...</td>\n",
       "      <td>0.768613</td>\n",
       "      <td>0.454604</td>\n",
       "      <td>-0.254245</td>\n",
       "      <td>-2.752483</td>\n",
       "      <td>0.800912</td>\n",
       "      <td>0.409095</td>\n",
       "      <td>2.954754</td>\n",
       "      <td>-5.492107</td>\n",
       "      <td>-0.064454</td>\n",
       "      <td>0.020887</td>\n",
       "    </tr>\n",
       "    <tr>\n",
       "      <th>2585449</th>\n",
       "      <td>-0.008220</td>\n",
       "      <td>1.761871</td>\n",
       "      <td>-0.652848</td>\n",
       "      <td>-1.174264</td>\n",
       "      <td>-1.873937</td>\n",
       "      <td>1.721021</td>\n",
       "      <td>-0.393062</td>\n",
       "      <td>-1.413104</td>\n",
       "      <td>-0.674021</td>\n",
       "      <td>-2.395288</td>\n",
       "      <td>...</td>\n",
       "      <td>-0.015540</td>\n",
       "      <td>0.047512</td>\n",
       "      <td>-0.406822</td>\n",
       "      <td>-0.781301</td>\n",
       "      <td>0.263717</td>\n",
       "      <td>0.178171</td>\n",
       "      <td>0.754786</td>\n",
       "      <td>-1.665182</td>\n",
       "      <td>-0.024827</td>\n",
       "      <td>0.004788</td>\n",
       "    </tr>\n",
       "    <tr>\n",
       "      <th>2589391</th>\n",
       "      <td>0.090229</td>\n",
       "      <td>-0.226663</td>\n",
       "      <td>0.202899</td>\n",
       "      <td>0.238773</td>\n",
       "      <td>0.562058</td>\n",
       "      <td>0.182240</td>\n",
       "      <td>0.066773</td>\n",
       "      <td>-0.051267</td>\n",
       "      <td>0.323084</td>\n",
       "      <td>0.090999</td>\n",
       "      <td>...</td>\n",
       "      <td>-0.275632</td>\n",
       "      <td>0.036841</td>\n",
       "      <td>-0.421469</td>\n",
       "      <td>0.329844</td>\n",
       "      <td>0.099685</td>\n",
       "      <td>0.156973</td>\n",
       "      <td>0.194753</td>\n",
       "      <td>-0.463282</td>\n",
       "      <td>-0.003786</td>\n",
       "      <td>0.002517</td>\n",
       "    </tr>\n",
       "  </tbody>\n",
       "</table>\n",
       "<p>1590 rows × 300 columns</p>\n",
       "</div>"
      ],
      "text/plain": [
       "              0         1         2         3         4         5         6    \\\n",
       "user_id                                                                         \n",
       "11313   -2.825051 -0.367806  0.030133 -2.053737  3.554389  1.388510 -2.562073   \n",
       "13538    0.179039 -0.434059  0.162799 -0.843279 -0.408800 -0.539446 -0.002827   \n",
       "15430   -0.106730  0.005686 -0.084841 -0.009383  0.226627  0.027665  0.040393   \n",
       "19181    0.532511  0.428790  0.056709  1.775466 -2.258640  1.055624  2.263162   \n",
       "19568   -0.000986 -0.207481 -0.285881 -0.338593  0.063095  0.167911  0.069495   \n",
       "...           ...       ...       ...       ...       ...       ...       ...   \n",
       "2581162  0.695479 -0.519523 -1.675876  0.386194  0.731115 -0.167112  1.774010   \n",
       "2583035 -0.074542 -0.367393 -0.254414 -0.088645  0.383429  0.046153  0.748360   \n",
       "2583477 -1.435018 -1.634622 -1.577227 -4.172942 -0.279585  1.647765 -1.424228   \n",
       "2585449 -0.008220  1.761871 -0.652848 -1.174264 -1.873937  1.721021 -0.393062   \n",
       "2589391  0.090229 -0.226663  0.202899  0.238773  0.562058  0.182240  0.066773   \n",
       "\n",
       "              7         8         9    ...       290       291       292  \\\n",
       "user_id                                ...                                 \n",
       "11313   -1.092667 -2.818263  2.857499  ...  1.205560  0.040370 -0.489170   \n",
       "13538   -0.149006 -0.203626 -0.120278  ...  0.086555 -0.021488 -0.484404   \n",
       "15430   -0.214349  0.025770 -0.020836  ... -0.002111  0.002745 -0.053999   \n",
       "19181   -1.576362  1.018655 -0.314405  ...  0.274910  0.112743 -2.257519   \n",
       "19568    0.606133 -0.365199  0.463814  ...  0.274826  0.057568  0.610297   \n",
       "...           ...       ...       ...  ...       ...       ...       ...   \n",
       "2581162 -2.137779 -0.047850 -2.243982  ...  0.067668 -0.045059 -0.655019   \n",
       "2583035 -0.477628 -0.014292  1.273346  ...  0.393398  0.042920 -0.695452   \n",
       "2583477  0.707971  2.286822  2.882404  ...  0.768613  0.454604 -0.254245   \n",
       "2585449 -1.413104 -0.674021 -2.395288  ... -0.015540  0.047512 -0.406822   \n",
       "2589391 -0.051267  0.323084  0.090999  ... -0.275632  0.036841 -0.421469   \n",
       "\n",
       "              293       294       295       296       297       298       299  \n",
       "user_id                                                                        \n",
       "11313   -0.565870  0.375311  0.611979  0.917979 -1.692447 -0.107961  0.027109  \n",
       "13538    0.346705  0.084665  0.250012  0.218374 -1.116250 -0.028726  0.015211  \n",
       "15430    0.034044  0.005430  0.013288  0.006048 -0.053708 -0.000820  0.003777  \n",
       "19181    0.945872  0.334943  0.180891  1.503973 -2.853840 -0.032769  0.035477  \n",
       "19568    0.093405  0.089016  0.157710  0.187763 -0.463365 -0.003808  0.001931  \n",
       "...           ...       ...       ...       ...       ...       ...       ...  \n",
       "2581162  0.251897  0.177066  0.403311  0.579807 -1.749934 -0.037405  0.018092  \n",
       "2583035 -0.052766  0.018055 -0.941968  0.780453 -1.590283 -0.044368  0.024029  \n",
       "2583477 -2.752483  0.800912  0.409095  2.954754 -5.492107 -0.064454  0.020887  \n",
       "2585449 -0.781301  0.263717  0.178171  0.754786 -1.665182 -0.024827  0.004788  \n",
       "2589391  0.329844  0.099685  0.156973  0.194753 -0.463282 -0.003786  0.002517  \n",
       "\n",
       "[1590 rows x 300 columns]"
      ]
     },
     "execution_count": 40,
     "metadata": {},
     "output_type": "execute_result"
    }
   ],
   "source": [
    "user_matrix_df"
   ]
  },
  {
   "cell_type": "code",
   "execution_count": 29,
   "metadata": {},
   "outputs": [],
   "source": [
    "# Normalize the embeddings (optional, depending on your use case)\n",
    "# scaler = StandardScaler()\n",
    "# user_vectors = scaler.fit_transform(user_vectors)\n",
    "# article_vectors = scaler.transform(article_vectors)"
   ]
  },
  {
   "cell_type": "code",
   "execution_count": 30,
   "metadata": {},
   "outputs": [],
   "source": [
    "# Normalize the original interaction matrix\n",
    "interaction_matrix_normalized = MinMaxScaler().fit_transform(interaction_matrix)"
   ]
  },
  {
   "cell_type": "code",
   "execution_count": 31,
   "metadata": {},
   "outputs": [],
   "source": [
    "# Get the indices of the non-zero entries in the interaction matrix\n",
    "user_idx, article_idx = np.where(interaction_matrix_normalized != 0)\n",
    "read_times = interaction_matrix_normalized[user_idx, article_idx]"
   ]
  },
  {
   "cell_type": "code",
   "execution_count": 32,
   "metadata": {},
   "outputs": [],
   "source": [
    "# Create the input features by concatenating user and article vectors\n",
    "X = np.hstack((user_vectors[user_idx], article_vectors[article_idx]))\n",
    "y = read_times"
   ]
  },
  {
   "cell_type": "code",
   "execution_count": 33,
   "metadata": {},
   "outputs": [],
   "source": [
    "# Use only the first 100 rows for testing\n",
    "X = X[:5000]\n",
    "y = y[:5000]"
   ]
  },
  {
   "cell_type": "code",
   "execution_count": 34,
   "metadata": {},
   "outputs": [
    {
     "name": "stdout",
     "output_type": "stream",
     "text": [
      "(4000, 600)\n",
      "(1000, 600)\n",
      "(4000,)\n",
      "(1000,)\n"
     ]
    }
   ],
   "source": [
    "# Split the data into train and test sets\n",
    "X_train, X_test, y_train, y_test = train_test_split(X, y, test_size=0.2, random_state=42)\n",
    "\n",
    "print(X_train.shape)\n",
    "print(X_test.shape)\n",
    "print(y_train.shape)\n",
    "print(y_test.shape)"
   ]
  },
  {
   "cell_type": "code",
   "execution_count": 35,
   "metadata": {},
   "outputs": [
    {
     "name": "stdout",
     "output_type": "stream",
     "text": [
      "WARNING:tensorflow:Please add `keras.layers.InputLayer` instead of `keras.Input` to Sequential model. `keras.Input` is intended to be used by Functional model.\n"
     ]
    }
   ],
   "source": [
    "# Define the model\n",
    "model = Sequential([\n",
    "    tf.keras.Input(shape=(600,)),\n",
    "    Dense(256, activation='relu'),\n",
    "    Dense(128, activation='relu'),\n",
    "    Dense(32, activation='relu'),\n",
    "    Dense(1, activation = 'linear')\n",
    "])\n",
    "\n",
    "# Compile the model\n",
    "model.compile(optimizer='adam', loss='mse', metrics=['mse'])\n"
   ]
  },
  {
   "cell_type": "code",
   "execution_count": 36,
   "metadata": {},
   "outputs": [
    {
     "data": {
      "application/vnd.jupyter.widget-view+json": {
       "model_id": "c1f1e99864224d7cb050025b1174bbbe",
       "version_major": 2,
       "version_minor": 0
      },
      "text/plain": [
       "0epoch [00:00, ?epoch/s]"
      ]
     },
     "metadata": {},
     "output_type": "display_data"
    },
    {
     "data": {
      "application/vnd.jupyter.widget-view+json": {
       "model_id": "",
       "version_major": 2,
       "version_minor": 0
      },
      "text/plain": [
       "0batch [00:00, ?batch/s]"
      ]
     },
     "metadata": {},
     "output_type": "display_data"
    },
    {
     "name": "stdout",
     "output_type": "stream",
     "text": [
      "Epoch 1/20\n",
      "WARNING:tensorflow:Callback method `on_train_batch_end` is slow compared to the batch time (batch time: 0.0023s vs `on_train_batch_end` time: 0.0206s). Check your callbacks.\n",
      "250/250 - 2s - loss: 0.1866 - mse: 0.1866 - val_loss: 0.0339 - val_mse: 0.0339\n",
      "Epoch 2/20\n",
      "250/250 - 1s - loss: 0.0215 - mse: 0.0215 - val_loss: 0.0221 - val_mse: 0.0221\n",
      "Epoch 3/20\n",
      "250/250 - 1s - loss: 0.0169 - mse: 0.0169 - val_loss: 0.0189 - val_mse: 0.0189\n",
      "Epoch 4/20\n",
      "250/250 - 1s - loss: 0.0158 - mse: 0.0158 - val_loss: 0.0195 - val_mse: 0.0195\n",
      "Epoch 5/20\n",
      "250/250 - 1s - loss: 0.0151 - mse: 0.0151 - val_loss: 0.0173 - val_mse: 0.0173\n",
      "Epoch 6/20\n",
      "250/250 - 1s - loss: 0.0143 - mse: 0.0143 - val_loss: 0.0172 - val_mse: 0.0172\n",
      "Epoch 7/20\n",
      "250/250 - 1s - loss: 0.0146 - mse: 0.0146 - val_loss: 0.0184 - val_mse: 0.0184\n",
      "Epoch 8/20\n",
      "250/250 - 1s - loss: 0.0150 - mse: 0.0150 - val_loss: 0.0175 - val_mse: 0.0175\n",
      "Epoch 9/20\n",
      "250/250 - 1s - loss: 0.0151 - mse: 0.0151 - val_loss: 0.0176 - val_mse: 0.0176\n",
      "Epoch 10/20\n",
      "250/250 - 1s - loss: 0.0140 - mse: 0.0140 - val_loss: 0.0161 - val_mse: 0.0161\n",
      "Epoch 11/20\n",
      "250/250 - 1s - loss: 0.0136 - mse: 0.0136 - val_loss: 0.0153 - val_mse: 0.0153\n",
      "Epoch 12/20\n",
      "250/250 - 1s - loss: 0.0121 - mse: 0.0121 - val_loss: 0.0145 - val_mse: 0.0145\n",
      "Epoch 13/20\n",
      "250/250 - 1s - loss: 0.0112 - mse: 0.0112 - val_loss: 0.0140 - val_mse: 0.0140\n",
      "Epoch 14/20\n",
      "250/250 - 1s - loss: 0.0110 - mse: 0.0110 - val_loss: 0.0137 - val_mse: 0.0137\n",
      "Epoch 15/20\n",
      "250/250 - 1s - loss: 0.0128 - mse: 0.0128 - val_loss: 0.0125 - val_mse: 0.0125\n",
      "Epoch 16/20\n",
      "250/250 - 1s - loss: 0.0117 - mse: 0.0117 - val_loss: 0.0119 - val_mse: 0.0119\n",
      "Epoch 17/20\n",
      "250/250 - 1s - loss: 0.0108 - mse: 0.0108 - val_loss: 0.0132 - val_mse: 0.0132\n",
      "Epoch 18/20\n",
      "250/250 - 1s - loss: 0.0118 - mse: 0.0118 - val_loss: 0.0164 - val_mse: 0.0164\n",
      "Epoch 19/20\n",
      "250/250 - 1s - loss: 0.0123 - mse: 0.0123 - val_loss: 0.0175 - val_mse: 0.0175\n",
      "Epoch 20/20\n",
      "250/250 - 1s - loss: 0.0127 - mse: 0.0127 - val_loss: 0.0147 - val_mse: 0.0147\n"
     ]
    }
   ],
   "source": [
    "# Prepare TensorBoard callback\n",
    "log_dir = \"files/logs/fit/\" + datetime.datetime.now().strftime(\"%Y%m%d-%H%M%S\")\n",
    "tensorboard_callback = TensorBoard(log_dir=log_dir, histogram_freq=1)\n",
    "\n",
    "# Train the model\n",
    "num_epochs = 20\n",
    "history = model.fit(X_train, y_train, epochs=num_epochs, batch_size=16,\n",
    "                    validation_data=(X_test, y_test),\n",
    "                    callbacks=[tensorboard_callback, TqdmCallback(verbose=1)],\n",
    "                    verbose=2)"
   ]
  },
  {
   "cell_type": "code",
   "execution_count": 37,
   "metadata": {},
   "outputs": [
    {
     "name": "stdout",
     "output_type": "stream",
     "text": [
      "125/125 [==============================] - 0s 2ms/step - loss: 0.0118 - mse: 0.0118\n",
      "32/32 [==============================] - 0s 2ms/step - loss: 0.0147 - mse: 0.0147\n"
     ]
    }
   ],
   "source": [
    "# Evaluate the model\n",
    "train_loss, train_mse = model.evaluate(X_train, y_train, verbose=1)\n",
    "test_loss, test_mse = model.evaluate(X_test, y_test, verbose=1)"
   ]
  },
  {
   "cell_type": "code",
   "execution_count": 38,
   "metadata": {},
   "outputs": [],
   "source": [
    "def plot_loss(history):\n",
    "  plt.plot(history.history['loss'], label='loss')\n",
    "  plt.plot(history.history['val_loss'], label='val_loss')\n",
    "#   plt.ylim([0, 10])\n",
    "  plt.xlabel('Epoch')\n",
    "  plt.ylabel('Error [MPG]')\n",
    "  plt.legend()\n",
    "  plt.grid(True)"
   ]
  },
  {
   "cell_type": "code",
   "execution_count": 39,
   "metadata": {},
   "outputs": [
    {
     "data": {
      "image/png": "[encoded data removed]",
      "text/plain": [
       "<Figure size 640x480 with 1 Axes>"
      ]
     },
     "metadata": {},
     "output_type": "display_data"
    }
   ],
   "source": [
    "plot_loss(history)"
   ]
  },
  {
   "cell_type": "code",
   "execution_count": null,
   "metadata": {},
   "outputs": [],
   "source": []
  }
 ],
 "metadata": {
  "kernelspec": {
   "display_name": "Python 3 (ipykernel)",
   "language": "python",
   "name": "python3"
  },
  "language_info": {
   "codemirror_mode": {
    "name": "ipython",
    "version": 3
   },
   "file_extension": ".py",
   "mimetype": "text/x-python",
   "name": "python",
   "nbconvert_exporter": "python",
   "pygments_lexer": "ipython3",
   "version": "3.9.13"
  }
 },
 "nbformat": 4,
 "nbformat_minor": 2
}
