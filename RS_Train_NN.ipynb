{
 "cells": [
  {
   "cell_type": "code",
   "execution_count": 4,
   "metadata": {},
   "outputs": [],
   "source": [
    "import pandas as pd\n",
    "import numpy as np\n",
    "import tensorflow as tf\n",
    "from tensorflow.keras.models import Sequential\n",
    "from tensorflow.keras.layers import Dense\n",
    "from tensorflow.keras.callbacks import TensorBoard\n",
    "from sklearn.model_selection import train_test_split\n",
    "\n",
    "from tqdm.keras import TqdmCallback\n",
    "from sklearn.preprocessing import StandardScaler, MinMaxScaler\n",
    "\n",
    "import datetime"
   ]
  },
  {
   "cell_type": "code",
   "execution_count": 5,
   "metadata": {},
   "outputs": [
    {
     "name": "stdout",
     "output_type": "stream",
     "text": [
      "Interaction matrix df shape:                       (1590, 4247)\n",
      "User embedding df shape:                          (1590, 300)\n",
      "Article embedding df shape:                       (4247, 300)\n"
     ]
    }
   ],
   "source": [
    "# Read interaction matrix pickle file\n",
    "size = 'demo'\n",
    "fillna_value = '0'\n",
    "interaction_matrix_file_path = f'./files/pickle/interaction_matrix_{size}_{fillna_value}.pkl'\n",
    "interaction_matrix_df = pd.read_pickle(interaction_matrix_file_path)\n",
    "print('Interaction matrix df shape:                      ',interaction_matrix_df.shape)\n",
    "\n",
    "user_matrix_df_file_path = f'./files/pickle/user_matrix_{size}_{fillna_value}.pkl'\n",
    "article_matrix_df_file_path = f'./files/pickle/article_matrix_{size}_{fillna_value}.pkl'\n",
    "\n",
    "user_matrix_df = pd.read_pickle(user_matrix_df_file_path)\n",
    "article_matrix_df = pd.read_pickle(article_matrix_df_file_path)\n",
    "print('User embedding df shape:                         ',user_matrix_df.shape)\n",
    "print('Article embedding df shape:                      ',article_matrix_df.shape)"
   ]
  },
  {
   "cell_type": "code",
   "execution_count": 22,
   "metadata": {},
   "outputs": [
    {
     "data": {
      "text/html": [
       "<div>\n",
       "<style scoped>\n",
       "    .dataframe tbody tr th:only-of-type {\n",
       "        vertical-align: middle;\n",
       "    }\n",
       "\n",
       "    .dataframe tbody tr th {\n",
       "        vertical-align: top;\n",
       "    }\n",
       "\n",
       "    .dataframe thead th {\n",
       "        text-align: right;\n",
       "    }\n",
       "</style>\n",
       "<table border=\"1\" class=\"dataframe\">\n",
       "  <thead>\n",
       "    <tr style=\"text-align: right;\">\n",
       "      <th>article_id_fixed</th>\n",
       "      <th>9251369</th>\n",
       "      <th>9730301</th>\n",
       "      <th>9733713</th>\n",
       "      <th>9737535</th>\n",
       "      <th>9738292</th>\n",
       "      <th>9738334</th>\n",
       "      <th>9740021</th>\n",
       "      <th>9740161</th>\n",
       "      <th>9740174</th>\n",
       "      <th>9740356</th>\n",
       "      <th>...</th>\n",
       "      <th>9700074</th>\n",
       "      <th>9737345</th>\n",
       "      <th>6404190</th>\n",
       "      <th>9448400</th>\n",
       "      <th>9728595</th>\n",
       "      <th>9726404</th>\n",
       "      <th>8166777</th>\n",
       "      <th>9582969</th>\n",
       "      <th>9627627</th>\n",
       "      <th>9674356</th>\n",
       "    </tr>\n",
       "    <tr>\n",
       "      <th>user_id</th>\n",
       "      <th></th>\n",
       "      <th></th>\n",
       "      <th></th>\n",
       "      <th></th>\n",
       "      <th></th>\n",
       "      <th></th>\n",
       "      <th></th>\n",
       "      <th></th>\n",
       "      <th></th>\n",
       "      <th></th>\n",
       "      <th></th>\n",
       "      <th></th>\n",
       "      <th></th>\n",
       "      <th></th>\n",
       "      <th></th>\n",
       "      <th></th>\n",
       "      <th></th>\n",
       "      <th></th>\n",
       "      <th></th>\n",
       "      <th></th>\n",
       "      <th></th>\n",
       "    </tr>\n",
       "  </thead>\n",
       "  <tbody>\n",
       "    <tr>\n",
       "      <th>11313</th>\n",
       "      <td>299.0</td>\n",
       "      <td>323.0</td>\n",
       "      <td>7.0</td>\n",
       "      <td>1038.0</td>\n",
       "      <td>32.0</td>\n",
       "      <td>4.0</td>\n",
       "      <td>82.0</td>\n",
       "      <td>4.0</td>\n",
       "      <td>674.0</td>\n",
       "      <td>9.0</td>\n",
       "      <td>...</td>\n",
       "      <td>0.0</td>\n",
       "      <td>0.0</td>\n",
       "      <td>0.0</td>\n",
       "      <td>0.0</td>\n",
       "      <td>0.0</td>\n",
       "      <td>0.0</td>\n",
       "      <td>0.0</td>\n",
       "      <td>0.0</td>\n",
       "      <td>0.0</td>\n",
       "      <td>0.0</td>\n",
       "    </tr>\n",
       "    <tr>\n",
       "      <th>13538</th>\n",
       "      <td>0.0</td>\n",
       "      <td>3.0</td>\n",
       "      <td>14.0</td>\n",
       "      <td>0.0</td>\n",
       "      <td>0.0</td>\n",
       "      <td>0.0</td>\n",
       "      <td>0.0</td>\n",
       "      <td>0.0</td>\n",
       "      <td>0.0</td>\n",
       "      <td>4.0</td>\n",
       "      <td>...</td>\n",
       "      <td>0.0</td>\n",
       "      <td>0.0</td>\n",
       "      <td>0.0</td>\n",
       "      <td>0.0</td>\n",
       "      <td>0.0</td>\n",
       "      <td>0.0</td>\n",
       "      <td>0.0</td>\n",
       "      <td>0.0</td>\n",
       "      <td>0.0</td>\n",
       "      <td>0.0</td>\n",
       "    </tr>\n",
       "  </tbody>\n",
       "</table>\n",
       "<p>2 rows × 4247 columns</p>\n",
       "</div>"
      ],
      "text/plain": [
       "article_id_fixed  9251369  9730301  9733713  9737535  9738292  9738334  \\\n",
       "user_id                                                                  \n",
       "11313               299.0    323.0      7.0   1038.0     32.0      4.0   \n",
       "13538                 0.0      3.0     14.0      0.0      0.0      0.0   \n",
       "\n",
       "article_id_fixed  9740021  9740161  9740174  9740356  ...  9700074  9737345  \\\n",
       "user_id                                               ...                     \n",
       "11313                82.0      4.0    674.0      9.0  ...      0.0      0.0   \n",
       "13538                 0.0      0.0      0.0      4.0  ...      0.0      0.0   \n",
       "\n",
       "article_id_fixed  6404190  9448400  9728595  9726404  8166777  9582969  \\\n",
       "user_id                                                                  \n",
       "11313                 0.0      0.0      0.0      0.0      0.0      0.0   \n",
       "13538                 0.0      0.0      0.0      0.0      0.0      0.0   \n",
       "\n",
       "article_id_fixed  9627627  9674356  \n",
       "user_id                             \n",
       "11313                 0.0      0.0  \n",
       "13538                 0.0      0.0  \n",
       "\n",
       "[2 rows x 4247 columns]"
      ]
     },
     "execution_count": 22,
     "metadata": {},
     "output_type": "execute_result"
    }
   ],
   "source": [
    "interaction_matrix_df.head(2)"
   ]
  },
  {
   "cell_type": "code",
   "execution_count": 23,
   "metadata": {},
   "outputs": [
    {
     "data": {
      "text/html": [
       "<div>\n",
       "<style scoped>\n",
       "    .dataframe tbody tr th:only-of-type {\n",
       "        vertical-align: middle;\n",
       "    }\n",
       "\n",
       "    .dataframe tbody tr th {\n",
       "        vertical-align: top;\n",
       "    }\n",
       "\n",
       "    .dataframe thead th {\n",
       "        text-align: right;\n",
       "    }\n",
       "</style>\n",
       "<table border=\"1\" class=\"dataframe\">\n",
       "  <thead>\n",
       "    <tr style=\"text-align: right;\">\n",
       "      <th></th>\n",
       "      <th>0</th>\n",
       "      <th>1</th>\n",
       "      <th>2</th>\n",
       "      <th>3</th>\n",
       "      <th>4</th>\n",
       "      <th>5</th>\n",
       "      <th>6</th>\n",
       "      <th>7</th>\n",
       "      <th>8</th>\n",
       "      <th>9</th>\n",
       "      <th>...</th>\n",
       "      <th>290</th>\n",
       "      <th>291</th>\n",
       "      <th>292</th>\n",
       "      <th>293</th>\n",
       "      <th>294</th>\n",
       "      <th>295</th>\n",
       "      <th>296</th>\n",
       "      <th>297</th>\n",
       "      <th>298</th>\n",
       "      <th>299</th>\n",
       "    </tr>\n",
       "    <tr>\n",
       "      <th>user_id</th>\n",
       "      <th></th>\n",
       "      <th></th>\n",
       "      <th></th>\n",
       "      <th></th>\n",
       "      <th></th>\n",
       "      <th></th>\n",
       "      <th></th>\n",
       "      <th></th>\n",
       "      <th></th>\n",
       "      <th></th>\n",
       "      <th></th>\n",
       "      <th></th>\n",
       "      <th></th>\n",
       "      <th></th>\n",
       "      <th></th>\n",
       "      <th></th>\n",
       "      <th></th>\n",
       "      <th></th>\n",
       "      <th></th>\n",
       "      <th></th>\n",
       "      <th></th>\n",
       "    </tr>\n",
       "  </thead>\n",
       "  <tbody>\n",
       "    <tr>\n",
       "      <th>11313</th>\n",
       "      <td>-2.825051</td>\n",
       "      <td>-0.367806</td>\n",
       "      <td>0.030133</td>\n",
       "      <td>-2.053737</td>\n",
       "      <td>3.554389</td>\n",
       "      <td>1.388510</td>\n",
       "      <td>-2.562073</td>\n",
       "      <td>-1.092667</td>\n",
       "      <td>-2.818263</td>\n",
       "      <td>2.857499</td>\n",
       "      <td>...</td>\n",
       "      <td>1.205560</td>\n",
       "      <td>0.040370</td>\n",
       "      <td>-0.489170</td>\n",
       "      <td>-0.565870</td>\n",
       "      <td>0.375311</td>\n",
       "      <td>0.611979</td>\n",
       "      <td>0.917979</td>\n",
       "      <td>-1.692447</td>\n",
       "      <td>-0.107961</td>\n",
       "      <td>0.027109</td>\n",
       "    </tr>\n",
       "    <tr>\n",
       "      <th>13538</th>\n",
       "      <td>0.179039</td>\n",
       "      <td>-0.434059</td>\n",
       "      <td>0.162799</td>\n",
       "      <td>-0.843279</td>\n",
       "      <td>-0.408800</td>\n",
       "      <td>-0.539446</td>\n",
       "      <td>-0.002827</td>\n",
       "      <td>-0.149006</td>\n",
       "      <td>-0.203626</td>\n",
       "      <td>-0.120278</td>\n",
       "      <td>...</td>\n",
       "      <td>0.086555</td>\n",
       "      <td>-0.021488</td>\n",
       "      <td>-0.484404</td>\n",
       "      <td>0.346705</td>\n",
       "      <td>0.084665</td>\n",
       "      <td>0.250012</td>\n",
       "      <td>0.218374</td>\n",
       "      <td>-1.116250</td>\n",
       "      <td>-0.028726</td>\n",
       "      <td>0.015211</td>\n",
       "    </tr>\n",
       "  </tbody>\n",
       "</table>\n",
       "<p>2 rows × 300 columns</p>\n",
       "</div>"
      ],
      "text/plain": [
       "              0         1         2         3         4         5         6    \\\n",
       "user_id                                                                         \n",
       "11313   -2.825051 -0.367806  0.030133 -2.053737  3.554389  1.388510 -2.562073   \n",
       "13538    0.179039 -0.434059  0.162799 -0.843279 -0.408800 -0.539446 -0.002827   \n",
       "\n",
       "              7         8         9    ...       290       291       292  \\\n",
       "user_id                                ...                                 \n",
       "11313   -1.092667 -2.818263  2.857499  ...  1.205560  0.040370 -0.489170   \n",
       "13538   -0.149006 -0.203626 -0.120278  ...  0.086555 -0.021488 -0.484404   \n",
       "\n",
       "              293       294       295       296       297       298       299  \n",
       "user_id                                                                        \n",
       "11313   -0.565870  0.375311  0.611979  0.917979 -1.692447 -0.107961  0.027109  \n",
       "13538    0.346705  0.084665  0.250012  0.218374 -1.116250 -0.028726  0.015211  \n",
       "\n",
       "[2 rows x 300 columns]"
      ]
     },
     "execution_count": 23,
     "metadata": {},
     "output_type": "execute_result"
    }
   ],
   "source": [
    "user_matrix_df.head(2)"
   ]
  },
  {
   "cell_type": "code",
   "execution_count": 26,
   "metadata": {},
   "outputs": [
    {
     "data": {
      "text/html": [
       "<div>\n",
       "<style scoped>\n",
       "    .dataframe tbody tr th:only-of-type {\n",
       "        vertical-align: middle;\n",
       "    }\n",
       "\n",
       "    .dataframe tbody tr th {\n",
       "        vertical-align: top;\n",
       "    }\n",
       "\n",
       "    .dataframe thead th {\n",
       "        text-align: right;\n",
       "    }\n",
       "</style>\n",
       "<table border=\"1\" class=\"dataframe\">\n",
       "  <thead>\n",
       "    <tr style=\"text-align: right;\">\n",
       "      <th></th>\n",
       "      <th>0</th>\n",
       "      <th>1</th>\n",
       "      <th>2</th>\n",
       "      <th>3</th>\n",
       "      <th>4</th>\n",
       "      <th>5</th>\n",
       "      <th>6</th>\n",
       "      <th>7</th>\n",
       "      <th>8</th>\n",
       "      <th>9</th>\n",
       "      <th>...</th>\n",
       "      <th>290</th>\n",
       "      <th>291</th>\n",
       "      <th>292</th>\n",
       "      <th>293</th>\n",
       "      <th>294</th>\n",
       "      <th>295</th>\n",
       "      <th>296</th>\n",
       "      <th>297</th>\n",
       "      <th>298</th>\n",
       "      <th>299</th>\n",
       "    </tr>\n",
       "  </thead>\n",
       "  <tbody>\n",
       "    <tr>\n",
       "      <th>9251369</th>\n",
       "      <td>-0.30518</td>\n",
       "      <td>-0.039914</td>\n",
       "      <td>0.000081</td>\n",
       "      <td>-0.219868</td>\n",
       "      <td>0.370485</td>\n",
       "      <td>0.148578</td>\n",
       "      <td>-0.270606</td>\n",
       "      <td>-0.111830</td>\n",
       "      <td>-0.298030</td>\n",
       "      <td>0.296399</td>\n",
       "      <td>...</td>\n",
       "      <td>0.214525</td>\n",
       "      <td>0.005896</td>\n",
       "      <td>0.017027</td>\n",
       "      <td>-0.037189</td>\n",
       "      <td>0.014235</td>\n",
       "      <td>0.017839</td>\n",
       "      <td>0.030130</td>\n",
       "      <td>-0.044657</td>\n",
       "      <td>-0.001425</td>\n",
       "      <td>0.000168</td>\n",
       "    </tr>\n",
       "    <tr>\n",
       "      <th>9730301</th>\n",
       "      <td>-0.03106</td>\n",
       "      <td>0.440268</td>\n",
       "      <td>0.364339</td>\n",
       "      <td>0.325598</td>\n",
       "      <td>-0.209704</td>\n",
       "      <td>-0.467719</td>\n",
       "      <td>-0.558553</td>\n",
       "      <td>-1.317881</td>\n",
       "      <td>-0.540366</td>\n",
       "      <td>0.495923</td>\n",
       "      <td>...</td>\n",
       "      <td>-0.542328</td>\n",
       "      <td>-0.056828</td>\n",
       "      <td>-1.397505</td>\n",
       "      <td>0.700664</td>\n",
       "      <td>0.265783</td>\n",
       "      <td>0.491832</td>\n",
       "      <td>0.789057</td>\n",
       "      <td>-1.740790</td>\n",
       "      <td>-0.220962</td>\n",
       "      <td>0.057037</td>\n",
       "    </tr>\n",
       "  </tbody>\n",
       "</table>\n",
       "<p>2 rows × 300 columns</p>\n",
       "</div>"
      ],
      "text/plain": [
       "             0         1         2         3         4         5         6    \\\n",
       "9251369 -0.30518 -0.039914  0.000081 -0.219868  0.370485  0.148578 -0.270606   \n",
       "9730301 -0.03106  0.440268  0.364339  0.325598 -0.209704 -0.467719 -0.558553   \n",
       "\n",
       "              7         8         9    ...       290       291       292  \\\n",
       "9251369 -0.111830 -0.298030  0.296399  ...  0.214525  0.005896  0.017027   \n",
       "9730301 -1.317881 -0.540366  0.495923  ... -0.542328 -0.056828 -1.397505   \n",
       "\n",
       "              293       294       295       296       297       298       299  \n",
       "9251369 -0.037189  0.014235  0.017839  0.030130 -0.044657 -0.001425  0.000168  \n",
       "9730301  0.700664  0.265783  0.491832  0.789057 -1.740790 -0.220962  0.057037  \n",
       "\n",
       "[2 rows x 300 columns]"
      ]
     },
     "execution_count": 26,
     "metadata": {},
     "output_type": "execute_result"
    }
   ],
   "source": [
    "article_matrix_df.head(2)"
   ]
  },
  {
   "cell_type": "code",
   "execution_count": 3,
   "metadata": {},
   "outputs": [],
   "source": [
    "# Convert the dataframes to numpy arrays\n",
    "user_vectors = user_matrix_df.values\n",
    "article_vectors = article_matrix_df.values\n",
    "interaction_matrix = interaction_matrix_df.values"
   ]
  },
  {
   "cell_type": "code",
   "execution_count": 20,
   "metadata": {},
   "outputs": [
    {
     "data": {
      "text/plain": [
       "array([[299., 323.,   7., ...,   0.,   0.,   0.],\n",
       "       [  0.,   3.,  14., ...,   0.,   0.,   0.],\n",
       "       [  0.,   0.,   0., ...,   0.,   0.,   0.],\n",
       "       ...,\n",
       "       [  0.,   0.,   0., ...,  80.,   0., 202.],\n",
       "       [  0.,   0.,   0., ...,   0.,   0.,   0.],\n",
       "       [  0.,   0.,   0., ...,   0.,   0.,   0.]], dtype=float32)"
      ]
     },
     "execution_count": 20,
     "metadata": {},
     "output_type": "execute_result"
    }
   ],
   "source": [
    "interaction_matrix"
   ]
  },
  {
   "cell_type": "code",
   "execution_count": 21,
   "metadata": {},
   "outputs": [
    {
     "data": {
      "text/plain": [
       "array([[-2.1178677 , -0.27138555,  0.02235232, ...,  0.06705233,\n",
       "         0.00690998, -0.02915382],\n",
       "       [ 0.14442271, -0.32121077,  0.12210255, ...,  0.26654083,\n",
       "         0.02558004, -0.03103652],\n",
       "       [-0.07078145,  0.00949412, -0.06409635, ...,  0.6344097 ,\n",
       "         0.03215543, -0.03284584],\n",
       "       ...,\n",
       "       [-1.0710751 , -1.2240779 , -1.1862124 , ..., -1.2484508 ,\n",
       "         0.01716145, -0.03013842],\n",
       "       [ 0.00340351,  1.3302095 , -0.49117735, ...,  0.07649194,\n",
       "         0.02649878, -0.03268577],\n",
       "       [ 0.07754252, -0.16524129,  0.15225354, ...,  0.4926087 ,\n",
       "         0.03145659, -0.03304515]], dtype=float32)"
      ]
     },
     "execution_count": 21,
     "metadata": {},
     "output_type": "execute_result"
    }
   ],
   "source": [
    "user_vectors"
   ]
  },
  {
   "cell_type": "code",
   "execution_count": 27,
   "metadata": {},
   "outputs": [
    {
     "data": {
      "text/plain": [
       "array([[-2.2022754e-01, -2.4799278e-02, -2.4364472e-04, ...,\n",
       "         6.3754356e-01,  3.2012891e-02, -3.3416893e-02],\n",
       "       [-1.3796339e-02,  3.3631572e-01,  2.7363923e-01, ...,\n",
       "         5.0315276e-02, -1.9716121e-02, -2.4418302e-02],\n",
       "       [ 1.2082847e+00, -1.6344656e+00,  1.2208464e+00, ...,\n",
       "         1.6711214e-01,  2.8328052e-02, -2.7332233e-02],\n",
       "       ...,\n",
       "       [-2.1239035e-02, -2.9761944e-02, -3.4037966e-02, ...,\n",
       "         6.4496493e-01,  3.2306235e-02, -3.3439241e-02],\n",
       "       [ 9.5940428e-03,  5.2178106e-03, -3.0481422e-04, ...,\n",
       "         6.5300441e-01,  3.2348640e-02, -3.3443421e-02],\n",
       "       [-6.8259455e-02, -8.3106123e-02, -8.5481010e-02, ...,\n",
       "         6.3270473e-01,  3.2241564e-02, -3.3432860e-02]], dtype=float32)"
      ]
     },
     "execution_count": 27,
     "metadata": {},
     "output_type": "execute_result"
    }
   ],
   "source": [
    "article_vectors"
   ]
  },
  {
   "cell_type": "code",
   "execution_count": 11,
   "metadata": {},
   "outputs": [],
   "source": [
    "# Normalize the embeddings (optional, depending on your use case)\n",
    "scaler = StandardScaler()\n",
    "user_vectors = scaler.fit_transform(user_vectors)\n",
    "article_vectors = scaler.transform(article_vectors)"
   ]
  },
  {
   "cell_type": "code",
   "execution_count": 12,
   "metadata": {},
   "outputs": [],
   "source": [
    "# Normalize the original interaction matrix\n",
    "interaction_matrix_normalized = MinMaxScaler().fit_transform(interaction_matrix)\n"
   ]
  },
  {
   "cell_type": "code",
   "execution_count": 13,
   "metadata": {},
   "outputs": [],
   "source": [
    "# Get the indices of the non-zero entries in the interaction matrix\n",
    "user_idx, article_idx = np.where(interaction_matrix_normalized != 0)\n",
    "read_times = interaction_matrix_normalized[user_idx, article_idx]"
   ]
  },
  {
   "cell_type": "code",
   "execution_count": 29,
   "metadata": {},
   "outputs": [
    {
     "name": "stdout",
     "output_type": "stream",
     "text": [
      "(212069,)\n"
     ]
    },
    {
     "data": {
      "text/plain": [
       "array([1.0000000e+00, 4.1839376e-01, 4.8712594e-03, ..., 4.4809561e-03,\n",
       "       3.8922157e-02, 6.6666666e-04], dtype=float32)"
      ]
     },
     "execution_count": 29,
     "metadata": {},
     "output_type": "execute_result"
    }
   ],
   "source": [
    "print(read_times.shape)\n",
    "read_times"
   ]
  },
  {
   "cell_type": "code",
   "execution_count": 30,
   "metadata": {},
   "outputs": [],
   "source": [
    "# Create the input features by concatenating user and article vectors\n",
    "X = np.hstack((user_vectors[user_idx], article_vectors[article_idx]))\n",
    "y = read_times\n"
   ]
  },
  {
   "cell_type": "code",
   "execution_count": 32,
   "metadata": {},
   "outputs": [
    {
     "data": {
      "text/plain": [
       "array([[-2.1178677 , -0.27138555,  0.02235232, ...,  0.63754356,\n",
       "         0.03201289, -0.03341689],\n",
       "       [-2.1178677 , -0.27138555,  0.02235232, ...,  0.05031528,\n",
       "        -0.01971612, -0.0244183 ],\n",
       "       [-2.1178677 , -0.27138555,  0.02235232, ...,  0.16711214,\n",
       "         0.02832805, -0.02733223],\n",
       "       ...,\n",
       "       [ 0.07754252, -0.16524129,  0.15225354, ..., -0.72982407,\n",
       "         0.02148201, -0.02953955],\n",
       "       [ 0.07754252, -0.16524129,  0.15225354, ...,  0.38707936,\n",
       "         0.03066952, -0.01034811],\n",
       "       [ 0.07754252, -0.16524129,  0.15225354, ...,  0.1557221 ,\n",
       "         0.02943029, -0.03098933]], dtype=float32)"
      ]
     },
     "execution_count": 32,
     "metadata": {},
     "output_type": "execute_result"
    }
   ],
   "source": [
    "X"
   ]
  },
  {
   "cell_type": "code",
   "execution_count": 31,
   "metadata": {},
   "outputs": [
    {
     "name": "stdout",
     "output_type": "stream",
     "text": [
      "(212069, 600)\n",
      "(212069,)\n"
     ]
    }
   ],
   "source": [
    "print(X.shape)\n",
    "print(y.shape)"
   ]
  },
  {
   "cell_type": "code",
   "execution_count": 10,
   "metadata": {},
   "outputs": [
    {
     "data": {
      "text/plain": [
       "(212069, 600)"
      ]
     },
     "execution_count": 10,
     "metadata": {},
     "output_type": "execute_result"
    }
   ],
   "source": [
    "X.shape"
   ]
  },
  {
   "cell_type": "code",
   "execution_count": 33,
   "metadata": {},
   "outputs": [],
   "source": [
    "# Use only the first 100 rows for testing\n",
    "X = X[:100]\n",
    "y = y[:100]"
   ]
  },
  {
   "cell_type": "code",
   "execution_count": 34,
   "metadata": {},
   "outputs": [
    {
     "name": "stdout",
     "output_type": "stream",
     "text": [
      "(100, 600)\n",
      "(100,)\n"
     ]
    }
   ],
   "source": [
    "print(X.shape)\n",
    "print(y.shape)"
   ]
  },
  {
   "cell_type": "code",
   "execution_count": 35,
   "metadata": {},
   "outputs": [
    {
     "name": "stdout",
     "output_type": "stream",
     "text": [
      "(80, 600)\n",
      "(20, 600)\n",
      "(80,)\n",
      "(20,)\n"
     ]
    }
   ],
   "source": [
    "# Split the data into train and test sets\n",
    "X_train, X_test, y_train, y_test = train_test_split(X, y, test_size=0.2, random_state=42)\n",
    "\n",
    "print(X_train.shape)\n",
    "print(X_test.shape)\n",
    "print(y_train.shape)\n",
    "print(y_test.shape)"
   ]
  },
  {
   "cell_type": "code",
   "execution_count": 36,
   "metadata": {},
   "outputs": [],
   "source": [
    "# Define the model\n",
    "model = Sequential([\n",
    "    tf.keras.Input(shape=(600,)),\n",
    "    Dense(256, activation='relu'),\n",
    "    Dense(128, activation='relu'),\n",
    "    Dense(32, activation='relu'),\n",
    "    Dense(1, activation = 'linear')\n",
    "])\n",
    "\n",
    "# Compile the model\n",
    "model.compile(optimizer='adam', loss='mse', metrics=['mse'])\n"
   ]
  },
  {
   "cell_type": "code",
   "execution_count": 37,
   "metadata": {},
   "outputs": [
    {
     "data": {
      "application/vnd.jupyter.widget-view+json": {
       "model_id": "13f184464b8a4624951fce05955ed2a8",
       "version_major": 2,
       "version_minor": 0
      },
      "text/plain": [
       "0epoch [00:00, ?epoch/s]"
      ]
     },
     "metadata": {},
     "output_type": "display_data"
    },
    {
     "data": {
      "application/vnd.jupyter.widget-view+json": {
       "model_id": "f216931616bb46469c76a7c3460efba2",
       "version_major": 2,
       "version_minor": 0
      },
      "text/plain": [
       "0batch [00:00, ?batch/s]"
      ]
     },
     "metadata": {},
     "output_type": "display_data"
    },
    {
     "name": "stdout",
     "output_type": "stream",
     "text": [
      "Epoch 1/2\n"
     ]
    }
   ],
   "source": [
    "\n",
    "# Prepare TensorBoard callback\n",
    "log_dir = \"files/logs/fit/\" + datetime.datetime.now().strftime(\"%Y%m%d-%H%M%S\")\n",
    "tensorboard_callback = TensorBoard(log_dir=log_dir, histogram_freq=1)\n",
    "\n",
    "# Train the model\n",
    "num_epochs = 2\n",
    "history = model.fit(X_train, y_train, epochs=num_epochs, batch_size=16,\n",
    "                    validation_data=(X_test, y_test),\n",
    "                    callbacks=[tensorboard_callback, TqdmCallback(verbose=1)],\n",
    "                    verbose=2)"
   ]
  },
  {
   "cell_type": "code",
   "execution_count": null,
   "metadata": {},
   "outputs": [],
   "source": []
  },
  {
   "cell_type": "code",
   "execution_count": null,
   "metadata": {},
   "outputs": [],
   "source": [
    "# Save the trained model\n",
    "model.save('recommendation_model.h5')\n"
   ]
  },
  {
   "cell_type": "code",
   "execution_count": null,
   "metadata": {},
   "outputs": [],
   "source": [
    "# Evaluate the model\n",
    "train_loss, train_mse = model.evaluate(X_train, y_train, verbose=1)\n",
    "test_loss, test_mse = model.evaluate(X_test, y_test, verbose=1)"
   ]
  },
  {
   "cell_type": "code",
   "execution_count": null,
   "metadata": {},
   "outputs": [],
   "source": []
  },
  {
   "cell_type": "code",
   "execution_count": null,
   "metadata": {},
   "outputs": [],
   "source": []
  }
 ],
 "metadata": {
  "kernelspec": {
   "display_name": "venv",
   "language": "python",
   "name": "python3"
  },
  "language_info": {
   "codemirror_mode": {
    "name": "ipython",
    "version": 3
   },
   "file_extension": ".py",
   "mimetype": "text/x-python",
   "name": "python",
   "nbconvert_exporter": "python",
   "pygments_lexer": "ipython3",
   "version": "3.9.6"
  }
 },
 "nbformat": 4,
 "nbformat_minor": 2
}
