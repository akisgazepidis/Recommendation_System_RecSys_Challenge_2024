{
 "cells": [
  {
   "cell_type": "code",
   "execution_count": 2,
   "metadata": {},
   "outputs": [],
   "source": [
    "# Import the necessary libraries\n",
    "\n",
    "import numpy as np\n",
    "import pandas as pd\n",
    "\n",
    "from sklearn.metrics import ndcg_score, roc_auc_score, roc_curve, auc\n",
    "import matplotlib.pyplot as plt"
   ]
  },
  {
   "cell_type": "code",
   "execution_count": 3,
   "metadata": {},
   "outputs": [
    {
     "name": "stdout",
     "output_type": "stream",
     "text": [
      "Interaction matrix df shape:                       (1562, 1144)\n",
      "User embedding df shape:                          (1562, 300)\n",
      "Article embedding df shape:                       (1144, 300)\n"
     ]
    }
   ],
   "source": [
    "# Read interaction matrix pickle file\n",
    "size = 'demo'\n",
    "type_ = 'validation'\n",
    "fillna_value = '0'\n",
    "interaction_matrix_file_path = f'./files/pickle/interaction_matrix_{type_}_{size}_{fillna_value}.pkl'\n",
    "interaction_matrix_df = pd.read_pickle(interaction_matrix_file_path)\n",
    "print('Interaction matrix df shape:                      ',interaction_matrix_df.shape)\n",
    "\n",
    "user_matrix_df_file_path = f'./files/pickle/user_matrix_{type_}_{size}_{fillna_value}.pkl'\n",
    "article_matrix_df_file_path = f'./files/pickle/article_matrix_{type_}_{size}_{fillna_value}.pkl'\n",
    "\n",
    "user_matrix_df = pd.read_pickle(user_matrix_df_file_path)\n",
    "article_matrix_df = pd.read_pickle(article_matrix_df_file_path)\n",
    "print('User embedding df shape:                         ',user_matrix_df.shape)\n",
    "print('Article embedding df shape:                      ',article_matrix_df.shape)"
   ]
  },
  {
   "cell_type": "code",
   "execution_count": null,
   "metadata": {},
   "outputs": [],
   "source": [
    "# Recommendation System\n",
    "def recommend_articles(user_id, U, Vt, user_item_matrix, article_features):\n",
    "    # Check if the user has enough interactions\n",
    "    if np.sum(user_item_matrix[user_id, :]) > 0:\n",
    "        # User has interactions, use collaborative filtering\n",
    "        user_vector = U[user_id, :].reshape(1, -1)\n",
    "        predicted_ratings = np.dot(user_vector, Vt).flatten()\n",
    "    else:\n",
    "        # User has no interactions, use content-based or popularity-based recommendation\n",
    "        # Example: Recommend most popular articles\n",
    "        popularity_scores = np.mean(user_item_matrix, axis=0)  # Average reading times across all users\n",
    "        predicted_ratings = popularity_scores\n",
    "    \n",
    "    # Sort predicted ratings in descending order and get corresponding article indices\n",
    "    sorted_article_indices = np.argsort(-predicted_ratings)\n",
    "    \n",
    "    # Filter out articles that the user has already interacted with\n",
    "    user_interactions = user_item_matrix[user_id, :]\n",
    "    articles_not_interacted = np.where(user_interactions == 0)[0]\n",
    "    \n",
    "    # Recommend top articles that the user has not interacted with\n",
    "    recommended_articles = []\n",
    "    for article_idx in sorted_article_indices:\n",
    "        if article_idx in articles_not_interacted:\n",
    "            recommended_articles.append(article_idx)\n",
    "        if len(recommended_articles) >= 5:  # Recommend top 5 articles\n",
    "            break\n",
    "    \n",
    "    return recommended_articles\n",
    "\n",
    "# Example usage:\n",
    "user_id = 0  # Replace with the user ID you want to recommend for\n",
    "recommended_articles = recommend_articles(user_id, U, Vt, user_item_matrix, article_features)\n",
    "print(f\"Recommended articles for user {user_id}: {recommended_articles}\")\n"
   ]
  }
 ],
 "metadata": {
  "kernelspec": {
   "display_name": "base",
   "language": "python",
   "name": "python3"
  },
  "language_info": {
   "codemirror_mode": {
    "name": "ipython",
    "version": 3
   },
   "file_extension": ".py",
   "mimetype": "text/x-python",
   "name": "python",
   "nbconvert_exporter": "python",
   "pygments_lexer": "ipython3",
   "version": "3.9.13"
  }
 },
 "nbformat": 4,
 "nbformat_minor": 2
}
