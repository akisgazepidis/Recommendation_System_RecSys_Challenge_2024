{
 "cells": [
  {
   "cell_type": "code",
   "execution_count": 26,
   "metadata": {},
   "outputs": [],
   "source": [
    "import datetime\n",
    "import numpy as np\n",
    "import tensorflow as tf\n",
    "from tensorflow.keras.models import Sequential\n",
    "from tensorflow.keras.layers import Dense\n",
    "from tensorflow.keras.callbacks import TensorBoard\n",
    "from tqdm.keras import TqdmCallback\n",
    "from sklearn.model_selection import train_test_split\n",
    "import os\n",
    "# Suppress TensorFlow warnings if needed\n",
    "os.environ['TF_CPP_MIN_LOG_LEVEL'] = '2'  # Suppress INFO and WARNING messages\n",
    "import warnings\n",
    "warnings.filterwarnings(\"ignore\", message=\"NotOpenSSLWarning\")\n"
   ]
  },
  {
   "cell_type": "code",
   "execution_count": 27,
   "metadata": {},
   "outputs": [
    {
     "name": "stdout",
     "output_type": "stream",
     "text": [
      "X_train shape: (80, 600)\n",
      "X_test shape: (20, 600)\n",
      "y_train shape: (80,)\n",
      "y_test shape: (20,)\n"
     ]
    }
   ],
   "source": [
    "# Dummy data for testing with values between -1 and 1\n",
    "X = np.random.uniform(low=-1, high=1, size=(100, 600))  \n",
    "y = np.random.uniform(low=-1, high=1, size=(100,))\n",
    "\n",
    "# Split the data into train and test sets with test size of 20%\n",
    "X_train, X_test, y_train, y_test = train_test_split(X, y, test_size=0.2, random_state=42)\n",
    "\n",
    "print(\"X_train shape:\", X_train.shape)\n",
    "print(\"X_test shape:\", X_test.shape)\n",
    "print(\"y_train shape:\", y_train.shape)\n",
    "print(\"y_test shape:\", y_test.shape)"
   ]
  },
  {
   "cell_type": "code",
   "execution_count": 19,
   "metadata": {},
   "outputs": [],
   "source": [
    "# y_train = y_train.reshape(-1, 1)\n",
    "# y_test = y_test.reshape(-1, 1)"
   ]
  },
  {
   "cell_type": "code",
   "execution_count": 28,
   "metadata": {},
   "outputs": [],
   "source": [
    "# Define the model\n",
    "model = Sequential([\n",
    "    tf.keras.Input(shape=(600,)),\n",
    "    Dense(64, activation='relu'),\n",
    "    Dense(32, activation='relu'),\n",
    "    Dense(1)\n",
    "])\n"
   ]
  },
  {
   "cell_type": "code",
   "execution_count": 29,
   "metadata": {},
   "outputs": [
    {
     "data": {
      "application/vnd.jupyter.widget-view+json": {
       "model_id": "a2769ab2f9214769b66b08f705cb67a3",
       "version_major": 2,
       "version_minor": 0
      },
      "text/plain": [
       "0epoch [00:00, ?epoch/s]"
      ]
     },
     "metadata": {},
     "output_type": "display_data"
    },
    {
     "data": {
      "application/vnd.jupyter.widget-view+json": {
       "model_id": "52cf57c13e7e4fbb80bc1f97823e33c1",
       "version_major": 2,
       "version_minor": 0
      },
      "text/plain": [
       "0batch [00:00, ?batch/s]"
      ]
     },
     "metadata": {},
     "output_type": "display_data"
    },
    {
     "name": "stdout",
     "output_type": "stream",
     "text": [
      "Epoch 1/10\n",
      "5/5 - 0s - 85ms/step - loss: 0.4524 - mse: 0.4524 - val_loss: 0.6491 - val_mse: 0.6491\n",
      "Epoch 2/10\n",
      "5/5 - 0s - 16ms/step - loss: 0.1200 - mse: 0.1200 - val_loss: 0.6194 - val_mse: 0.6194\n",
      "Epoch 3/10\n",
      "5/5 - 0s - 8ms/step - loss: 0.0536 - mse: 0.0536 - val_loss: 0.5998 - val_mse: 0.5998\n",
      "Epoch 4/10\n",
      "5/5 - 0s - 8ms/step - loss: 0.0359 - mse: 0.0359 - val_loss: 0.5877 - val_mse: 0.5877\n",
      "Epoch 5/10\n",
      "5/5 - 0s - 8ms/step - loss: 0.0172 - mse: 0.0172 - val_loss: 0.5774 - val_mse: 0.5774\n",
      "Epoch 6/10\n",
      "5/5 - 0s - 8ms/step - loss: 0.0071 - mse: 0.0071 - val_loss: 0.5728 - val_mse: 0.5728\n",
      "Epoch 7/10\n",
      "5/5 - 0s - 8ms/step - loss: 0.0057 - mse: 0.0057 - val_loss: 0.5696 - val_mse: 0.5696\n",
      "Epoch 8/10\n",
      "5/5 - 0s - 8ms/step - loss: 0.0046 - mse: 0.0046 - val_loss: 0.5643 - val_mse: 0.5643\n",
      "Epoch 9/10\n",
      "5/5 - 0s - 8ms/step - loss: 0.0028 - mse: 0.0028 - val_loss: 0.5609 - val_mse: 0.5609\n",
      "Epoch 10/10\n",
      "5/5 - 0s - 8ms/step - loss: 0.0016 - mse: 0.0016 - val_loss: 0.5604 - val_mse: 0.5604\n"
     ]
    }
   ],
   "source": [
    "# Compile the model\n",
    "model.compile(optimizer='adam', loss='mse', metrics=['mse'])\n",
    "\n",
    "# Prepare TensorBoard callback\n",
    "log_dir = \"files/logs/fit/\" + datetime.datetime.now().strftime(\"%Y%m%d-%H%M%S\")\n",
    "tensorboard_callback = TensorBoard(log_dir=log_dir, histogram_freq=1)\n",
    "\n",
    "# Train the model\n",
    "num_epochs = 10\n",
    "history = model.fit(X_train, y_train, epochs=num_epochs, batch_size=16,\n",
    "                    validation_data=(X_test, y_test),\n",
    "                    callbacks=[tensorboard_callback, TqdmCallback(verbose=1)],\n",
    "                    verbose=2)\n"
   ]
  },
  {
   "cell_type": "code",
   "execution_count": null,
   "metadata": {},
   "outputs": [],
   "source": []
  }
 ],
 "metadata": {
  "kernelspec": {
   "display_name": "venv",
   "language": "python",
   "name": "python3"
  },
  "language_info": {
   "codemirror_mode": {
    "name": "ipython",
    "version": 3
   },
   "file_extension": ".py",
   "mimetype": "text/x-python",
   "name": "python",
   "nbconvert_exporter": "python",
   "pygments_lexer": "ipython3",
   "version": "3.9.6"
  }
 },
 "nbformat": 4,
 "nbformat_minor": 2
}
