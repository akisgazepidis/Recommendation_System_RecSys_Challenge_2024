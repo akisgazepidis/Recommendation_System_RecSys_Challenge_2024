{
 "cells": [
  {
   "cell_type": "code",
   "execution_count": 11,
   "metadata": {},
   "outputs": [],
   "source": [
    "import pandas as pd\n",
    "import numpy as np\n",
    "from sklearn.preprocessing import StandardScaler, MinMaxScaler\n"
   ]
  },
  {
   "cell_type": "code",
   "execution_count": 22,
   "metadata": {},
   "outputs": [
    {
     "name": "stdout",
     "output_type": "stream",
     "text": [
      "Interaction matrix df shape:                       (1562, 4074)\n",
      "User embedding df shape:                          (1562, 300)\n",
      "Article embedding df shape:                       (4074, 300)\n"
     ]
    }
   ],
   "source": [
    "# Read interaction matrix pickle file\n",
    "size = 'demo'\n",
    "type_ = 'validation'\n",
    "fillna_value = '0'\n",
    "interaction_matrix_file_path = f'./files/pickle/interaction_matrix_{type_}_{size}_{fillna_value}.pkl'\n",
    "interaction_matrix_df = pd.read_pickle(interaction_matrix_file_path)\n",
    "print('Interaction matrix df shape:                      ',interaction_matrix_df.shape)\n",
    "\n",
    "user_matrix_df_file_path = f'./files/pickle/user_matrix_{type_}_{size}_{fillna_value}.pkl'\n",
    "article_matrix_df_file_path = f'./files/pickle/article_matrix_{type_}_{size}_{fillna_value}.pkl'\n",
    "\n",
    "user_matrix_df = pd.read_pickle(user_matrix_df_file_path)\n",
    "article_matrix_df = pd.read_pickle(article_matrix_df_file_path)\n",
    "print('User embedding df shape:                         ',user_matrix_df.shape)\n",
    "print('Article embedding df shape:                      ',article_matrix_df.shape)"
   ]
  },
  {
   "cell_type": "code",
   "execution_count": 23,
   "metadata": {},
   "outputs": [],
   "source": [
    "# Convert the dataframes to numpy arrays\n",
    "user_vectors = user_matrix_df.values\n",
    "article_vectors = article_matrix_df.values\n",
    "interaction_matrix = interaction_matrix_df.values"
   ]
  },
  {
   "cell_type": "code",
   "execution_count": 24,
   "metadata": {},
   "outputs": [],
   "source": [
    "# Normalize the embeddings (optional, depending on your use case)\n",
    "scaler = StandardScaler()\n",
    "user_vectors = scaler.fit_transform(user_vectors)\n",
    "article_vectors = scaler.transform(article_vectors)"
   ]
  },
  {
   "cell_type": "code",
   "execution_count": 25,
   "metadata": {},
   "outputs": [],
   "source": [
    "# Normalize the original interaction matrix\n",
    "interaction_matrix_normalized = MinMaxScaler().fit_transform(interaction_matrix)\n"
   ]
  },
  {
   "cell_type": "code",
   "execution_count": 26,
   "metadata": {},
   "outputs": [],
   "source": [
    "# Get the indices of the non-zero entries in the interaction matrix\n",
    "user_idx, article_idx = np.where(interaction_matrix_normalized != 0)\n",
    "read_times = interaction_matrix_normalized[user_idx, article_idx]"
   ]
  },
  {
   "cell_type": "code",
   "execution_count": 27,
   "metadata": {},
   "outputs": [],
   "source": [
    "\n",
    "# Save to \n",
    "# Create the input features by concatenating user and article vectors\n",
    "X = np.hstack((user_vectors[user_idx], article_vectors[article_idx]))\n",
    "y = read_times\n"
   ]
  },
  {
   "cell_type": "code",
   "execution_count": 28,
   "metadata": {},
   "outputs": [
    {
     "data": {
      "text/plain": [
       "array([0.01532567, 0.00837629, 0.03861625, ..., 0.04746209, 0.00391134,\n",
       "       0.0862069 ], dtype=float32)"
      ]
     },
     "execution_count": 28,
     "metadata": {},
     "output_type": "execute_result"
    }
   ],
   "source": [
    "y"
   ]
  },
  {
   "cell_type": "code",
   "execution_count": 29,
   "metadata": {},
   "outputs": [
    {
     "data": {
      "text/plain": [
       "array([[ 0.06792422,  0.4406689 , -0.13783272, ..., -0.38576984,\n",
       "        -0.43765825, -0.02549115],\n",
       "       [ 0.06792422,  0.4406689 , -0.13783272, ...,  0.03963336,\n",
       "         0.48317254, -0.03066091],\n",
       "       [ 0.06792422,  0.4406689 , -0.13783272, ...,  0.10853262,\n",
       "         0.61233854, -0.03115961],\n",
       "       ...,\n",
       "       [ 0.07120946, -0.07871223, -0.0460769 , ..., -0.28479627,\n",
       "        -0.19969712, -0.02624444],\n",
       "       [ 0.07120946, -0.07871223, -0.0460769 , ...,  0.06475195,\n",
       "         0.48334578, -0.024862  ],\n",
       "       [ 0.07120946, -0.07871223, -0.0460769 , ...,  0.11443526,\n",
       "         0.5861804 , -0.03105986]], dtype=float32)"
      ]
     },
     "execution_count": 29,
     "metadata": {},
     "output_type": "execute_result"
    }
   ],
   "source": [
    "X"
   ]
  },
  {
   "cell_type": "code",
   "execution_count": 30,
   "metadata": {},
   "outputs": [],
   "source": [
    "# Save file\n",
    "numpy_file_path = f'./files/numpy/X_{type_}_{size}'\n",
    "\n",
    "np.save(numpy_file_path,X)"
   ]
  },
  {
   "cell_type": "code",
   "execution_count": 31,
   "metadata": {},
   "outputs": [],
   "source": [
    "# Save file\n",
    "numpy_file_path = f'./files/numpy/y_{type_}_{size}'\n",
    "\n",
    "np.save(numpy_file_path,y)"
   ]
  },
  {
   "cell_type": "code",
   "execution_count": null,
   "metadata": {},
   "outputs": [],
   "source": []
  }
 ],
 "metadata": {
  "kernelspec": {
   "display_name": "base",
   "language": "python",
   "name": "python3"
  },
  "language_info": {
   "codemirror_mode": {
    "name": "ipython",
    "version": 3
   },
   "file_extension": ".py",
   "mimetype": "text/x-python",
   "name": "python",
   "nbconvert_exporter": "python",
   "pygments_lexer": "ipython3",
   "version": "3.9.13"
  }
 },
 "nbformat": 4,
 "nbformat_minor": 2
}
