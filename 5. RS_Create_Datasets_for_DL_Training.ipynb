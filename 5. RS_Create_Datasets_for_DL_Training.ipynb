{
 "cells": [
  {
   "cell_type": "code",
   "execution_count": 8,
   "metadata": {},
   "outputs": [],
   "source": [
    "import pandas as pd\n",
    "import numpy as np\n",
    "from sklearn.preprocessing import StandardScaler, MinMaxScaler\n"
   ]
  },
  {
   "cell_type": "code",
   "execution_count": 23,
   "metadata": {},
   "outputs": [
    {
     "name": "stdout",
     "output_type": "stream",
     "text": [
      "Interaction matrix df shape:                       (1590, 1114)\n",
      "User embedding df shape:                          (1590, 300)\n",
      "Article embedding df shape:                       (1114, 300)\n"
     ]
    }
   ],
   "source": [
    "# Read interaction matrix pickle file\n",
    "size = 'demo'\n",
    "type_ = 'train'\n",
    "fillna_value = '0'\n",
    "interaction_matrix_file_path = f'./files/pickle/interaction_matrix_{type_}_{size}_{fillna_value}.pkl'\n",
    "interaction_matrix_df = pd.read_pickle(interaction_matrix_file_path)\n",
    "print('Interaction matrix df shape:                      ',interaction_matrix_df.shape)\n",
    "\n",
    "user_matrix_df_file_path = f'./files/pickle/user_matrix_{type_}_{size}_{fillna_value}.pkl'\n",
    "article_matrix_df_file_path = f'./files/pickle/article_matrix_{type_}_{size}_{fillna_value}.pkl'\n",
    "\n",
    "user_matrix_df = pd.read_pickle(user_matrix_df_file_path)\n",
    "article_matrix_df = pd.read_pickle(article_matrix_df_file_path)\n",
    "print('User embedding df shape:                         ',user_matrix_df.shape)\n",
    "print('Article embedding df shape:                      ',article_matrix_df.shape)"
   ]
  },
  {
   "cell_type": "code",
   "execution_count": 24,
   "metadata": {},
   "outputs": [],
   "source": [
    "# Convert the dataframes to numpy arrays\n",
    "user_vectors = user_matrix_df.values\n",
    "article_vectors = article_matrix_df.values\n",
    "interaction_matrix = interaction_matrix_df.values"
   ]
  },
  {
   "cell_type": "code",
   "execution_count": 25,
   "metadata": {},
   "outputs": [],
   "source": [
    "# Normalize the embeddings (optional, depending on your use case)\n",
    "# scaler = StandardScaler()\n",
    "# user_vectors = scaler.fit_transform(user_vectors)\n",
    "# article_vectors = scaler.transform(article_vectors)"
   ]
  },
  {
   "cell_type": "code",
   "execution_count": 26,
   "metadata": {},
   "outputs": [],
   "source": [
    "# # Normalize the original interaction matrix\n",
    "# interaction_matrix_normalized = MinMaxScaler().fit_transform(interaction_matrix)\n"
   ]
  },
  {
   "cell_type": "code",
   "execution_count": 27,
   "metadata": {},
   "outputs": [],
   "source": [
    "# Get the indices of the non-zero entries in the interaction matrix\n",
    "user_idx, article_idx = np.where(np.logical_and(interaction_matrix != 0, interaction_matrix <= 60))\n",
    "read_times = interaction_matrix[user_idx, article_idx]  # intraction_matrix ->interaction_matrix_normalized"
   ]
  },
  {
   "cell_type": "code",
   "execution_count": 28,
   "metadata": {},
   "outputs": [],
   "source": [
    "# Save to \n",
    "# Create the input features by concatenating user and article vectors\n",
    "X = np.hstack((user_vectors[user_idx], article_vectors[article_idx]))\n",
    "y = read_times\n"
   ]
  },
  {
   "cell_type": "code",
   "execution_count": 29,
   "metadata": {},
   "outputs": [
    {
     "data": {
      "text/plain": [
       "array([13., 12.,  4., ..., 41.,  6., 58.])"
      ]
     },
     "execution_count": 29,
     "metadata": {},
     "output_type": "execute_result"
    }
   ],
   "source": [
    "y"
   ]
  },
  {
   "cell_type": "code",
   "execution_count": 33,
   "metadata": {},
   "outputs": [
    {
     "data": {
      "text/plain": [
       "(19818, 600)"
      ]
     },
     "execution_count": 33,
     "metadata": {},
     "output_type": "execute_result"
    }
   ],
   "source": [
    "X.shape"
   ]
  },
  {
   "cell_type": "code",
   "execution_count": 31,
   "metadata": {},
   "outputs": [],
   "source": [
    "# Save file\n",
    "numpy_file_path = f'./files/numpy/X_{type_}_{size}'\n",
    "\n",
    "np.save(numpy_file_path,X)"
   ]
  },
  {
   "cell_type": "code",
   "execution_count": 32,
   "metadata": {},
   "outputs": [],
   "source": [
    "# Save file\n",
    "numpy_file_path = f'./files/numpy/y_{type_}_{size}'\n",
    "\n",
    "np.save(numpy_file_path,y)"
   ]
  }
 ],
 "metadata": {
  "kernelspec": {
   "display_name": "base",
   "language": "python",
   "name": "python3"
  },
  "language_info": {
   "codemirror_mode": {
    "name": "ipython",
    "version": 3
   },
   "file_extension": ".py",
   "mimetype": "text/x-python",
   "name": "python",
   "nbconvert_exporter": "python",
   "pygments_lexer": "ipython3",
   "version": "3.9.13"
  }
 },
 "nbformat": 4,
 "nbformat_minor": 2
}
