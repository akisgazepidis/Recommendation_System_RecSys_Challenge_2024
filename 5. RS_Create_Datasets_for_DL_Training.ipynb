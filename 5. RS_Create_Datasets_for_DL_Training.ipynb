{
 "cells": [
  {
   "cell_type": "code",
   "execution_count": 1,
   "metadata": {},
   "outputs": [],
   "source": [
    "import pandas as pd\n",
    "import numpy as np\n",
    "from sklearn.preprocessing import StandardScaler, MinMaxScaler\n"
   ]
  },
  {
   "cell_type": "code",
   "execution_count": 12,
   "metadata": {},
   "outputs": [
    {
     "name": "stdout",
     "output_type": "stream",
     "text": [
      "Interaction matrix df shape:                       (1562, 4074)\n",
      "User embedding df shape:                          (1562, 300)\n",
      "Article embedding df shape:                       (4074, 300)\n"
     ]
    }
   ],
   "source": [
    "# Read interaction matrix pickle file\n",
    "size = 'demo'\n",
    "type_ = 'validation'\n",
    "fillna_value = '0'\n",
    "interaction_matrix_file_path = f'./files/pickle/interaction_matrix_{type_}_{size}_{fillna_value}.pkl'\n",
    "interaction_matrix_df = pd.read_pickle(interaction_matrix_file_path)\n",
    "print('Interaction matrix df shape:                      ',interaction_matrix_df.shape)\n",
    "\n",
    "user_matrix_df_file_path = f'./files/pickle/user_matrix_{type_}_{size}_{fillna_value}.pkl'\n",
    "article_matrix_df_file_path = f'./files/pickle/article_matrix_{type_}_{size}_{fillna_value}.pkl'\n",
    "\n",
    "user_matrix_df = pd.read_pickle(user_matrix_df_file_path)\n",
    "article_matrix_df = pd.read_pickle(article_matrix_df_file_path)\n",
    "print('User embedding df shape:                         ',user_matrix_df.shape)\n",
    "print('Article embedding df shape:                      ',article_matrix_df.shape)"
   ]
  },
  {
   "cell_type": "code",
   "execution_count": 13,
   "metadata": {},
   "outputs": [],
   "source": [
    "# Convert the dataframes to numpy arrays\n",
    "user_vectors = user_matrix_df.values\n",
    "article_vectors = article_matrix_df.values\n",
    "interaction_matrix = interaction_matrix_df.values"
   ]
  },
  {
   "cell_type": "code",
   "execution_count": 14,
   "metadata": {},
   "outputs": [],
   "source": [
    "# Normalize the embeddings (optional, depending on your use case)\n",
    "# scaler = StandardScaler()\n",
    "# user_vectors = scaler.fit_transform(user_vectors)\n",
    "# article_vectors = scaler.transform(article_vectors)"
   ]
  },
  {
   "cell_type": "code",
   "execution_count": 15,
   "metadata": {},
   "outputs": [],
   "source": [
    "# # Normalize the original interaction matrix\n",
    "# interaction_matrix_normalized = MinMaxScaler().fit_transform(interaction_matrix)\n"
   ]
  },
  {
   "cell_type": "code",
   "execution_count": 16,
   "metadata": {},
   "outputs": [],
   "source": [
    "# Get the indices of the non-zero entries in the interaction matrix\n",
    "user_idx, article_idx = np.where(interaction_matrix != 0) # intraction_matrix ->interaction_matrix_normalized\n",
    "read_times = interaction_matrix[user_idx, article_idx]  # intraction_matrix ->interaction_matrix_normalized"
   ]
  },
  {
   "cell_type": "code",
   "execution_count": 17,
   "metadata": {},
   "outputs": [],
   "source": [
    "\n",
    "# Save to \n",
    "# Create the input features by concatenating user and article vectors\n",
    "X = np.hstack((user_vectors[user_idx], article_vectors[article_idx]))\n",
    "y = read_times\n"
   ]
  },
  {
   "cell_type": "code",
   "execution_count": 18,
   "metadata": {},
   "outputs": [
    {
     "data": {
      "text/plain": [
       "array([24., 13., 48., ..., 72.,  6.,  5.], dtype=float32)"
      ]
     },
     "execution_count": 18,
     "metadata": {},
     "output_type": "execute_result"
    }
   ],
   "source": [
    "y"
   ]
  },
  {
   "cell_type": "code",
   "execution_count": 19,
   "metadata": {},
   "outputs": [
    {
     "data": {
      "text/plain": [
       "array([[ 7.1461000e-02,  6.0259610e-01,  1.8119292e-01, ...,\n",
       "         1.5276287e+00,  3.0736873e+00, -2.5205661e-02],\n",
       "       [ 7.1461000e-02,  6.0259610e-01,  1.8119292e-01, ...,\n",
       "         2.4914631e-01,  4.3959939e-01, -3.0741459e-03],\n",
       "       [ 7.1461000e-02,  6.0259610e-01,  1.8119292e-01, ...,\n",
       "         4.2080641e-02,  7.0113197e-02, -9.4154244e-04],\n",
       "       ...,\n",
       "       [ 7.5699188e-02, -7.1945332e-02,  6.2112313e-02, ...,\n",
       "         1.2241589e+00,  2.3929875e+00, -2.1979639e-02],\n",
       "       [ 7.5699188e-02, -7.1945332e-02,  6.2112313e-02, ...,\n",
       "         1.7365469e-01,  4.3910721e-01, -2.7896633e-02],\n",
       "       [ 7.5699188e-02, -7.1945332e-02,  6.2112313e-02, ...,\n",
       "         2.4340646e-02,  1.4494219e-01, -1.3680035e-03]], dtype=float32)"
      ]
     },
     "execution_count": 19,
     "metadata": {},
     "output_type": "execute_result"
    }
   ],
   "source": [
    "X"
   ]
  },
  {
   "cell_type": "code",
   "execution_count": 20,
   "metadata": {},
   "outputs": [],
   "source": [
    "# Save file\n",
    "numpy_file_path = f'./files/numpy/X_{type_}_{size}'\n",
    "\n",
    "np.save(numpy_file_path,X)"
   ]
  },
  {
   "cell_type": "code",
   "execution_count": 21,
   "metadata": {},
   "outputs": [],
   "source": [
    "# Save file\n",
    "numpy_file_path = f'./files/numpy/y_{type_}_{size}'\n",
    "\n",
    "np.save(numpy_file_path,y)"
   ]
  },
  {
   "cell_type": "code",
   "execution_count": null,
   "metadata": {},
   "outputs": [],
   "source": []
  }
 ],
 "metadata": {
  "kernelspec": {
   "display_name": "base",
   "language": "python",
   "name": "python3"
  },
  "language_info": {
   "codemirror_mode": {
    "name": "ipython",
    "version": 3
   },
   "file_extension": ".py",
   "mimetype": "text/x-python",
   "name": "python",
   "nbconvert_exporter": "python",
   "pygments_lexer": "ipython3",
   "version": "3.12.4"
  }
 },
 "nbformat": 4,
 "nbformat_minor": 2
}
